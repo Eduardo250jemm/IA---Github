{
 "cells": [
  {
   "cell_type": "code",
   "execution_count": 3,
   "id": "79f99296-4bed-4ba7-882d-66a4293a6a8b",
   "metadata": {},
   "outputs": [],
   "source": [
    "import pandas as pd\n",
    "\n",
    "# Cargar los documentos desde archivos de texto o como strings\n",
    "# Si tienes tus documentos en archivos .txt, por ejemplo:\n",
    "documentos = []\n",
    "with open('ComisiónPuntosConstitucionales.txt', 'r', encoding='utf-8') as file:\n",
    "    documentos.append(file.read())\n",
    "\n",
    "# Agregar más documentos si es necesario\n",
    "# documentos.append(open('documento2.txt', 'r', encoding='utf-8').read())\n",
    "\n",
    "# Crear un dataframe para organizar los documentos\n",
    "df = pd.DataFrame(documentos, columns=['Texto'])"
   ]
  },
  {
   "cell_type": "code",
   "execution_count": 4,
   "id": "28d263c5-c90b-4e1b-ba1b-45760cb88127",
   "metadata": {},
   "outputs": [
    {
     "data": {
      "text/html": [
       "<div>\n",
       "<style scoped>\n",
       "    .dataframe tbody tr th:only-of-type {\n",
       "        vertical-align: middle;\n",
       "    }\n",
       "\n",
       "    .dataframe tbody tr th {\n",
       "        vertical-align: top;\n",
       "    }\n",
       "\n",
       "    .dataframe thead th {\n",
       "        text-align: right;\n",
       "    }\n",
       "</style>\n",
       "<table border=\"1\" class=\"dataframe\">\n",
       "  <thead>\n",
       "    <tr style=\"text-align: right;\">\n",
       "      <th></th>\n",
       "      <th>Texto</th>\n",
       "      <th>Sentimiento_TextBlob</th>\n",
       "    </tr>\n",
       "  </thead>\n",
       "  <tbody>\n",
       "    <tr>\n",
       "      <th>0</th>\n",
       "      <td>Comisión de Puntos Constitucionales aprobó dic...</td>\n",
       "      <td>0.0875</td>\n",
       "    </tr>\n",
       "  </tbody>\n",
       "</table>\n",
       "</div>"
      ],
      "text/plain": [
       "                                               Texto  Sentimiento_TextBlob\n",
       "0  Comisión de Puntos Constitucionales aprobó dic...                0.0875"
      ]
     },
     "execution_count": 4,
     "metadata": {},
     "output_type": "execute_result"
    }
   ],
   "source": [
    "from textblob import TextBlob\n",
    "\n",
    "# Función para obtener el análisis de sentimiento usando TextBlob\n",
    "def analizar_sentimiento(texto):\n",
    "    blob = TextBlob(texto)\n",
    "    return blob.sentiment.polarity\n",
    "\n",
    "# Aplicar la función de análisis de sentimiento a cada documento\n",
    "df['Sentimiento_TextBlob'] = df['Texto'].apply(analizar_sentimiento)\n",
    "\n",
    "# Ver los resultados\n",
    "df.head()"
   ]
  },
  {
   "cell_type": "code",
   "execution_count": 5,
   "id": "6eae632a-ee90-4b09-8767-88f14dc7d65e",
   "metadata": {},
   "outputs": [
    {
     "data": {
      "text/html": [
       "<div>\n",
       "<style scoped>\n",
       "    .dataframe tbody tr th:only-of-type {\n",
       "        vertical-align: middle;\n",
       "    }\n",
       "\n",
       "    .dataframe tbody tr th {\n",
       "        vertical-align: top;\n",
       "    }\n",
       "\n",
       "    .dataframe thead th {\n",
       "        text-align: right;\n",
       "    }\n",
       "</style>\n",
       "<table border=\"1\" class=\"dataframe\">\n",
       "  <thead>\n",
       "    <tr style=\"text-align: right;\">\n",
       "      <th></th>\n",
       "      <th>Texto</th>\n",
       "      <th>Sentimiento_TextBlob</th>\n",
       "      <th>Sentimiento_VADER</th>\n",
       "    </tr>\n",
       "  </thead>\n",
       "  <tbody>\n",
       "    <tr>\n",
       "      <th>0</th>\n",
       "      <td>Comisión de Puntos Constitucionales aprobó dic...</td>\n",
       "      <td>0.0875</td>\n",
       "      <td>0.4019</td>\n",
       "    </tr>\n",
       "  </tbody>\n",
       "</table>\n",
       "</div>"
      ],
      "text/plain": [
       "                                               Texto  Sentimiento_TextBlob  \\\n",
       "0  Comisión de Puntos Constitucionales aprobó dic...                0.0875   \n",
       "\n",
       "   Sentimiento_VADER  \n",
       "0             0.4019  "
      ]
     },
     "execution_count": 5,
     "metadata": {},
     "output_type": "execute_result"
    }
   ],
   "source": [
    "from vaderSentiment.vaderSentiment import SentimentIntensityAnalyzer\n",
    "\n",
    "# Inicializar el analizador de VADER\n",
    "analyzer = SentimentIntensityAnalyzer()\n",
    "\n",
    "# Función para obtener el análisis de sentimiento con VADER\n",
    "def analizar_sentimiento_vader(texto):\n",
    "    return analyzer.polarity_scores(texto)\n",
    "\n",
    "# Aplicar la función de VADER al dataframe\n",
    "df['Sentimiento_VADER'] = df['Texto'].apply(lambda x: analizar_sentimiento_vader(x)['compound'])\n",
    "\n",
    "# Ver los resultados\n",
    "df.head()"
   ]
  },
  {
   "cell_type": "code",
   "execution_count": 6,
   "id": "910f03de-4e94-40a7-80c2-ceedcc329d2f",
   "metadata": {},
   "outputs": [
    {
     "data": {
      "image/png": "[encoded data removed]",
      "text/plain": [
       "<Figure size 1000x600 with 1 Axes>"
      ]
     },
     "metadata": {},
     "output_type": "display_data"
    }
   ],
   "source": [
    "import matplotlib.pyplot as plt\n",
    "\n",
    "# Graficar el análisis de sentimientos\n",
    "plt.figure(figsize=(10, 6))\n",
    "plt.hist(df['Sentimiento_TextBlob'], bins=30, alpha=0.5, label='TextBlob')\n",
    "plt.hist(df['Sentimiento_VADER'], bins=30, alpha=0.5, label='VADER')\n",
    "plt.legend()\n",
    "plt.title('Distribución de Sentimientos')\n",
    "plt.xlabel('Sentimiento')\n",
    "plt.ylabel('Frecuencia')\n",
    "plt.show()"
   ]
  },
  {
   "cell_type": "code",
   "execution_count": 8,
   "id": "568657d7-1b2a-4fcb-b2ed-337460cf64ba",
   "metadata": {},
   "outputs": [
    {
     "name": "stdout",
     "output_type": "stream",
     "text": [
      "REFORMA AL PODER JUDICIAL12 DE FEBRERO DE 2024\n",
      "REFORMA AL PODER JUDICIAL1.  Una nueva integración de la Suprema Corte de Justicia de la Nación.•Eficiencia, austeridad y transparencia en el Máximo Tribunal. 2.  Elección popular de Ministros, Magistrados y Jueces.•Legitimidad democrática de las y los impartidores de justicia.3.  Sustitución del Consejo de la Judicatura Federal.•Órganos administrativos y disciplinarios independientes. 4.  Nuevas reglas procesales.•Justicia expedita y equilibrios en\n"
     ]
    }
   ],
   "source": [
    "import PyPDF2\n",
    "\n",
    "# Función para extraer texto de un PDF\n",
    "def extraer_texto_pdf(pdf_path):\n",
    "    with open(pdf_path, 'rb') as file:\n",
    "        reader = PyPDF2.PdfReader(file)\n",
    "        texto = \"\"\n",
    "        # Extraer texto de cada página del PDF\n",
    "        for page in reader.pages:\n",
    "            texto += page.extract_text()\n",
    "    return texto\n",
    "\n",
    "# Usar la función para extraer texto de un PDF\n",
    "pdf_path = 'REFORMA_AL_PODER_JUDICIAL.pdf'  # Ruta al archivo PDF\n",
    "texto_pdf = extraer_texto_pdf(pdf_path)\n",
    "\n",
    "# Ver los primeros 500 caracteres del texto extraído\n",
    "print(texto_pdf[:500])\n"
   ]
  },
  {
   "cell_type": "code",
   "execution_count": 9,
   "id": "085ffd42-695c-42e9-8187-24de8fc55180",
   "metadata": {},
   "outputs": [
    {
     "name": "stdout",
     "output_type": "stream",
     "text": [
      "Sentimiento (TextBlob): 0.39999999999999997\n",
      "Sentimiento (VADER): 0.5719\n"
     ]
    }
   ],
   "source": [
    "from textblob import TextBlob\n",
    "from vaderSentiment.vaderSentiment import SentimentIntensityAnalyzer\n",
    "\n",
    "# Función para obtener el análisis de sentimiento usando TextBlob\n",
    "def analizar_sentimiento(texto):\n",
    "    blob = TextBlob(texto)\n",
    "    return blob.sentiment.polarity\n",
    "\n",
    "# Función para obtener el análisis de sentimiento con VADER\n",
    "def analizar_sentimiento_vader(texto):\n",
    "    analyzer = SentimentIntensityAnalyzer()\n",
    "    return analyzer.polarity_scores(texto)['compound']\n",
    "\n",
    "# Aplicar el análisis de sentimientos\n",
    "sentimiento_textblob = analizar_sentimiento(texto_pdf)\n",
    "sentimiento_vader = analizar_sentimiento_vader(texto_pdf)\n",
    "\n",
    "print(f\"Sentimiento (TextBlob): {sentimiento_textblob}\")\n",
    "print(f\"Sentimiento (VADER): {sentimiento_vader}\")"
   ]
  },
  {
   "cell_type": "code",
   "execution_count": 10,
   "id": "0fbe7933-5dc0-47ff-9126-9bebc90a6419",
   "metadata": {},
   "outputs": [
    {
     "data": {
      "image/png": "[encoded data removed]",
      "text/plain": [
       "<Figure size 800x600 with 1 Axes>"
      ]
     },
     "metadata": {},
     "output_type": "display_data"
    }
   ],
   "source": [
    "import matplotlib.pyplot as plt\n",
    "\n",
    "# Crear una función para graficar los resultados de sentimientos\n",
    "def graficar_sentimiento(sentimiento_textblob, sentimiento_vader):\n",
    "    # Definir los valores para las gráficas\n",
    "    etiquetas = ['TextBlob', 'VADER']\n",
    "    valores = [sentimiento_textblob, sentimiento_vader]\n",
    "    \n",
    "    # Crear el gráfico de barras\n",
    "    plt.figure(figsize=(8, 6))\n",
    "    plt.bar(etiquetas, valores, color=['blue', 'orange'])\n",
    "    \n",
    "    # Añadir título y etiquetas\n",
    "    plt.title('Análisis de Sentimientos', fontsize=14)\n",
    "    plt.xlabel('Método de Análisis', fontsize=12)\n",
    "    plt.ylabel('Puntuación de Sentimiento', fontsize=12)\n",
    "    \n",
    "    # Mostrar el gráfico\n",
    "    plt.show()\n",
    "\n",
    "# Llamar a la función para graficar\n",
    "graficar_sentimiento(sentimiento_textblob, sentimiento_vader)\n"
   ]
  },
  {
   "cell_type": "code",
   "execution_count": 2,
   "id": "86e3cfa7-9ae6-4fd8-9f6c-37757557a0b3",
   "metadata": {},
   "outputs": [],
   "source": [
    "import pandas as pd\n",
    "\n",
    "# Cargar los documentos desde archivos de texto o como strings\n",
    "# Si tienes tus documentos en archivos .txt, por ejemplo:\n",
    "documentos = []\n",
    "with open('twist_ReformaPoderJudicial.txt', 'r', encoding='utf-8') as file:\n",
    "    documentos.append(file.read())\n",
    "\n",
    "# Agregar más documentos si es necesario\n",
    "# documentos.append(open('documento2.txt', 'r', encoding='utf-8').read())\n",
    "\n",
    "# Crear un dataframe para organizar los documentos\n",
    "df = pd.DataFrame(documentos, columns=['Texto'])"
   ]
  },
  {
   "cell_type": "code",
   "execution_count": 3,
   "id": "5be167e9-ced6-4e42-babf-fbbe54cdde20",
   "metadata": {},
   "outputs": [
    {
     "data": {
      "text/html": [
       "<div>\n",
       "<style scoped>\n",
       "    .dataframe tbody tr th:only-of-type {\n",
       "        vertical-align: middle;\n",
       "    }\n",
       "\n",
       "    .dataframe tbody tr th {\n",
       "        vertical-align: top;\n",
       "    }\n",
       "\n",
       "    .dataframe thead th {\n",
       "        text-align: right;\n",
       "    }\n",
       "</style>\n",
       "<table border=\"1\" class=\"dataframe\">\n",
       "  <thead>\n",
       "    <tr style=\"text-align: right;\">\n",
       "      <th></th>\n",
       "      <th>Texto</th>\n",
       "      <th>Sentimiento_TextBlob</th>\n",
       "    </tr>\n",
       "  </thead>\n",
       "  <tbody>\n",
       "    <tr>\n",
       "      <th>0</th>\n",
       "      <td>\\n@UlyHernandezJimenez\\nhace 3 meses\\nTodo lo ...</td>\n",
       "      <td>-0.027778</td>\n",
       "    </tr>\n",
       "  </tbody>\n",
       "</table>\n",
       "</div>"
      ],
      "text/plain": [
       "                                               Texto  Sentimiento_TextBlob\n",
       "0  \\n@UlyHernandezJimenez\\nhace 3 meses\\nTodo lo ...             -0.027778"
      ]
     },
     "execution_count": 3,
     "metadata": {},
     "output_type": "execute_result"
    }
   ],
   "source": [
    "from textblob import TextBlob\n",
    "\n",
    "# Función para obtener el análisis de sentimiento usando TextBlob\n",
    "def analizar_sentimiento(texto):\n",
    "    blob = TextBlob(texto)\n",
    "    return blob.sentiment.polarity\n",
    "\n",
    "# Aplicar la función de análisis de sentimiento a cada documento\n",
    "df['Sentimiento_TextBlob'] = df['Texto'].apply(analizar_sentimiento)\n",
    "\n",
    "# Ver los resultados\n",
    "df.head()"
   ]
  },
  {
   "cell_type": "code",
   "execution_count": 4,
   "id": "7c26cdd4-04a4-4328-a9a3-59b83746ce41",
   "metadata": {},
   "outputs": [
    {
     "data": {
      "text/html": [
       "<div>\n",
       "<style scoped>\n",
       "    .dataframe tbody tr th:only-of-type {\n",
       "        vertical-align: middle;\n",
       "    }\n",
       "\n",
       "    .dataframe tbody tr th {\n",
       "        vertical-align: top;\n",
       "    }\n",
       "\n",
       "    .dataframe thead th {\n",
       "        text-align: right;\n",
       "    }\n",
       "</style>\n",
       "<table border=\"1\" class=\"dataframe\">\n",
       "  <thead>\n",
       "    <tr style=\"text-align: right;\">\n",
       "      <th></th>\n",
       "      <th>Texto</th>\n",
       "      <th>Sentimiento_TextBlob</th>\n",
       "      <th>Sentimiento_VADER</th>\n",
       "    </tr>\n",
       "  </thead>\n",
       "  <tbody>\n",
       "    <tr>\n",
       "      <th>0</th>\n",
       "      <td>\\n@UlyHernandezJimenez\\nhace 3 meses\\nTodo lo ...</td>\n",
       "      <td>-0.027778</td>\n",
       "      <td>-0.9937</td>\n",
       "    </tr>\n",
       "  </tbody>\n",
       "</table>\n",
       "</div>"
      ],
      "text/plain": [
       "                                               Texto  Sentimiento_TextBlob  \\\n",
       "0  \\n@UlyHernandezJimenez\\nhace 3 meses\\nTodo lo ...             -0.027778   \n",
       "\n",
       "   Sentimiento_VADER  \n",
       "0            -0.9937  "
      ]
     },
     "execution_count": 4,
     "metadata": {},
     "output_type": "execute_result"
    }
   ],
   "source": [
    "from vaderSentiment.vaderSentiment import SentimentIntensityAnalyzer\n",
    "\n",
    "# Inicializar el analizador de VADER\n",
    "analyzer = SentimentIntensityAnalyzer()\n",
    "\n",
    "# Función para obtener el análisis de sentimiento con VADER\n",
    "def analizar_sentimiento_vader(texto):\n",
    "    return analyzer.polarity_scores(texto)\n",
    "\n",
    "# Aplicar la función de VADER al dataframe\n",
    "df['Sentimiento_VADER'] = df['Texto'].apply(lambda x: analizar_sentimiento_vader(x)['compound'])\n",
    "\n",
    "# Ver los resultados\n",
    "df.head()"
   ]
  },
  {
   "cell_type": "code",
   "execution_count": 5,
   "id": "5392ad75-01d5-4e24-9648-51d02592dde9",
   "metadata": {},
   "outputs": [
    {
     "data": {
      "image/png": "[encoded data removed]",
      "text/plain": [
       "<Figure size 1000x600 with 1 Axes>"
      ]
     },
     "metadata": {},
     "output_type": "display_data"
    }
   ],
   "source": [
    "import matplotlib.pyplot as plt\n",
    "\n",
    "# Graficar el análisis de sentimientos\n",
    "plt.figure(figsize=(10, 6))\n",
    "plt.hist(df['Sentimiento_TextBlob'], bins=30, alpha=0.5, label='TextBlob')\n",
    "plt.hist(df['Sentimiento_VADER'], bins=30, alpha=0.5, label='VADER')\n",
    "plt.legend()\n",
    "plt.title('Distribución de Sentimientos')\n",
    "plt.xlabel('Sentimiento')\n",
    "plt.ylabel('Frecuencia')\n",
    "plt.show()"
   ]
  },
  {
   "cell_type": "code",
   "execution_count": null,
   "id": "425269c3-4ba5-4c8e-b19c-0670ba15aa07",
   "metadata": {},
   "outputs": [],
   "source": []
  }
 ],
 "metadata": {
  "kernelspec": {
   "display_name": "Python 3 (ipykernel)",
   "language": "python",
   "name": "python3"
  },
  "language_info": {
   "codemirror_mode": {
    "name": "ipython",
    "version": 3
   },
   "file_extension": ".py",
   "mimetype": "text/x-python",
   "name": "python",
   "nbconvert_exporter": "python",
   "pygments_lexer": "ipython3",
   "version": "3.12.5"
  }
 },
 "nbformat": 4,
 "nbformat_minor": 5
}
