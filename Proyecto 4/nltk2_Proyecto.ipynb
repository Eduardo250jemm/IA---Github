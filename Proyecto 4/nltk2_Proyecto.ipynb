{
 "cells": [
  {
   "cell_type": "code",
   "execution_count": null,
   "id": "717e34e9-61d2-4deb-994a-8f32ffea1f51",
   "metadata": {},
   "outputs": [],
   "source": [
    "import nltk\n",
    "import twint\n",
    "import nest_asyncio\n",
    "nest_asyncio.apply()"
   ]
  },
  {
   "cell_type": "code",
   "execution_count": null,
   "id": "05722192-782d-4bcf-bb1d-89f79484472a",
   "metadata": {},
   "outputs": [],
   "source": [
    "pip install twint --no-deps"
   ]
  },
  {
   "cell_type": "code",
   "execution_count": null,
   "id": "cf10a33f-a831-44f3-915e-7ad88a165f89",
   "metadata": {},
   "outputs": [],
   "source": [
    "import twint\n",
    "\n",
    "# Configuración de búsqueda\n",
    "c = twint.Config()\n",
    "c.Search = \"OpenAI\"  # Palabra clave\n",
    "c.Limit = 5          # Límite de tweets\n",
    "c.Store_csv = True   # Guardar en CSV\n",
    "c.Output = \"tweets.csv\"  # Nombre del archivo CSV\n",
    "\n",
    "# Ejecutar búsqueda\n",
    "twint.run.Search(c)\n"
   ]
  },
  {
   "cell_type": "code",
   "execution_count": 1,
   "id": "50bb3e79-2f52-47a8-ae51-139d95346ba7",
   "metadata": {},
   "outputs": [
    {
     "ename": "ModuleNotFoundError",
     "evalue": "No module named 'fake_useragent'",
     "output_type": "error",
     "traceback": [
      "\u001b[1;31m---------------------------------------------------------------------------\u001b[0m",
      "\u001b[1;31mModuleNotFoundError\u001b[0m                       Traceback (most recent call last)",
      "Cell \u001b[1;32mIn[1], line 1\u001b[0m\n\u001b[1;32m----> 1\u001b[0m \u001b[38;5;28;01mimport\u001b[39;00m \u001b[38;5;21;01mtwint\u001b[39;00m\n\u001b[0;32m      2\u001b[0m \u001b[38;5;28mprint\u001b[39m(\u001b[38;5;124m\"\u001b[39m\u001b[38;5;124mTwint se instaló correctamente\u001b[39m\u001b[38;5;124m\"\u001b[39m)\n",
      "File \u001b[1;32m~\\anaconda3\\envs\\NewBase\\Lib\\site-packages\\twint\\__init__.py:14\u001b[0m\n\u001b[0;32m     12\u001b[0m \u001b[38;5;28;01mfrom\u001b[39;00m \u001b[38;5;21;01m.\u001b[39;00m\u001b[38;5;21;01mconfig\u001b[39;00m \u001b[38;5;28;01mimport\u001b[39;00m Config\n\u001b[0;32m     13\u001b[0m \u001b[38;5;28;01mfrom\u001b[39;00m \u001b[38;5;21;01m.\u001b[39;00m\u001b[38;5;21;01m__version__\u001b[39;00m \u001b[38;5;28;01mimport\u001b[39;00m __version__\n\u001b[1;32m---> 14\u001b[0m \u001b[38;5;28;01mfrom\u001b[39;00m \u001b[38;5;21;01m.\u001b[39;00m \u001b[38;5;28;01mimport\u001b[39;00m run\n\u001b[0;32m     16\u001b[0m _levels \u001b[38;5;241m=\u001b[39m {\n\u001b[0;32m     17\u001b[0m     \u001b[38;5;124m'\u001b[39m\u001b[38;5;124minfo\u001b[39m\u001b[38;5;124m'\u001b[39m: logging\u001b[38;5;241m.\u001b[39mINFO,\n\u001b[0;32m     18\u001b[0m     \u001b[38;5;124m'\u001b[39m\u001b[38;5;124mdebug\u001b[39m\u001b[38;5;124m'\u001b[39m: logging\u001b[38;5;241m.\u001b[39mDEBUG\n\u001b[0;32m     19\u001b[0m }\n\u001b[0;32m     21\u001b[0m _level \u001b[38;5;241m=\u001b[39m os\u001b[38;5;241m.\u001b[39mgetenv(\u001b[38;5;124m'\u001b[39m\u001b[38;5;124mTWINT_DEBUG\u001b[39m\u001b[38;5;124m'\u001b[39m, \u001b[38;5;124m'\u001b[39m\u001b[38;5;124minfo\u001b[39m\u001b[38;5;124m'\u001b[39m)\n",
      "File \u001b[1;32m~\\anaconda3\\envs\\NewBase\\Lib\\site-packages\\twint\\run.py:4\u001b[0m\n\u001b[0;32m      1\u001b[0m \u001b[38;5;28;01mimport\u001b[39;00m \u001b[38;5;21;01msys\u001b[39;00m\u001b[38;5;241m,\u001b[39m \u001b[38;5;21;01mos\u001b[39;00m\u001b[38;5;241m,\u001b[39m \u001b[38;5;21;01mtime\u001b[39;00m\n\u001b[0;32m      2\u001b[0m \u001b[38;5;28;01mfrom\u001b[39;00m \u001b[38;5;21;01masyncio\u001b[39;00m \u001b[38;5;28;01mimport\u001b[39;00m get_event_loop, \u001b[38;5;167;01mTimeoutError\u001b[39;00m, ensure_future, new_event_loop, set_event_loop\n\u001b[1;32m----> 4\u001b[0m \u001b[38;5;28;01mfrom\u001b[39;00m \u001b[38;5;21;01m.\u001b[39;00m \u001b[38;5;28;01mimport\u001b[39;00m datelock, feed, get, output, verbose, storage\n\u001b[0;32m      5\u001b[0m \u001b[38;5;28;01mfrom\u001b[39;00m \u001b[38;5;21;01m.\u001b[39;00m\u001b[38;5;21;01mstorage\u001b[39;00m \u001b[38;5;28;01mimport\u001b[39;00m db\n\u001b[0;32m      7\u001b[0m \u001b[38;5;28;01mimport\u001b[39;00m \u001b[38;5;21;01mlogging\u001b[39;00m \u001b[38;5;28;01mas\u001b[39;00m \u001b[38;5;21;01mlogme\u001b[39;00m\n",
      "File \u001b[1;32m~\\anaconda3\\envs\\NewBase\\Lib\\site-packages\\twint\\get.py:7\u001b[0m\n\u001b[0;32m      5\u001b[0m \u001b[38;5;28;01mimport\u001b[39;00m \u001b[38;5;21;01msocket\u001b[39;00m\n\u001b[0;32m      6\u001b[0m \u001b[38;5;28;01mimport\u001b[39;00m \u001b[38;5;21;01maiohttp\u001b[39;00m\n\u001b[1;32m----> 7\u001b[0m \u001b[38;5;28;01mfrom\u001b[39;00m \u001b[38;5;21;01mfake_useragent\u001b[39;00m \u001b[38;5;28;01mimport\u001b[39;00m UserAgent\n\u001b[0;32m      8\u001b[0m \u001b[38;5;28;01mimport\u001b[39;00m \u001b[38;5;21;01masyncio\u001b[39;00m\n\u001b[0;32m      9\u001b[0m \u001b[38;5;28;01mimport\u001b[39;00m \u001b[38;5;21;01mconcurrent\u001b[39;00m\u001b[38;5;21;01m.\u001b[39;00m\u001b[38;5;21;01mfutures\u001b[39;00m\n",
      "\u001b[1;31mModuleNotFoundError\u001b[0m: No module named 'fake_useragent'"
     ]
    }
   ],
   "source": [
    "import twint\n",
    "print(\"Twint se instaló correctamente\")\n"
   ]
  },
  {
   "cell_type": "code",
   "execution_count": 3,
   "id": "f21503a9-1176-4a7b-824a-0b894654c39a",
   "metadata": {},
   "outputs": [
    {
     "name": "stdout",
     "output_type": "stream",
     "text": [
      "Collecting aiodns\n",
      "  Using cached aiodns-3.2.0-py3-none-any.whl.metadata (4.0 kB)\n",
      "Collecting aiohttp-socks\n",
      "  Using cached aiohttp_socks-0.9.1-py3-none-any.whl.metadata (3.9 kB)\n",
      "Collecting cchardet\n",
      "  Using cached cchardet-2.1.7.tar.gz (653 kB)\n",
      "  Preparing metadata (setup.py): started\n",
      "  Preparing metadata (setup.py): finished with status 'done'\n",
      "Collecting elasticsearch\n",
      "  Using cached elasticsearch-8.17.0-py3-none-any.whl.metadata (8.8 kB)\n",
      "Collecting geopy\n",
      "  Using cached geopy-2.4.1-py3-none-any.whl.metadata (6.8 kB)\n",
      "Collecting googletransx\n",
      "  Using cached googletransx-2.4.2-py3-none-any.whl\n",
      "Collecting schedule\n",
      "  Using cached schedule-1.2.2-py3-none-any.whl.metadata (3.8 kB)\n",
      "Collecting pycares>=4.0.0 (from aiodns)\n",
      "  Using cached pycares-4.5.0-cp312-cp312-win_amd64.whl.metadata (4.3 kB)\n",
      "Requirement already satisfied: aiohttp>=3.10.0 in c:\\users\\marti\\anaconda3\\envs\\newbase\\lib\\site-packages (from aiohttp-socks) (3.11.11)\n",
      "Collecting python-socks<3.0.0,>=2.4.3 (from python-socks[asyncio]<3.0.0,>=2.4.3->aiohttp-socks)\n",
      "  Using cached python_socks-2.5.3-py3-none-any.whl.metadata (7.0 kB)\n",
      "Collecting elastic-transport<9,>=8.15.1 (from elasticsearch)\n",
      "  Using cached elastic_transport-8.15.1-py3-none-any.whl.metadata (3.7 kB)\n",
      "Collecting geographiclib<3,>=1.52 (from geopy)\n",
      "  Using cached geographiclib-2.0-py3-none-any.whl.metadata (1.4 kB)\n",
      "Requirement already satisfied: requests in c:\\users\\marti\\anaconda3\\envs\\newbase\\lib\\site-packages (from googletransx) (2.32.3)\n",
      "Requirement already satisfied: aiohappyeyeballs>=2.3.0 in c:\\users\\marti\\anaconda3\\envs\\newbase\\lib\\site-packages (from aiohttp>=3.10.0->aiohttp-socks) (2.4.4)\n",
      "Requirement already satisfied: aiosignal>=1.1.2 in c:\\users\\marti\\anaconda3\\envs\\newbase\\lib\\site-packages (from aiohttp>=3.10.0->aiohttp-socks) (1.3.2)\n",
      "Requirement already satisfied: attrs>=17.3.0 in c:\\users\\marti\\anaconda3\\envs\\newbase\\lib\\site-packages (from aiohttp>=3.10.0->aiohttp-socks) (23.1.0)\n",
      "Requirement already satisfied: frozenlist>=1.1.1 in c:\\users\\marti\\anaconda3\\envs\\newbase\\lib\\site-packages (from aiohttp>=3.10.0->aiohttp-socks) (1.5.0)\n",
      "Requirement already satisfied: multidict<7.0,>=4.5 in c:\\users\\marti\\anaconda3\\envs\\newbase\\lib\\site-packages (from aiohttp>=3.10.0->aiohttp-socks) (6.1.0)\n",
      "Requirement already satisfied: propcache>=0.2.0 in c:\\users\\marti\\anaconda3\\envs\\newbase\\lib\\site-packages (from aiohttp>=3.10.0->aiohttp-socks) (0.2.1)\n",
      "Requirement already satisfied: yarl<2.0,>=1.17.0 in c:\\users\\marti\\anaconda3\\envs\\newbase\\lib\\site-packages (from aiohttp>=3.10.0->aiohttp-socks) (1.18.3)\n",
      "Requirement already satisfied: urllib3<3,>=1.26.2 in c:\\users\\marti\\anaconda3\\envs\\newbase\\lib\\site-packages (from elastic-transport<9,>=8.15.1->elasticsearch) (2.2.2)\n",
      "Requirement already satisfied: certifi in c:\\users\\marti\\anaconda3\\envs\\newbase\\lib\\site-packages (from elastic-transport<9,>=8.15.1->elasticsearch) (2024.8.30)\n",
      "Requirement already satisfied: cffi>=1.5.0 in c:\\users\\marti\\anaconda3\\envs\\newbase\\lib\\site-packages (from pycares>=4.0.0->aiodns) (1.17.1)\n",
      "Requirement already satisfied: charset-normalizer<4,>=2 in c:\\users\\marti\\anaconda3\\envs\\newbase\\lib\\site-packages (from requests->googletransx) (3.4.0)\n",
      "Requirement already satisfied: idna<4,>=2.5 in c:\\users\\marti\\anaconda3\\envs\\newbase\\lib\\site-packages (from requests->googletransx) (3.7)\n",
      "Requirement already satisfied: pycparser in c:\\users\\marti\\anaconda3\\envs\\newbase\\lib\\site-packages (from cffi>=1.5.0->pycares>=4.0.0->aiodns) (2.21)\n",
      "Using cached aiodns-3.2.0-py3-none-any.whl (5.7 kB)\n",
      "Using cached aiohttp_socks-0.9.1-py3-none-any.whl (9.9 kB)\n",
      "Using cached elasticsearch-8.17.0-py3-none-any.whl (571 kB)\n",
      "Using cached geopy-2.4.1-py3-none-any.whl (125 kB)\n",
      "Using cached schedule-1.2.2-py3-none-any.whl (12 kB)\n",
      "Using cached elastic_transport-8.15.1-py3-none-any.whl (64 kB)\n",
      "Using cached geographiclib-2.0-py3-none-any.whl (40 kB)\n",
      "Using cached pycares-4.5.0-cp312-cp312-win_amd64.whl (76 kB)\n",
      "Using cached python_socks-2.5.3-py3-none-any.whl (52 kB)\n",
      "Building wheels for collected packages: cchardet\n",
      "  Building wheel for cchardet (setup.py): started\n",
      "  Building wheel for cchardet (setup.py): finished with status 'error'\n",
      "  Running setup.py clean for cchardet\n",
      "Failed to build cchardet\n",
      "Note: you may need to restart the kernel to use updated packages.\n"
     ]
    },
    {
     "name": "stderr",
     "output_type": "stream",
     "text": [
      "  error: subprocess-exited-with-error\n",
      "  \n",
      "  python setup.py bdist_wheel did not run successfully.\n",
      "  exit code: 1\n",
      "  \n",
      "  [15 lines of output]\n",
      "  running bdist_wheel\n",
      "  running build\n",
      "  running build_py\n",
      "  creating build\\lib.win-amd64-cpython-312\\cchardet\n",
      "  copying src\\cchardet\\version.py -> build\\lib.win-amd64-cpython-312\\cchardet\n",
      "  copying src\\cchardet\\__init__.py -> build\\lib.win-amd64-cpython-312\\cchardet\n",
      "  running build_ext\n",
      "  building 'cchardet._cchardet' extension\n",
      "  creating build\\temp.win-amd64-cpython-312\\Release\\src\\cchardet\n",
      "  creating build\\temp.win-amd64-cpython-312\\Release\\src\\ext\\uchardet\\src\n",
      "  creating build\\temp.win-amd64-cpython-312\\Release\\src\\ext\\uchardet\\src\\LangModels\n",
      "  \"C:\\Program Files (x86)\\Microsoft Visual Studio\\2022\\BuildTools\\VC\\Tools\\MSVC\\14.42.34433\\bin\\HostX86\\x64\\cl.exe\" /c /nologo /O2 /W3 /GL /DNDEBUG /MD -Isrc/ext/uchardet/src -IC:\\Users\\marti\\anaconda3\\envs\\NewBase\\include -IC:\\Users\\marti\\anaconda3\\envs\\NewBase\\Include \"-IC:\\Program Files (x86)\\Microsoft Visual Studio\\2022\\BuildTools\\VC\\Tools\\MSVC\\14.42.34433\\include\" \"-IC:\\Program Files (x86)\\Microsoft Visual Studio\\2022\\BuildTools\\VC\\Auxiliary\\VS\\include\" \"-IC:\\Program Files (x86)\\Windows Kits\\10\\include\\10.0.22621.0\\ucrt\" \"-IC:\\Program Files (x86)\\Windows Kits\\10\\\\include\\10.0.22621.0\\\\um\" \"-IC:\\Program Files (x86)\\Windows Kits\\10\\\\include\\10.0.22621.0\\\\shared\" \"-IC:\\Program Files (x86)\\Windows Kits\\10\\\\include\\10.0.22621.0\\\\winrt\" \"-IC:\\Program Files (x86)\\Windows Kits\\10\\\\include\\10.0.22621.0\\\\cppwinrt\" /EHsc /Tpsrc/cchardet\\_cchardet.cpp /Fobuild\\temp.win-amd64-cpython-312\\Release\\src/cchardet\\_cchardet.obj\n",
      "  _cchardet.cpp\n",
      "  src/cchardet\\_cchardet.cpp(196): fatal error C1083: No se puede abrir el archivo incluir: 'longintrepr.h': No such file or directory\n",
      "  error: command 'C:\\\\Program Files (x86)\\\\Microsoft Visual Studio\\\\2022\\\\BuildTools\\\\VC\\\\Tools\\\\MSVC\\\\14.42.34433\\\\bin\\\\HostX86\\\\x64\\\\cl.exe' failed with exit code 2\n",
      "  [end of output]\n",
      "  \n",
      "  note: This error originates from a subprocess, and is likely not a problem with pip.\n",
      "  ERROR: Failed building wheel for cchardet\n",
      "ERROR: ERROR: Failed to build installable wheels for some pyproject.toml based projects (cchardet)\n"
     ]
    }
   ],
   "source": [
    "pip install aiodns aiohttp-socks cchardet elasticsearch geopy googletransx schedule"
   ]
  },
  {
   "cell_type": "code",
   "execution_count": 5,
   "id": "148d411c-fe19-45ed-9dd8-2219b43faa2c",
   "metadata": {},
   "outputs": [
    {
     "name": "stdout",
     "output_type": "stream",
     "text": [
      "Collecting aiodns\n",
      "  Using cached aiodns-3.2.0-py3-none-any.whl.metadata (4.0 kB)\n",
      "Collecting aiohttp-socks\n",
      "  Using cached aiohttp_socks-0.9.1-py3-none-any.whl.metadata (3.9 kB)\n",
      "Collecting cchardet\n",
      "  Using cached cchardet-2.1.7.tar.gz (653 kB)\n",
      "  Preparing metadata (setup.py): started\n",
      "  Preparing metadata (setup.py): finished with status 'done'\n",
      "Collecting elasticsearch\n",
      "  Using cached elasticsearch-8.17.0-py3-none-any.whl.metadata (8.8 kB)\n",
      "Collecting geopy\n",
      "  Using cached geopy-2.4.1-py3-none-any.whl.metadata (6.8 kB)\n",
      "Collecting googletransx\n",
      "  Using cached googletransx-2.4.2-py3-none-any.whl\n",
      "Collecting schedule\n",
      "  Using cached schedule-1.2.2-py3-none-any.whl.metadata (3.8 kB)\n",
      "Collecting pycares>=4.0.0 (from aiodns)\n",
      "  Using cached pycares-4.5.0-cp312-cp312-win_amd64.whl.metadata (4.3 kB)\n",
      "Requirement already satisfied: aiohttp>=3.10.0 in c:\\users\\marti\\anaconda3\\envs\\newbase\\lib\\site-packages (from aiohttp-socks) (3.11.11)\n",
      "Collecting python-socks<3.0.0,>=2.4.3 (from python-socks[asyncio]<3.0.0,>=2.4.3->aiohttp-socks)\n",
      "  Using cached python_socks-2.5.3-py3-none-any.whl.metadata (7.0 kB)\n",
      "Collecting elastic-transport<9,>=8.15.1 (from elasticsearch)\n",
      "  Using cached elastic_transport-8.15.1-py3-none-any.whl.metadata (3.7 kB)\n",
      "Collecting geographiclib<3,>=1.52 (from geopy)\n",
      "  Using cached geographiclib-2.0-py3-none-any.whl.metadata (1.4 kB)\n",
      "Requirement already satisfied: requests in c:\\users\\marti\\anaconda3\\envs\\newbase\\lib\\site-packages (from googletransx) (2.32.3)\n",
      "Requirement already satisfied: aiohappyeyeballs>=2.3.0 in c:\\users\\marti\\anaconda3\\envs\\newbase\\lib\\site-packages (from aiohttp>=3.10.0->aiohttp-socks) (2.4.4)\n",
      "Requirement already satisfied: aiosignal>=1.1.2 in c:\\users\\marti\\anaconda3\\envs\\newbase\\lib\\site-packages (from aiohttp>=3.10.0->aiohttp-socks) (1.3.2)\n",
      "Requirement already satisfied: attrs>=17.3.0 in c:\\users\\marti\\anaconda3\\envs\\newbase\\lib\\site-packages (from aiohttp>=3.10.0->aiohttp-socks) (23.1.0)\n",
      "Requirement already satisfied: frozenlist>=1.1.1 in c:\\users\\marti\\anaconda3\\envs\\newbase\\lib\\site-packages (from aiohttp>=3.10.0->aiohttp-socks) (1.5.0)\n",
      "Requirement already satisfied: multidict<7.0,>=4.5 in c:\\users\\marti\\anaconda3\\envs\\newbase\\lib\\site-packages (from aiohttp>=3.10.0->aiohttp-socks) (6.1.0)\n",
      "Requirement already satisfied: propcache>=0.2.0 in c:\\users\\marti\\anaconda3\\envs\\newbase\\lib\\site-packages (from aiohttp>=3.10.0->aiohttp-socks) (0.2.1)\n",
      "Requirement already satisfied: yarl<2.0,>=1.17.0 in c:\\users\\marti\\anaconda3\\envs\\newbase\\lib\\site-packages (from aiohttp>=3.10.0->aiohttp-socks) (1.18.3)\n",
      "Requirement already satisfied: urllib3<3,>=1.26.2 in c:\\users\\marti\\anaconda3\\envs\\newbase\\lib\\site-packages (from elastic-transport<9,>=8.15.1->elasticsearch) (2.2.2)\n",
      "Requirement already satisfied: certifi in c:\\users\\marti\\anaconda3\\envs\\newbase\\lib\\site-packages (from elastic-transport<9,>=8.15.1->elasticsearch) (2024.8.30)\n",
      "Requirement already satisfied: cffi>=1.5.0 in c:\\users\\marti\\anaconda3\\envs\\newbase\\lib\\site-packages (from pycares>=4.0.0->aiodns) (1.17.1)\n",
      "Requirement already satisfied: charset-normalizer<4,>=2 in c:\\users\\marti\\anaconda3\\envs\\newbase\\lib\\site-packages (from requests->googletransx) (3.4.0)\n",
      "Requirement already satisfied: idna<4,>=2.5 in c:\\users\\marti\\anaconda3\\envs\\newbase\\lib\\site-packages (from requests->googletransx) (3.7)\n",
      "Requirement already satisfied: pycparser in c:\\users\\marti\\anaconda3\\envs\\newbase\\lib\\site-packages (from cffi>=1.5.0->pycares>=4.0.0->aiodns) (2.21)\n",
      "Using cached aiodns-3.2.0-py3-none-any.whl (5.7 kB)\n",
      "Using cached aiohttp_socks-0.9.1-py3-none-any.whl (9.9 kB)\n",
      "Using cached elasticsearch-8.17.0-py3-none-any.whl (571 kB)\n",
      "Using cached geopy-2.4.1-py3-none-any.whl (125 kB)\n",
      "Using cached schedule-1.2.2-py3-none-any.whl (12 kB)\n",
      "Using cached elastic_transport-8.15.1-py3-none-any.whl (64 kB)\n",
      "Using cached geographiclib-2.0-py3-none-any.whl (40 kB)\n",
      "Using cached pycares-4.5.0-cp312-cp312-win_amd64.whl (76 kB)\n",
      "Using cached python_socks-2.5.3-py3-none-any.whl (52 kB)\n",
      "Building wheels for collected packages: cchardet\n",
      "  Building wheel for cchardet (setup.py): started\n",
      "  Building wheel for cchardet (setup.py): finished with status 'error'\n",
      "  Running setup.py clean for cchardet\n",
      "Failed to build cchardet\n",
      "Note: you may need to restart the kernel to use updated packages.\n"
     ]
    },
    {
     "name": "stderr",
     "output_type": "stream",
     "text": [
      "  error: subprocess-exited-with-error\n",
      "  \n",
      "  python setup.py bdist_wheel did not run successfully.\n",
      "  exit code: 1\n",
      "  \n",
      "  [15 lines of output]\n",
      "  running bdist_wheel\n",
      "  running build\n",
      "  running build_py\n",
      "  creating build\\lib.win-amd64-cpython-312\\cchardet\n",
      "  copying src\\cchardet\\version.py -> build\\lib.win-amd64-cpython-312\\cchardet\n",
      "  copying src\\cchardet\\__init__.py -> build\\lib.win-amd64-cpython-312\\cchardet\n",
      "  running build_ext\n",
      "  building 'cchardet._cchardet' extension\n",
      "  creating build\\temp.win-amd64-cpython-312\\Release\\src\\cchardet\n",
      "  creating build\\temp.win-amd64-cpython-312\\Release\\src\\ext\\uchardet\\src\n",
      "  creating build\\temp.win-amd64-cpython-312\\Release\\src\\ext\\uchardet\\src\\LangModels\n",
      "  \"C:\\Program Files (x86)\\Microsoft Visual Studio\\2022\\BuildTools\\VC\\Tools\\MSVC\\14.42.34433\\bin\\HostX86\\x64\\cl.exe\" /c /nologo /O2 /W3 /GL /DNDEBUG /MD -Isrc/ext/uchardet/src -IC:\\Users\\marti\\anaconda3\\envs\\NewBase\\include -IC:\\Users\\marti\\anaconda3\\envs\\NewBase\\Include \"-IC:\\Program Files (x86)\\Microsoft Visual Studio\\2022\\BuildTools\\VC\\Tools\\MSVC\\14.42.34433\\include\" \"-IC:\\Program Files (x86)\\Microsoft Visual Studio\\2022\\BuildTools\\VC\\Auxiliary\\VS\\include\" \"-IC:\\Program Files (x86)\\Windows Kits\\10\\include\\10.0.22621.0\\ucrt\" \"-IC:\\Program Files (x86)\\Windows Kits\\10\\\\include\\10.0.22621.0\\\\um\" \"-IC:\\Program Files (x86)\\Windows Kits\\10\\\\include\\10.0.22621.0\\\\shared\" \"-IC:\\Program Files (x86)\\Windows Kits\\10\\\\include\\10.0.22621.0\\\\winrt\" \"-IC:\\Program Files (x86)\\Windows Kits\\10\\\\include\\10.0.22621.0\\\\cppwinrt\" /EHsc /Tpsrc/cchardet\\_cchardet.cpp /Fobuild\\temp.win-amd64-cpython-312\\Release\\src/cchardet\\_cchardet.obj\n",
      "  _cchardet.cpp\n",
      "  src/cchardet\\_cchardet.cpp(196): fatal error C1083: No se puede abrir el archivo incluir: 'longintrepr.h': No such file or directory\n",
      "  error: command 'C:\\\\Program Files (x86)\\\\Microsoft Visual Studio\\\\2022\\\\BuildTools\\\\VC\\\\Tools\\\\MSVC\\\\14.42.34433\\\\bin\\\\HostX86\\\\x64\\\\cl.exe' failed with exit code 2\n",
      "  [end of output]\n",
      "  \n",
      "  note: This error originates from a subprocess, and is likely not a problem with pip.\n",
      "  ERROR: Failed building wheel for cchardet\n",
      "ERROR: ERROR: Failed to build installable wheels for some pyproject.toml based projects (cchardet)\n"
     ]
    }
   ],
   "source": [
    "pip install aiodns aiohttp-socks cchardet elasticsearch geopy googletransx schedule"
   ]
  },
  {
   "cell_type": "code",
   "execution_count": 2,
   "id": "39a5c571-f541-470c-ad58-5f575fe03a23",
   "metadata": {},
   "outputs": [
    {
     "name": "stdout",
     "output_type": "stream",
     "text": [
      "Requirement already satisfied: pip in c:\\users\\marti\\anaconda3\\envs\\newbase\\lib\\site-packages (24.2)\n",
      "Collecting pip\n",
      "  Downloading pip-24.3.1-py3-none-any.whl.metadata (3.7 kB)\n",
      "Requirement already satisfied: setuptools in c:\\users\\marti\\anaconda3\\envs\\newbase\\lib\\site-packages (75.1.0)\n",
      "Collecting setuptools\n",
      "  Downloading setuptools-75.6.0-py3-none-any.whl.metadata (6.7 kB)\n",
      "Requirement already satisfied: wheel in c:\\users\\marti\\anaconda3\\envs\\newbase\\lib\\site-packages (0.44.0)\n",
      "Collecting wheel\n",
      "  Using cached wheel-0.45.1-py3-none-any.whl.metadata (2.3 kB)\n",
      "Downloading pip-24.3.1-py3-none-any.whl (1.8 MB)\n",
      "   ---------------------------------------- 0.0/1.8 MB ? eta -:--:--\n",
      "   ---------------------------------------- 0.0/1.8 MB ? eta -:--:--\n",
      "   ---------------------------------------- 0.0/1.8 MB ? eta -:--:--\n",
      "   ----- ---------------------------------- 0.3/1.8 MB ? eta -:--:--\n",
      "   ----------- ---------------------------- 0.5/1.8 MB 1.5 MB/s eta 0:00:01\n",
      "   ---------------------------- ----------- 1.3/1.8 MB 2.4 MB/s eta 0:00:01\n",
      "   ---------------------------------------- 1.8/1.8 MB 2.6 MB/s eta 0:00:00\n",
      "Downloading setuptools-75.6.0-py3-none-any.whl (1.2 MB)\n",
      "   ---------------------------------------- 0.0/1.2 MB ? eta -:--:--\n",
      "   ------------------------- -------------- 0.8/1.2 MB 4.2 MB/s eta 0:00:01\n",
      "   ---------------------------------------- 1.2/1.2 MB 3.8 MB/s eta 0:00:00\n",
      "Using cached wheel-0.45.1-py3-none-any.whl (72 kB)\n",
      "Installing collected packages: wheel, setuptools, pip\n",
      "  Attempting uninstall: wheel\n",
      "    Found existing installation: wheel 0.44.0\n",
      "    Uninstalling wheel-0.44.0:\n",
      "      Successfully uninstalled wheel-0.44.0\n",
      "  Attempting uninstall: setuptools\n",
      "    Found existing installation: setuptools 75.1.0\n",
      "    Uninstalling setuptools-75.1.0:\n",
      "      Successfully uninstalled setuptools-75.1.0\n",
      "  Attempting uninstall: pip\n",
      "    Found existing installation: pip 24.2\n",
      "    Uninstalling pip-24.2:\n",
      "      Successfully uninstalled pip-24.2\n",
      "Successfully installed pip-24.3.1 setuptools-75.6.0 wheel-0.45.1\n",
      "Note: you may need to restart the kernel to use updated packages.\n"
     ]
    }
   ],
   "source": [
    "pip install --upgrade pip setuptools wheel"
   ]
  },
  {
   "cell_type": "code",
   "execution_count": null,
   "id": "bcf82cd7-a58a-465b-a71d-9f9ecc5ec2ef",
   "metadata": {},
   "outputs": [],
   "source": []
  }
 ],
 "metadata": {
  "kernelspec": {
   "display_name": "Python 3 (ipykernel)",
   "language": "python",
   "name": "python3"
  },
  "language_info": {
   "codemirror_mode": {
    "name": "ipython",
    "version": 3
   },
   "file_extension": ".py",
   "mimetype": "text/x-python",
   "name": "python",
   "nbconvert_exporter": "python",
   "pygments_lexer": "ipython3",
   "version": "3.12.5"
  }
 },
 "nbformat": 4,
 "nbformat_minor": 5
}
