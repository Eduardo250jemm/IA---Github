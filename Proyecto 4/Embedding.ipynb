{
 "cells": [
  {
   "cell_type": "code",
   "execution_count": 2,
   "id": "49aa282b-0a50-4ada-b8eb-4e98dab515a9",
   "metadata": {},
   "outputs": [
    {
     "name": "stdout",
     "output_type": "stream",
     "text": [
      "Resultados más relevantes:\n",
      "Texto: La reforma al Poder Judicial busca combatir la corrupción. - Similaridad: 0.8428\n",
      "Texto: Es fundamental garantizar la independencia judicial. - Similaridad: 0.8281\n",
      "Texto: La transparencia en los procesos judiciales es clave para la justicia. - Similaridad: 0.7644\n",
      "Texto: La carrera judicial necesita medidas claras para su fortalecimiento. - Similaridad: 0.6745\n",
      "Texto: La implementación de jueces sin rostro es un tema controversial. - Similaridad: 0.5693\n"
     ]
    }
   ],
   "source": [
    "from sentence_transformers import SentenceTransformer\n",
    "from sklearn.metrics.pairwise import cosine_similarity\n",
    "import numpy as np\n",
    "\n",
    "# Modelo pre-entrenado\n",
    "model = SentenceTransformer(\"all-MiniLM-L6-v2\")\n",
    "\n",
    "# Base de datos de textos\n",
    "corpus = [\n",
    "    \"La reforma al Poder Judicial busca combatir la corrupción.\",\n",
    "    \"Es fundamental garantizar la independencia judicial.\",\n",
    "    \"La implementación de jueces sin rostro es un tema controversial.\",\n",
    "    \"La carrera judicial necesita medidas claras para su fortalecimiento.\",\n",
    "    \"La transparencia en los procesos judiciales es clave para la justicia.\",\n",
    "]\n",
    "\n",
    "# Consulta del usuario sobre el Poder Judicial\n",
    "query = \"¿Cómo afecta la reforma la independencia judicial?\"\n",
    "\n",
    "# Generar embeddings\n",
    "corpus_embeddings = model.encode(corpus)\n",
    "query_embedding = model.encode([query])\n",
    "\n",
    "# Similaridad coseno\n",
    "similarities = cosine_similarity([query_embedding[0]], corpus_embeddings)[0]\n",
    "\n",
    "# Resultados ordenados\n",
    "sorted_idx = np.argsort(similarities)[::-1]\n",
    "print(\"Resultados más relevantes:\")\n",
    "for idx in sorted_idx:\n",
    "    print(f\"Texto: {corpus[idx]} - Similaridad: {similarities[idx]:.4f}\")"
   ]
  },
  {
   "cell_type": "code",
   "execution_count": null,
   "id": "ca5b2412-a223-4c71-afea-0b376035e7d3",
   "metadata": {},
   "outputs": [],
   "source": [
    "\n"
   ]
  },
  {
   "cell_type": "code",
   "execution_count": null,
   "id": "6dac81d6-afc4-4cc3-b87c-014b186b1290",
   "metadata": {},
   "outputs": [],
   "source": []
  }
 ],
 "metadata": {
  "kernelspec": {
   "display_name": "Python 3 (ipykernel)",
   "language": "python",
   "name": "python3"
  },
  "language_info": {
   "codemirror_mode": {
    "name": "ipython",
    "version": 3
   },
   "file_extension": ".py",
   "mimetype": "text/x-python",
   "name": "python",
   "nbconvert_exporter": "python",
   "pygments_lexer": "ipython3",
   "version": "3.12.5"
  }
 },
 "nbformat": 4,
 "nbformat_minor": 5
}
