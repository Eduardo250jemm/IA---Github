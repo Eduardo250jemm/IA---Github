{
 "cells": [
  {
   "cell_type": "code",
   "execution_count": 18,
   "id": "6b63fdef-4db9-4785-b76f-df3723cd015f",
   "metadata": {},
   "outputs": [
    {
     "name": "stdout",
     "output_type": "stream",
     "text": [
      "Entidad: Instituto Nacional Electoral, Tipo: ORG\n",
      "Entidad: INE, Tipo: ORG\n",
      "Entidad: México, Tipo: LOC\n",
      "Entidad: Presidencia de la República, Tipo: MISC\n",
      "Entidad: INE, Tipo: ORG\n",
      "Entidad: Constitución Política de los Estados Unidos Mexicanos, Tipo: ORG\n",
      "Entidad: Ejecutivo, Tipo: MISC\n",
      "Entidad: Legislativo y Judicial., Tipo: ORG\n",
      "Entidad: INE, Tipo: ORG\n",
      "Entidad: INE, Tipo: ORG\n",
      "Entidad: Organismos Públicos Locales Electorales, Tipo: ORG\n",
      "Entidad: De esta forma, Tipo: MISC\n",
      "Entidad: INE, Tipo: ORG\n",
      "Entidad: México, Tipo: LOC\n",
      "Término clave encontrado: organismo, Contexto: El Instituto Nacional Electoral (INE) es un organismo público autónomo de gran relevancia en el sistema político mexicano, \n",
      "cuya principal función es organizar y supervisar los procesos electorales en el país, garantizando que se lleven a cabo de manera libre, \n",
      "equitativa, y transparente.\n",
      "Término clave encontrado: autonomía, Contexto: La autonomía del INE está respaldada y protegida por el artículo 41 de la Constitución Política de los Estados Unidos Mexicanos.\n",
      "Término clave encontrado: organismo, Contexto: Este artículo establece\n",
      "que la función estatal de organizar las elecciones recae en un organismo autónomo, dotado de personalidad jurídica y patrimonio propio, independiente \n",
      "de los poderes Ejecutivo, Legislativo y Judicial.\n",
      "Término clave encontrado: autonomía, Contexto: Esta autonomía le permite operar sin presiones políticas externas, lo cual es esencial para fortalecer\n",
      "la confianza de la ciudadanía en los resultados electorales.\n",
      "\n",
      "\n"
     ]
    }
   ],
   "source": [
    "import spacy\n",
    "\n",
    "# Cargar modelo de lenguaje en español\n",
    "nlp = spacy.load(\"es_core_news_md\")\n",
    "\n",
    "\n",
    "texto = \"\"\"\n",
    "El Instituto Nacional Electoral (INE) es un organismo público autónomo de gran relevancia en el sistema político mexicano, \n",
    "cuya principal función es organizar y supervisar los procesos electorales en el país, garantizando que se lleven a cabo de manera libre, \n",
    "equitativa, y transparente. Esta institución desempeña un papel fundamental en la democracia de México, ya que es la encargada de garantizar que las \n",
    "elecciones de los cargos de elección popular, como la Presidencia de la República, senadurías, diputaciones, y otros, se realicen bajo principios de \n",
    "legalidad, imparcialidad y certeza.\n",
    "\n",
    "La autonomía del INE está respaldada y protegida por el artículo 41 de la Constitución Política de los Estados Unidos Mexicanos. Este artículo establece\n",
    "que la función estatal de organizar las elecciones recae en un organismo autónomo, dotado de personalidad jurídica y patrimonio propio, independiente \n",
    "de los poderes Ejecutivo, Legislativo y Judicial. Esta autonomía le permite operar sin presiones políticas externas, lo cual es esencial para fortalecer\n",
    "la confianza de la ciudadanía en los resultados electorales.\n",
    "\n",
    "Además de organizar elecciones, el INE tiene otras responsabilidades clave, como la administración del padrón electoral y la lista nominal de electores, \n",
    "el monitoreo del financiamiento de los partidos políticos, y la promoción de la participación ciudadana en los procesos democráticos. \n",
    "También desempeña un rol crucial en la educación cívica, impulsando valores democráticos entre la población y fomentando el ejercicio del voto \n",
    "informado y responsable.\n",
    "\n",
    "La labor del INE no se limita únicamente al ámbito federal, ya que colabora con los Organismos Públicos Locales Electorales (OPL) para coordinar \n",
    "los procesos en los estados, garantizando la correcta ejecución de las elecciones locales. De esta forma, el INE se ha consolidado como una \n",
    "institución central para la preservación y el fortalecimiento del sistema democrático en México.\n",
    "\"\"\"\n",
    "\n",
    "# Procesar el texto\n",
    "doc = nlp(texto)\n",
    "\n",
    "# Extraer entidades relevantes\n",
    "for ent in doc.ents:\n",
    "    print(f\"Entidad: {ent.text}, Tipo: {ent.label_}\")\n",
    "\n",
    "# Buscar términos clave\n",
    "for token in doc:\n",
    "    if token.text.lower() in [\"autonomía\", \"independencia\", \"organismo\"]:\n",
    "        print(f\"Término clave encontrado: {token.text}, Contexto: {token.sent}\")"
   ]
  },
  {
   "cell_type": "code",
   "execution_count": 19,
   "id": "180ac66d-ac8f-48a6-a059-c265fa243f2c",
   "metadata": {},
   "outputs": [
    {
     "name": "stdout",
     "output_type": "stream",
     "text": [
      "Verbo: organiza, Sujeto: ['Instituto']\n",
      "Verbo: administra, Sujeto: []\n",
      "Verbo: promueve, Sujeto: []\n"
     ]
    }
   ],
   "source": [
    "import spacy\n",
    "\n",
    "# Cargar modelo de lenguaje en español\n",
    "nlp = spacy.load(\"es_core_news_md\")\n",
    "\n",
    "texto = \"\"\"\n",
    "El Instituto Nacional Electoral (INE) organiza elecciones en México y administra el padrón electoral. Además, promueve la educación cívica\n",
    "y la participación ciudadana en los procesos democráticos.\n",
    "\"\"\"\n",
    "\n",
    "# Procesar el texto\n",
    "doc = nlp(texto)\n",
    "\n",
    "# Extraer verbos y sus sujetos\n",
    "for token in doc:\n",
    "    if token.pos_ == \"VERB\":\n",
    "        sujeto = [w.text for w in token.children if w.dep_ == \"nsubj\"]\n",
    "        print(f\"Verbo: {token.text}, Sujeto: {sujeto}\")\n"
   ]
  },
  {
   "cell_type": "code",
   "execution_count": 20,
   "id": "faa35d4b-4759-43c7-a4d6-2ca73d4a59bc",
   "metadata": {},
   "outputs": [
    {
     "name": "stdout",
     "output_type": "stream",
     "text": [
      "Frase nominal: El Instituto Nacional Electoral (INE)\n",
      "Frase nominal: personalidad jurídica\n",
      "Frase nominal: Su función\n",
      "Frase nominal: elecciones transparentes \n",
      "\n",
      "Frase nominal: el financiamiento\n",
      "Frase nominal: los partidos políticos\n"
     ]
    }
   ],
   "source": [
    "import spacy\n",
    "\n",
    "# Cargar modelo de lenguaje en español\n",
    "nlp = spacy.load(\"es_core_news_md\")\n",
    "\n",
    "texto = \"\"\"\n",
    "El Instituto Nacional Electoral (INE) es un organismo autónomo con personalidad jurídica. Su función es garantizar elecciones transparentes \n",
    "y supervisar el financiamiento de los partidos políticos.\n",
    "\"\"\"\n",
    "\n",
    "# Procesar el texto\n",
    "doc = nlp(texto)\n",
    "\n",
    "# Extraer frases nominales\n",
    "for chunk in doc.noun_chunks:\n",
    "    print(f\"Frase nominal: {chunk.text}\")\n"
   ]
  },
  {
   "cell_type": "code",
   "execution_count": null,
   "id": "fe950f8f-3745-4648-be4a-302b8c26f437",
   "metadata": {},
   "outputs": [],
   "source": []
  }
 ],
 "metadata": {
  "kernelspec": {
   "display_name": "Python 3 (ipykernel)",
   "language": "python",
   "name": "python3"
  },
  "language_info": {
   "codemirror_mode": {
    "name": "ipython",
    "version": 3
   },
   "file_extension": ".py",
   "mimetype": "text/x-python",
   "name": "python",
   "nbconvert_exporter": "python",
   "pygments_lexer": "ipython3",
   "version": "3.12.5"
  }
 },
 "nbformat": 4,
 "nbformat_minor": 5
}
