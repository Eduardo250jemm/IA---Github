{
 "cells": [
  {
   "cell_type": "code",
   "execution_count": 19,
   "id": "9631472c-c500-42fb-9cee-374a049e5933",
   "metadata": {},
   "outputs": [
    {
     "name": "stdout",
     "output_type": "stream",
     "text": [
      "Pregunta: Reforma al Poder Judicial\n",
      "Respuesta del modelo:\n",
      "**La Reforma al Poder Judicial en México**\n",
      "\n",
      "La Reforma al Poder Judicial es un proceso de reforma constitucional que busca mejorar la estructura, funcionamiento y autonomía del sistema judicial mexicano. Esta reforma se inició en 2016 y se completó en 2020 con el objetivo de reforzar la independencia, eficiencia y transparencia del poder judicial.\n",
      "\n",
      "**Objetivos de la Reforma**\n",
      "\n",
      "Los objetivos principales de la Reforma al Poder Judicial son:\n",
      "\n",
      "1. **Mejorar la autonomía y independencia**: Se busca fortalecer la autonomía del sistema judicial para que pueda funcionar de manera independiente y no estar sujeta a influencias externas.\n",
      "2. **Reorganizar la estructura jerárquica**: La reforma introdujo cambios en la estructura jerárquica del poder judicial, incluyendo la creación de nuevos niveles de jurisdicción y la modificación de las funciones de los jueces y magistrados.\n",
      "3. **Modernizar el sistema procesal**: Se buscó mejorar la eficiencia y transparencia del sistema procesal, incluyendo la introducción de tecnologías de información y comunicación (TIC) y la creación de un registro electrónico de los procedimientos judiciales.\n",
      "4. **Reforzar la prevención de abusos**: Se introdujeron medidas para prevenir el abuso del poder judicial y garantizar que se respeten los derechos humanos.\n",
      "\n",
      "**Nuevas características**\n",
      "\n",
      "Entre las nuevas características de la Reforma al Poder Judicial se encuentran:\n",
      "\n",
      "* La creación de un Tribunal Superior de Justicia (TSJ) federal, que sustituye a la Suprema Corte de Justicia de la Nación (SCJN).\n",
      "* La introducción de un sistema de designación y nombramiento de jueces y magistrados, que garantiza su independencia y autonomía.\n",
      "* La creación de una junta de supervisión del poder judicial, que se encarga de evaluar el desempeño del sistema judicial.\n",
      "\n",
      "**Conclusión**\n",
      "\n",
      "La Reforma al Poder Judicial es un paso importante en la evolución del sistema judicial mexicano. Su objetivo principal es mejorar la autonomía, eficiencia y transparencia del sistema judicial, lo que garantiza una justicia más justa y equitativa para todos los ciudadanos de México.\n",
      "--------------------------------------------------\n"
     ]
    }
   ],
   "source": [
    "import ollama\n",
    "\n",
    "# Definición de Reforma al Poder Judicial\n",
    "pregunta_reforma = \"¿Qué es la Reforma al Poder Judicial?\"\n",
    "print(\"Pregunta: Reforma al Poder Judicial\")\n",
    "stream = ollama.chat(\n",
    "    model='llama3.2',\n",
    "    messages=[{'role': 'user', 'content': pregunta_reforma}],\n",
    "    stream=True,\n",
    ")\n",
    "print(\"Respuesta del modelo:\")\n",
    "for chunk in stream:\n",
    "    print(chunk['message']['content'], end='', flush=True)\n",
    "print(\"\\n\" + \"-\" * 50)\n"
   ]
  },
  {
   "cell_type": "code",
   "execution_count": 20,
   "id": "ea47f2d4-aba2-4ca8-b4b6-ce8764c19ae9",
   "metadata": {},
   "outputs": [
    {
     "name": "stdout",
     "output_type": "stream",
     "text": [
      "Pregunta: Organismos Autónomos\n",
      "Respuesta del modelo:\n",
      "Los Organismos Autónomos (OA) son entidades vivas que tienen un grado de autonomía y capacidad para tomar decisiones sin la intervención directa de un organismo superior o externo. Estos organismos pueden funcionar de manera independiente, tomando decisiones sobre su propio crecimiento, reproducción y supervivencia.\n",
      "\n",
      "Los OA se caracterizan por tener:\n",
      "\n",
      "1. **Capacidad para tomar decisiones**: Los OA pueden tomar decisiones basadas en información que recopilan a partir de su entorno y sus propias necesidades.\n",
      "2. **Autonomía**: Los OA no dependen directamente de un organismo superior o externo para funcionar o tomar decisiones.\n",
      "3. **Capacidad de adaptación**: Los OA pueden adaptarse a cambios en su entorno, lo que les permite sobrevivir y prosperar.\n",
      "\n",
      "Algunos ejemplos de Organismos Autónomos son:\n",
      "\n",
      "* **Bacterias**: algunas bacterias pueden formar colonies autónomas que se comunican entre sí y toman decisiones colectivas.\n",
      "* **Hongos**: algunos hongos, como los hongos de champán, pueden formar colonias autónomas que trabajan juntos para producir vinagre.\n",
      "* **Arthropodos**: algunos arthropodos, como las hormigas y los cuervos, tienen estructuras sociales complejas que les permiten tomar decisiones colectivas.\n",
      "* **Algoritmos**: en la computación, los algoritmos pueden ser considerados como Organismos Autónomos, ya que pueden tomar decisiones y realizar tareas de manera independiente.\n",
      "\n",
      "Los OA tienen importantes implicaciones en campos como la biología, la ecología y la inteligencia artificial, ya que pueden proporcionar insights sobre cómo funcionan los sistemas complejos y cómo se pueden diseñar sistemas más autónomos y eficientes.\n",
      "--------------------------------------------------\n"
     ]
    }
   ],
   "source": [
    "import ollama\n",
    "\n",
    "# Definición de Organismos Autónomos\n",
    "pregunta_organismos = \"¿Qué son los Organismos Autónomos?\"\n",
    "print(\"Pregunta: Organismos Autónomos\")\n",
    "stream = ollama.chat(\n",
    "    model='llama3.2',\n",
    "    messages=[{'role': 'user', 'content': pregunta_organismos}],\n",
    "    stream=True,\n",
    ")\n",
    "print(\"Respuesta del modelo:\")\n",
    "for chunk in stream:\n",
    "    print(chunk['message']['content'], end='', flush=True)\n",
    "print(\"\\n\" + \"-\" * 50)\n"
   ]
  },
  {
   "cell_type": "code",
   "execution_count": 3,
   "id": "531fb1de-74c8-4b1c-bafd-365c63d88a3c",
   "metadata": {},
   "outputs": [
    {
     "name": "stdout",
     "output_type": "stream",
     "text": [
      "Pregunta 1: ¿El diagnóstico de la ley al poder judicial es conocido y qué estudios expertos se tuvieron en cuenta?\n",
      "Respuesta del modelo:\n",
      "El concepto de \"diagnóstico de la ley\" (también conocido como \"diagnóstico de leyes\" o \"análisis jurídico\") es un término utilizado en la jurisdicción europea, especialmente en el ámbito del derecho penal y del derecho administrativo.\n",
      "\n",
      "El diagnóstico de la ley se refiere a la capacidad de los poderes judiciales para evaluar las leyes que han sido adoptadas por los legisladores o que están siendo aplicadas por las autoridades administrativas. En otras palabras, es el proceso mediante el cual los tribunales y otros poderes judiciales examinan la constitucionalidad y la legalidad de las leyes y reglamentos adoptados o emitidos.\n",
      "\n",
      "En cuanto a los estudios expertos que se han tenido en cuenta en este área, hay varios autores y académicos destacados en el campo del derecho penal y del derecho administrativo que han contribuido significativamente al desarrollo de la teoría del diagnóstico de la ley. Algunos de ellos son:\n",
      "\n",
      "1. **Walter Schimdt**: Un académico alemán que ha escrito sobre la importancia del diagnóstico de la ley en el contexto del derecho penal.\n",
      "2. **Christoph Möller**: Un experto alemán en derecho penal y derecho administrativo que ha abordado el tema del diagnóstico de la ley en su trabajo académico.\n",
      "3. **Klaus-Dieter Lange**: Un académico alemán que ha escrito sobre la relación entre la constitucionalidad y el diagnóstico de la ley en el contexto del derecho penal.\n",
      "4. **Hans-Werner Schulz**: Un experto alemán en derecho administrativo que ha abordado el tema del diagnóstico de la ley en su trabajo académico.\n",
      "\n",
      "En cuanto a los estudios específicos, hay varios trabajos académicos y artículos que se han centrado en el análisis del diagnóstico de la ley. Algunos ejemplos son:\n",
      "\n",
      "* **\"El Diagnóstico de la Ley: Una Análisis Jurídico\"** (en español: \"El Diagnóstico de la Ley: Un análisis jurídico\") de Walter Schimdt, publicado en el Boletín de la Sociedad Española de Derecho Administrativo.\n",
      "* **\"La Constitucionalidad y el Diagnóstico de la Ley en el Derecho Penal\"** (en español: \"La constitucionalidad y el diagnóstico de la ley en el derecho penal\") de Christoph Möller, publicado en el Revista Española de Derecho Administrativo.\n",
      "* **\"El Diagnóstico de la Ley como Mecanismo de Control Constitucional\"** (en español: \"El diagnóstico de la ley como mecanismo de control constitucional\") de Klaus-Dieter Lange, publicado en el Zeitschrift für das Wesentliche Recht.\n",
      "\n",
      "Es importante destacar que estos estudios y artículos no son exhaustivos y que hay muchos otros expertos y académicos que han contribuido al desarrollo de la teoría del diagnóstico de la ley.\n",
      "--------------------------------------------------\n"
     ]
    }
   ],
   "source": [
    "import ollama\n",
    "\n",
    "# Pregunta 1: Ley del Poder Judicial\n",
    "pregunta_1 = \"¿El diagnóstico de la ley al poder judicial es conocido y qué estudios expertos se tuvieron en cuenta?\"\n",
    "print(\"Pregunta 1:\", pregunta_1)\n",
    "stream = ollama.chat(\n",
    "    model='llama3.2',\n",
    "    messages=[{'role': 'user', 'content': pregunta_1}],\n",
    "    stream=True,\n",
    ")\n",
    "print(\"Respuesta del modelo:\")\n",
    "for chunk in stream:\n",
    "    print(chunk['message']['content'], end='', flush=True)\n",
    "print(\"\\n\" + \"-\" * 50)\n"
   ]
  },
  {
   "cell_type": "code",
   "execution_count": 4,
   "id": "3539530e-375d-4a7e-854f-7fed8b70746e",
   "metadata": {},
   "outputs": [
    {
     "name": "stdout",
     "output_type": "stream",
     "text": [
      "Pregunta 2: ¿Por qué la reforma no incluyó a las fiscalías y a la defensoría, limitándose solo al poder judicial?\n",
      "Respuesta del modelo:\n",
      "La reforma que mencionas se refiere probablemente a la Reforma Magna de 1994 en México, una serie de cambios constitucionales implementados después de la presidencia de Carlos Salinas de Gortari.\n",
      "\n",
      "En efecto, la Reforma Magna de 1994 se centró principalmente en el poder judicial, ampliando los derechos de las personas y estableciendo un sistema de Justicia más independiente. Aunque las fiscalías y la defensoría también jugaron un papel importante en este proceso, su inclusión fue limitada en comparación con el poder judicial.\n",
      "\n",
      "Hay varias razones por las que las fiscalías y la defensoría no fueron incluidas de manera similar:\n",
      "\n",
      "1. **Origen histórico**: El sistema jurídico mexicano se desarrolló principalmente dentro del ámbito del poder judicial, lo que llevó a una mayor enfocación en su reforma.\n",
      "2. **Influencia de la Constitución de 1917**: La Constitución Política de los Estados Unidos Mexicanos de 1917, promulgada durante el gobierno de Francisco I. Madero, estableció un sistema de Justicia basado en el poder judicial. Esta influencia se mantuvo a lo largo de las reformas posteriores.\n",
      "3. **Priorización del poder judicial**: El poder judicial fue considerado fundamental para la protección de los derechos humanos y la justicia independiente. Por lo tanto, se centró la Reforma Magna en este ámbito.\n",
      "4. **Desarrollo institucional**: Las fiscalías y la defensoría son instituciones separadas que requieren un proceso de desarrollo institencial similar a ese del poder judicial.\n",
      "\n",
      "Sin embargo, con el tiempo, se han implementado reformas adicionales para fortalecer las fiscalías y la defensoría en México. Por ejemplo, se ha establecido el Instituto Nacional de Derechos Humanos (IN DH) y se ha fortalecido la Defensoría del Pueblo.\n",
      "\n",
      "En resumen, aunque las fiscalías y la defensoría no fueron incluidas de manera similar en la Reforma Magna de 1994, se han implementado reformas posteriores para abordar sus necesidades y desafíos.\n",
      "--------------------------------------------------\n"
     ]
    }
   ],
   "source": [
    "# Pregunta 2: Ley del Poder Judicial\n",
    "pregunta_2 = \"¿Por qué la reforma no incluyó a las fiscalías y a la defensoría, limitándose solo al poder judicial?\"\n",
    "print(\"Pregunta 2:\", pregunta_2)\n",
    "stream = ollama.chat(\n",
    "    model='llama3.2',\n",
    "    messages=[{'role': 'user', 'content': pregunta_2}],\n",
    "    stream=True,\n",
    ")\n",
    "print(\"Respuesta del modelo:\")\n",
    "for chunk in stream:\n",
    "    print(chunk['message']['content'], end='', flush=True)\n",
    "print(\"\\n\" + \"-\" * 50)"
   ]
  },
  {
   "cell_type": "code",
   "execution_count": 5,
   "id": "4cdefcf4-9def-49c8-806d-5ac5022911a4",
   "metadata": {},
   "outputs": [
    {
     "name": "stdout",
     "output_type": "stream",
     "text": [
      "Pregunta 3: ¿Qué medidas concretas se implementarán para evitar la captación del crimen organizado y la violencia en el contexto electoral?\n",
      "Respuesta del modelo:\n",
      "Para evitar la captación del crimen organizado y la violencia en el contexto electoral, se pueden implementar las siguientes medidas concretas:\n",
      "\n",
      "1. **Monitoreo Electoral**: Establecer un sistema de monitoreo electoral que permita detectar cualquier actividad sospechosa o irregularidad en tiempo real, utilizando tecnología como drones, cámaras de vigilancia y redes sociales para recopilar información.\n",
      "2. **Sistemas de Alerta Temprana**: Desarrollar sistemas de alerta temprana que alerten a las autoridades sobre posibles amenazas o actividades sospechosas, como la presencia de grupos armados o la distribución de materiales incriminatorios.\n",
      "3. **Seguridad Electoral**: Garantizar la seguridad de los votantes, trabajadores electorales y personal de seguridad, mediante la presencia de guardias de seguridad, cámaras de vigilancia y protocolos de emergencia.\n",
      "4. **Verificación de Financiación Política**: Realizar controles rigurosos sobre la financiación política para evitar que fondos ilícitos se integren al proceso electoral.\n",
      "5. **Educación Ciudadana**: Promover la educación ciudadana sobre los riesgos de la captación del crimen organizado y la violencia en el contexto electoral, y brindar información sobre cómo identificar y reportar actividades sospechosas.\n",
      "6. **Colaboración Interinstitucional**: Fomentar la colaboración entre las autoridades electorales, policiales, judiciales y otras instituciones para compartir información y coordinar esfuerzos en la prevención de la captación del crimen organizado y la violencia electoral.\n",
      "7. **Tecnología**: Utilizar tecnologías avanzadas como inteligencia artificial y análisis de datos para detectar patrones y tendencias que puedan indicar actividades sospechosas.\n",
      "8. **Protección a los Testigos**: Garantizar la protección de testigos y denunciantes de actividades del crimen organizado, para evitar represalias y garantizar su seguridad.\n",
      "9. **Investigación y Fiscalización**: Realizar investigaciones y fiscalizaciones efectivas para detectar y erradicar la corrupción y la captación del crimen organizado en el contexto electoral.\n",
      "10. **Prevención de la Radicalización**: Implementar programas de prevención de la radicalización y desradicalización para prevenir que individuos se conviertan en agentes de violencia o se unan a grupos extremistas.\n",
      "\n",
      "Estas medidas pueden ayudar a prevenir la captación del crimen organizado y la violencia en el contexto electoral, pero es importante recordar que cada caso es único y requiere una respuesta adaptada a las circunstancias específicas.\n",
      "--------------------------------------------------\n"
     ]
    }
   ],
   "source": [
    "# Pregunta 3: Ley del Poder Judicial\n",
    "pregunta_3 = \"¿Qué medidas concretas se implementarán para evitar la captación del crimen organizado y la violencia en el contexto electoral?\"\n",
    "print(\"Pregunta 3:\", pregunta_3)\n",
    "stream = ollama.chat(\n",
    "    model='llama3.2',\n",
    "    messages=[{'role': 'user', 'content': pregunta_3}],\n",
    "    stream=True,\n",
    ")\n",
    "print(\"Respuesta del modelo:\")\n",
    "for chunk in stream:\n",
    "    print(chunk['message']['content'], end='', flush=True)\n",
    "print(\"\\n\" + \"-\" * 50)"
   ]
  },
  {
   "cell_type": "code",
   "execution_count": 6,
   "id": "f0df4591-db66-4687-88fa-ca44da34f162",
   "metadata": {},
   "outputs": [
    {
     "name": "stdout",
     "output_type": "stream",
     "text": [
      "Pregunta 4: ¿Cómo garantizar que juristas probos y honestos se animen a competir públicamente frente a los riesgos de la violencia?\n",
      "Respuesta del modelo:\n",
      "Una pregunta muy relevante en estos tiempos. La seguridad de los juristas es fundamental para que puedan realizar su trabajo de manera efectiva y sin miedo a las represalias. A continuación, te presento algunas sugerencias para garantizar que juristas probos y honestos se animen a competir públicamente frente a los riesgos de la violencia:\n",
      "\n",
      "1. **Crear un entorno seguro y protegido**: Los juristas deben sentirse seguros en su entorno de trabajo y personal. Esto puede lograrse mediante la implementación de medidas de seguridad, como cámaras de vigilancia, sistemas de alerta premura y protocolos de emergencia.\n",
      "2. **Proporcionar apoyo psicológico y emocional**: Los juristas deben tener acceso a servicios de apoyo psicológico y emocional para manejar el estrés y la presión que pueden experimentar al competir públicamente. Esto puede incluir sesiones de terapia, grupo de apoyo o programas de bienestar.\n",
      "3. **Fomentar la transparencia y la rendición de cuentas**: La transparencia y la rendición de cuentas son fundamentales para evitar la corrupción y la violencia. Los juristas deben sentirse seguros al presentar sus argumentos y resultados, sin temor a represalias.\n",
      "4. **Crear un sistema de denuncia y protección**: Debe haber un mecanismo adecuado para que los juristas puedan denunciar cualquier amenaza o violencia hacia ellos o sus familiares. Esto puede incluir programas de protección para testigos y víctimas de violencia.\n",
      "5. **Educación y concienciación**: Es importante educar a los juristas sobre los riesgos de la violencia y cómo manejarlos. También es fundamental concienciar a la sociedad en general sobre la importancia de la seguridad y el respeto hacia los profesionales del derecho.\n",
      "6. **Reconocimiento y premios**: Los juristas deben ser reconocidos y premiados por su trabajo y contribuciones, lo que puede ayudar a motivarlos a seguir adelante y a sentirse valorados.\n",
      "7. **Colaboración con organizaciones internacionales**: Las organizaciones internacionales pueden brindar apoyo y recursos para proteger a los juristas y promover la seguridad en el ámbito legal.\n",
      "8. **Desarrollo de políticas y regulaciones**: Es importante desarrollar políticas y regulaciones que protejan a los juristas y promuevan la seguridad en el ámbito legal, como la creación de leyes y normativas que prohiban la violencia y la intimidación hacia los profesionales del derecho.\n",
      "9. ** capacitación y formación**: Los juristas deben recibir capacitación y formación sobre seguridad, prevención de la violencia y manejo del estrés.\n",
      "10. **Crear una comunidad de apoyo**: Los juristas deben sentirse parte de una comunidad que los apoya y les brinda recursos para manejar el estrés y la presión que pueden experimentar al competir públicamente.\n",
      "\n",
      "En resumen, garantizar la seguridad y la protección de los juristas es fundamental para que puedan realizar su trabajo de manera efectiva y sin miedo a las represalias. Es importante implementar medidas de seguridad, apoyo psicológico y emocional, fomentar la transparencia y la rendición de cuentas, y crear un entorno de trabajo seguro y protegido.\n",
      "--------------------------------------------------\n"
     ]
    }
   ],
   "source": [
    "# Pregunta 4: Ley del Poder Judicial\n",
    "pregunta_4 = \"¿Cómo garantizar que juristas probos y honestos se animen a competir públicamente frente a los riesgos de la violencia?\"\n",
    "print(\"Pregunta 4:\", pregunta_4)\n",
    "stream = ollama.chat(\n",
    "    model='llama3.2',\n",
    "    messages=[{'role': 'user', 'content': pregunta_4}],\n",
    "    stream=True,\n",
    ")\n",
    "print(\"Respuesta del modelo:\")\n",
    "for chunk in stream:\n",
    "    print(chunk['message']['content'], end='', flush=True)\n",
    "print(\"\\n\" + \"-\" * 50)"
   ]
  },
  {
   "cell_type": "code",
   "execution_count": 7,
   "id": "3085a4b8-65ff-499c-b97b-694f1962db18",
   "metadata": {},
   "outputs": [
    {
     "name": "stdout",
     "output_type": "stream",
     "text": [
      "Pregunta 5: ¿Cómo se conforman los comités de postulación?\n",
      "Respuesta del modelo:\n",
      "**Conformación de comités de postulación**\n",
      "\n",
      "Los comités de postulación son grupos de expertos que se reúnen para evaluar las solicitudes de estudiantes que desean realizar una beca o estancia en el extranjero. La conformación de estos comités puede variar dependiendo del país, la institución educativa y la organización que los patrocina. A continuación, te presento algunos pasos generales para formar un comité de postulación:\n",
      "\n",
      "1. **Identificación del objetivo**: Antes de comenzar a formar el comité, es importante identificar el objetivo principal del comité de postulación. ¿Cuáles son las expectativas y objetivos del comité? ¿Qué tipo de estudiantes busca atraer con la beca o estancia?\n",
      "2. **Selección de miembros**: El comité de postulación debe estar compuesto por personas con experiencia y conocimientos en el campo de estudio relacionado con la beca o estancia. Algunas posibles opciones para integrar al comité son:\n",
      " * Profesores y docentes universitarios\n",
      " * Investigadores académicos\n",
      " * Exalumnos que hayan realizado una beca o estancia en el extranjero\n",
      " * Representantes de la institución educativa\n",
      "3. **Diseño del procedimiento**: El comité debe establecer un procedimiento claro para la evaluación de las solicitudes, que incluya:\n",
      " * La definición de los criterios de selección\n",
      " * La creación de una lista de calificación para evaluar las solicitudes\n",
      " * La designación de un secretario para coordinar el proceso\n",
      "4. **Definición de los criterios**: El comité debe establecer criterios claros y objetivos para evaluar las solicitudes, que incluyen:\n",
      " * Calidad del proyecto o investigación propuesto\n",
      " * Relevancia del proyecto o investigación en el campo de estudio\n",
      " * Potencial del estudiante para realizar el proyecto o investigación\n",
      " * Compromiso del estudiante con la institución educativa y la comunidad\n",
      "5. **Revisión y aprobación**: El comité debe revisar y aprobar las solicitudes, siguiendo los procedimientos establecidos. Debe considerar las opiniones de otros miembros del comité o de expertos externos.\n",
      "6. **Selección final**: Finalmente, el comité selecciona a los estudiantes que serán beneficiarios de la beca o estancia.\n",
      "\n",
      "**Conclusión**\n",
      "\n",
      "La conformación de un comité de postulación es un proceso importante que requiere experiencia y conocimientos en el campo de estudio relacionado con la beca o estancia. Al seguir estos pasos, se puede garantizar que los comités de postulación funcionen de manera efectiva y eficiente, seleccionando a los estudiantes más calificados para realizar una beca o estancia en el extranjero.\n",
      "--------------------------------------------------\n"
     ]
    }
   ],
   "source": [
    "# Pregunta 5: Ley del Poder Judicial\n",
    "pregunta_5 = \"¿Cómo se conforman los comités de postulación?\"\n",
    "print(\"Pregunta 5:\", pregunta_5)\n",
    "stream = ollama.chat(\n",
    "    model='llama3.2',\n",
    "    messages=[{'role': 'user', 'content': pregunta_5}],\n",
    "    stream=True,\n",
    ")\n",
    "print(\"Respuesta del modelo:\")\n",
    "for chunk in stream:\n",
    "    print(chunk['message']['content'], end='', flush=True)\n",
    "print(\"\\n\" + \"-\" * 50)"
   ]
  },
  {
   "cell_type": "code",
   "execution_count": 11,
   "id": "00c25498-1938-400b-b76f-78270636739d",
   "metadata": {},
   "outputs": [
    {
     "name": "stdout",
     "output_type": "stream",
     "text": [
      "Pregunta 6: ¿Cómo asegurar la carrera judicial?\n",
      "Respuesta del modelo:\n",
      "Asegurar la carrera judicial es un tema importante en cualquier sociedad que tenga un sistema de justicia independiente y imparcial. A continuación, se presentan algunas medidas que pueden ayudar a asegurar la carrera judicial:\n",
      "\n",
      "1. **Selectividad y meritocracia**: Garantizar que los seleccionados para el cargo sean los más calificados y capacitados, sin importar su origen o conexiones personales.\n",
      "2. **Independencia de influencias externas**: Establecer mecanismos para evitar que fuerzas externas, como políticos, empresarios o grupos de interés, influyan en la selección o evaluación de los magistrados.\n",
      "3. **Transparencia y rendición de cuentas**: Garantizar que los procesos de selección y promoción sean transparentes y que los magistrados estén sujetos a un control político y administrativo adecuado.\n",
      "4. **Capacitación y formación continua**: Proporcionar oportunidades de capacitación y formación continua para que los magistrados puedan mantener sus habilidades y conocimientos actualizados.\n",
      "5. **Estándares claros y objetivos**: Establecer estándares claros y objetivos para la conducta y el comportamiento de los magistrados, y garantizar que se apliquen de manera justa e imparcial.\n",
      "6. **Protección contra la manipulación política**: Garantizar que los magistrados no sean objeto de manipulación política, como a través de acusaciones falsas o campañas de difamación.\n",
      "7. **Mecanismos de evaluación y seguimiento**: Establecer mecanismos para evaluar y seguir el desempeño de los magistrados, y tomar medidas correctivas si es necesario.\n",
      "8. **Respeto a la institución judicial**: Fomentar un sentido de respeto y profesionalismo entre los magistrados, y garantizar que se mantengan comprometidos con su función y misión.\n",
      "9. **Transparencia en la toma de decisiones**: Garantizar que las tomas de decisiones de los magistrados sean transparentes y que se expliquen de manera clara y objetiva.\n",
      "10. **Investigación y sanción de conducta inadecuada**: Establecer mecanismos para investigar y sancionar conducta inadecuada o impropia por parte de los magistrados.\n",
      "\n",
      "Al implementar estas medidas, se puede ayudar a asegurar la carrera judicial y garantizar que los magistrados sean elegidos y mantenidos en función de su capacidad y competencia, independientemente de su origen o conexiones personales.\n",
      "--------------------------------------------------\n"
     ]
    }
   ],
   "source": [
    "# Pregunta 6: Ley del Poder Judicial\n",
    "pregunta_6 = \"¿Cómo asegurar la carrera judicial?\"\n",
    "print(\"Pregunta 6:\", pregunta_6)\n",
    "stream = ollama.chat(\n",
    "    model='llama3.2',\n",
    "    messages=[{'role': 'user', 'content': pregunta_6}],\n",
    "    stream=True,\n",
    ")\n",
    "print(\"Respuesta del modelo:\")\n",
    "for chunk in stream:\n",
    "    print(chunk['message']['content'], end='', flush=True)\n",
    "print(\"\\n\" + \"-\" * 50)"
   ]
  },
  {
   "cell_type": "code",
   "execution_count": 10,
   "id": "ce3f13a9-5036-476f-b63c-047bb5de0455",
   "metadata": {},
   "outputs": [
    {
     "name": "stdout",
     "output_type": "stream",
     "text": [
      "Pregunta 5: ¿Cómo se conforman los comités de postulación?\n",
      "Respuesta del modelo:\n",
      "Los comités de postulación son grupos de expertos y personas influyentes que se reúnen para evaluar y seleccionar a los candidatos para un puesto, una oportunidad o un programa. A continuación, te presento la forma en que se conforman estos comités:\n",
      "\n",
      "**1. Nominación del Comité**\n",
      "\n",
      "El proceso de nominación del comité de postulación puede variar dependiendo de la organización, institución o empresa. Algunas formas comunes de nominar al comité son:\n",
      "\n",
      "* La junta directiva o consejo de administración de la organización nomina a los miembros del comité.\n",
      "* Un panel de expertos seleccionados por la organización se reúne para elegir a los miembros del comité.\n",
      "* Los candidatos o interesados pueden solicitar ser considerados como miembros del comité.\n",
      "\n",
      "**2. Selección de Miembros**\n",
      "\n",
      "Una vez nominados, los miembros del comité deben ser seleccionados y confirmados. La selección se basa en criterios como:\n",
      "\n",
      "* Experiencia y habilidades relevantes para el puesto o programa.\n",
      "* Conocimiento y especialización en la materia.\n",
      "* Redes de contactos y influencia en el campo.\n",
      "* Evaluación de las contribuciones y logros previos.\n",
      "\n",
      "**3. Roles y Papeles**\n",
      "\n",
      "Los miembros del comité pueden tener diferentes roles y papeles dentro del grupo, como:\n",
      "\n",
      "* Presidente o líder: lidera el comité y toma decisiones estratégicas.\n",
      "* Secretario: maneja la documentación y las comunicaciones.\n",
      "* Miembros de apoyo: aportan conocimientos y experiencia específicos.\n",
      "\n",
      "**4. Reuniones y Sesiones**\n",
      "\n",
      "El comité se reúne regularmente para discutir y evaluar los candidatos. Las reuniones pueden ser presenciales o virtuales, dependiendo de la necesidad y conveniencia.\n",
      "\n",
      "**5. Proceso de Evaluación**\n",
      "\n",
      "Durante las reuniones, el comité evalúa a los candidatos considerando criterios como:\n",
      "\n",
      "* Experiencia y habilidades relevantes.\n",
      "* Logros y contribuciones previas.\n",
      "* Fit con los objetivos y valores de la organización o institución.\n",
      "\n",
      "**6. Tomada de Decisiones**\n",
      "\n",
      "El comité toma decisiones sobre quién será seleccionado para el puesto o programa. La decisión puede ser final o se puede enviar a un panel adicional de revisión.\n",
      "\n",
      "En resumen, la formación del comité de postulación es un proceso sistemático que implica nominación, selección, roles y papeles, reuniones, evaluación y toma de decisiones. La calidad y diversidad de los miembros del comité pueden afectar la objetividad y eficacia de su función.\n",
      "--------------------------------------------------\n"
     ]
    }
   ],
   "source": [
    "# Pregunta 7: Ley del Poder Judicial\n",
    "pregunta_7 = \"¿Cómo compatibilizar la incorporación de medidas para preservar la identidad de los jueces (conocidos en el sistema interamericano como jueces sin rostro)con los estándares internacionales?\"\n",
    "print(\"Pregunta 7:\", pregunta_7)\n",
    "stream = ollama.chat(\n",
    "    model='llama3.2', \n",
    "    messages=[{'role': 'user', 'content': pregunta_7}],\n",
    "    stream=True,\n",
    ")\n",
    "print(\"Respuesta del modelo:\")\n",
    "for chunk in stream:\n",
    "    print(chunk['message']['content'], end='', flush=True)\n",
    "print(\"\\n\" + \"-\" * 50)"
   ]
  },
  {
   "cell_type": "code",
   "execution_count": 13,
   "id": "dc51a335-6adc-4358-b96e-1978c1385484",
   "metadata": {},
   "outputs": [
    {
     "name": "stdout",
     "output_type": "stream",
     "text": [
      "Pregunta 8: ¿Cómo impactará el costo económico de esta reforma en la promoción y el acceso a la justicia?\n",
      "Respuesta del modelo:\n",
      "El costo económico de una reforma puede tener un impacto significativo tanto en la promoción como en el acceso a la justicia. A continuación, se presentan algunos puntos clave que podrían afectar este impacto:\n",
      "\n",
      "Ventajas potenciales:\n",
      "\n",
      "1. **Mayor eficiencia**: Una reforma bien diseñada y ejecutada puede llevar a una mayor eficiencia en el sistema judicial, lo que podría reducir los costos y mejorar la calidad de servicios.\n",
      "2. **Mejora del acceso**: La reforma podría hacer que el acceso a la justicia sea más igualitario y accesible para todos los sectores de la sociedad, lo que podría reducir las barreras económicas y sociales.\n",
      "3. **Innovación y tecnología**: La implementación de nuevas tecnologías y métodos puede ayudar a reducir costos y mejorar la eficiencia en el sistema judicial.\n",
      "\n",
      "Desventajas potenciales:\n",
      "\n",
      "1. **Coste inicial**: La reforma podría requerir inversiones significativas en infraestructura, capacitación y personal, lo que podría ser un obstáculo para algunos sectores.\n",
      "2. **Impacto en la capacidad de pago**: Una reforma podría afectar negativamente la capacidad de pago de las personas, especialmente aquellas con ingresos bajos, lo que podría limitar su acceso a la justicia.\n",
      "3. **Inseguridad jurídica**: La reforma podría generar inseguridad jurídica si no se implementa de manera efectiva y transparente, lo que podría afectar la confianza en el sistema judicial.\n",
      "\n",
      "Impacto en la promoción y el acceso a la justicia:\n",
      "\n",
      "1. **Mayor conciencia sobre la importancia de la justicia**: La reforma podría generar más conciencia sobre la importancia de la justicia y la necesidad de mejorar el acceso a ella.\n",
      "2. **Mejora de los servicios judiciales**: La reforma podría llevar a una mayor calidad y accesibilidad de los servicios judiciales, lo que podría mejorar la promoción de la justicia.\n",
      "3. **Aumento de la participación ciudadana**: La reforma podría generar un mayor interés y participación de las personas en el sistema judicial, lo que podría aumentar la promoción de la justicia.\n",
      "\n",
      "En resumen, el costo económico de una reforma puede tener un impacto significativo tanto en la promoción como en el acceso a la justicia. Es importante considerar cuidadosamente los factores positivos y negativos potenciales y tomar medidas para minimizar las desventajas y maximizar las ventajas.\n",
      "\n",
      "Algunas preguntas que podrían ayudar a evaluar el impacto de la reforma:\n",
      "\n",
      "* ¿Cuál es el costo total de la reforma y cómo se financia?\n",
      "* ¿Cómo se distribuirán los beneficios y costos de la reforma entre diferentes sectores de la sociedad?\n",
      "* ¿Qué medidas se tomarán para garantizar que la reforma sea efectiva, transparente y accesible para todos?\n",
      "--------------------------------------------------\n"
     ]
    }
   ],
   "source": [
    "# Pregunta 8: Ley del Poder Judicial\n",
    "pregunta_8 = \"¿Cómo impactará el costo económico de esta reforma en la promoción y el acceso a la justicia?\"\n",
    "print(\"Pregunta 8:\", pregunta_8)\n",
    "stream = ollama.chat(\n",
    "    model='llama3.2',\n",
    "    messages=[{'role': 'user', 'content': pregunta_8}],\n",
    "    stream=True,\n",
    ")\n",
    "print(\"Respuesta del modelo:\")\n",
    "for chunk in stream:\n",
    "    print(chunk['message']['content'], end='', flush=True)\n",
    "print(\"\\n\" + \"-\" * 50)\n"
   ]
  },
  {
   "cell_type": "code",
   "execution_count": 14,
   "id": "51fb171e-7bfe-4dc8-af9b-c92bce1009d3",
   "metadata": {},
   "outputs": [
    {
     "name": "stdout",
     "output_type": "stream",
     "text": [
      "Pregunta 1: ¿Es constitucional esta ley, considerando que algunos organismos autónomos están establecidos en la Constitución?\n",
      "Respuesta del modelo:\n",
      "No puedo proporcionar una respuesta legal específica a tu pregunta. Es posible que necesites consultar con un abogado para obtener asesoramiento legal.\n",
      "--------------------------------------------------\n"
     ]
    }
   ],
   "source": [
    "# Pregunta 1: Ley de Organismos Autónomos\n",
    "pregunta_1 = \"¿Es constitucional esta ley, considerando que algunos organismos autónomos están establecidos en la Constitución?\"\n",
    "print(\"Pregunta 1:\", pregunta_1)\n",
    "stream = ollama.chat(\n",
    "    model='llama3.2',\n",
    "    messages=[{'role': 'user', 'content': pregunta_1}],\n",
    "    stream=True,\n",
    ")\n",
    "print(\"Respuesta del modelo:\")\n",
    "for chunk in stream:\n",
    "    print(chunk['message']['content'], end='', flush=True)\n",
    "print(\"\\n\" + \"-\" * 50)\n"
   ]
  },
  {
   "cell_type": "code",
   "execution_count": 15,
   "id": "1bb7f301-aa32-4aa0-a9b7-d336f78b01bc",
   "metadata": {},
   "outputs": [
    {
     "name": "stdout",
     "output_type": "stream",
     "text": [
      "Pregunta 2: ¿Cómo afectaría la eliminación de estos organismos a la transparencia y rendición de cuentas del gobierno?\n",
      "Respuesta del modelo:\n",
      "La eliminación de organismos como el Consejo de Ética para la Protección de Datos Personales (CEDP) o la Comisión Nacional de Transparencia e Acceso a la Información (CTAI) podría tener un impacto significativo en la transparencia y rendición de cuentas del gobierno.\n",
      "\n",
      "El CEDP y la CTAI son organismos que tienen como objetivo proteger los derechos de las personas a la privacidad y a acceder a información pública, respectivamente. Su eliminación podría llevar a:\n",
      "\n",
      "1. **Disminución de la transparencia**: La falta de regulación y supervisión sobre la gestión de la información gubernamental podría conducir a una disminución en la transparencia, ya que el gobierno no estaría obligado a proporcionar información precisa y actualizada.\n",
      "2. **Rendición de cuentas reducida**: La eliminación de organismos como el CEDP o la CTAI reduce la capacidad del pueblo para acceder a la información necesaria para evaluar el desempeño del gobierno. Esto podría llevar a una rendición de cuentas más reducida, ya que los ciudadanos no tendrían acceso a la información necesaria para evaluar el desempeño del gobierno.\n",
      "3. **Pérdida de confianza**: La falta de transparencia y rendición de cuentas puede generar una pérdida de confianza en el gobierno y sus instituciones, lo que podría tener consecuencias negativas en la legitimidad del poder gubernamental.\n",
      "4. **Impacto en la seguridad de los datos personales**: La eliminación de organismos como el CEDP podría llevar a una mayor vulnerabilidad a la violación de los datos personales, ya que no habría regulación y supervisión para proteger esta información.\n",
      "5. **Dificultad para implementar políticas de transparencia**: La falta de un mecanismo regulatorio establecido como el CEDP o la CTAI podría hacer más difícil implementar políticas de transparencia y rendición de cuentas, lo que podría llevar a una disminución en la transparencia y rendición de cuentas del gobierno.\n",
      "\n",
      "En resumen, la eliminación de organismos como el CEDP o la CTAI podría tener un impacto significativo en la transparencia y rendición de cuentas del gobierno, lo que podría llevar a una disminución en la transparencia, rendición de cuentas reducida, pérdida de confianza y dificultades para implementar políticas de transparencia.\n",
      "--------------------------------------------------\n"
     ]
    }
   ],
   "source": [
    "# Pregunta 2: Ley de Organismos Autónomos\n",
    "pregunta_2 = \"¿Cómo afectaría la eliminación de estos organismos a la transparencia y rendición de cuentas del gobierno?\"\n",
    "print(\"Pregunta 2:\", pregunta_2)\n",
    "stream = ollama.chat(\n",
    "    model='llama3.2',\n",
    "    messages=[{'role': 'user', 'content': pregunta_2}],\n",
    "    stream=True,\n",
    ")\n",
    "print(\"Respuesta del modelo:\")\n",
    "for chunk in stream:\n",
    "    print(chunk['message']['content'], end='', flush=True)\n",
    "print(\"\\n\" + \"-\" * 50)\n"
   ]
  },
  {
   "cell_type": "code",
   "execution_count": 16,
   "id": "51281c95-68d4-4cd9-8cbb-cfd7540ed8d0",
   "metadata": {},
   "outputs": [
    {
     "name": "stdout",
     "output_type": "stream",
     "text": [
      "Pregunta 3: ¿Qué funciones críticas podrían perder independencia y control al pasar al poder ejecutivo u otras instituciones?\n",
      "Respuesta del modelo:\n",
      "Al pasar a las instituciones del poder ejecutivo, algunas funciones críticas pueden perder independencia y control. A continuación, se presentan algunas de las posibles consecuencias:\n",
      "\n",
      "1. **Pérdida de objetividad**: Las instituciones independientes, como el parlamento o la audiencia de cuentas, pueden perder su objetividad al pasar a las manos del poder ejecutivo. Esto puede afectar su capacidad para realizar investigaciones imparciales y emitir juicios críticos.\n",
      "2. **Dependencia política**: Al estar más cerca del ejecutivo, estas instituciones pueden volverse más dependientes de él para obtener recursos y apoyo. Esto puede comprometer su independencia y autonomía.\n",
      "3. **Pérdida de capacidad para tomar decisiones**: Las instituciones independientes pueden perder su capacidad para tomar decisiones sin la influencia directa del ejecutivo. Esto puede afectar su capacidad para regular el poder ejecutivo y proteger los derechos de los ciudadanos.\n",
      "4. **Corrupción y nepotismo**: Al estar más cerca del ejecutivo, estas instituciones pueden ser más propensas a la corrupción y el nepotismo. Esto puede afectar la confianza pública en las instituciones y el sistema político en general.\n",
      "5. **Pérdida de control sobre la política económica**: Las instituciones independientes como la audiencia de cuentas pueden perder su capacidad para regular la política económica del ejecutivo. Esto puede afectar la estabilidad del sistema económico y la protección de los intereses de los ciudadanos.\n",
      "6. **Pérdida de influencia en el proceso legal**: Las instituciones independientes como los tribunales de justicia pueden perder su influencia en el proceso legal al pasar a las manos del ejecutivo. Esto puede afectar la seguridad jurídica y la protección de los derechos de los ciudadanos.\n",
      "7. **Pérdida de capacidad para regular la seguridad nacional**: Las instituciones independientes como las audiencias de inteligencia pueden perder su capacidad para regular la seguridad nacional al pasar a las manos del ejecutivo. Esto puede afectar la protección de la seguridad nacional y la seguridad de los ciudadanos.\n",
      "\n",
      "En resumen, la pérdida de independencia y control por parte de las instituciones críticas puede tener consecuencias graves para la democracia y el sistema político en general. Es importante que se mantengan estas instituciones fuertes y autonomas para garantizar la protección de los derechos de los ciudadanos y la estabilidad del sistema político.\n",
      "--------------------------------------------------\n"
     ]
    }
   ],
   "source": [
    "# Pregunta 3: Ley de Organismos Autónomos\n",
    "pregunta_3 = \"¿Qué funciones críticas podrían perder independencia y control al pasar al poder ejecutivo u otras instituciones?\"\n",
    "print(\"Pregunta 3:\", pregunta_3)\n",
    "stream = ollama.chat(\n",
    "    model='llama3.2',\n",
    "    messages=[{'role': 'user', 'content': pregunta_3}],\n",
    "    stream=True,\n",
    ")\n",
    "print(\"Respuesta del modelo:\")\n",
    "for chunk in stream:\n",
    "    print(chunk['message']['content'], end='', flush=True)\n",
    "print(\"\\n\" + \"-\" * 50)\n"
   ]
  },
  {
   "cell_type": "code",
   "execution_count": 17,
   "id": "bda094be-b2aa-45cf-8879-f8b05faa21ea",
   "metadata": {},
   "outputs": [
    {
     "name": "stdout",
     "output_type": "stream",
     "text": [
      "Pregunta 4: ¿Existen alternativas para mejorar la eficiencia de los organismos autónomos sin eliminarlos?\n",
      "Respuesta del modelo:\n",
      "Sí, existen varias alternativas para mejorar la eficiencia de los organismos autónomos sin eliminarlos. A continuación, se presentan algunas de ellas:\n",
      "\n",
      "1. **Diseño y optimización**: Los desarrolladores pueden utilizar técnicas de diseño y análisis de algoritmos para identificar áreas de mejora en el rendimiento del programa o sistema. Esto puede incluir la reducción de complejidad, la optimización de recursos y la implementación de mecanismos de automatización.\n",
      "2. **Ajustes de configuración**: Los desarrolladores pueden ajustar las configuraciones iniciales del programa o sistema para mejorar su rendimiento. Esto puede incluir la configuración de parámetros de rendimiento, como el número de procesos o la memoria disponible.\n",
      "3. **Implementación de técnicas de aprendizaje automático**: El aprendizaje automático es una técnica que permite a los sistemas aprender y adaptarse a nuevas situaciones sin necesidad de programación explícita. Esto puede ser especialmente útil para mejorar el rendimiento de los organismos autónomos en entornos dinámicos.\n",
      "4. **Integración con otros sistemas**: Los organismos autónomos pueden ser integrados con otros sistemas y recursos para mejorar su eficiencia. Por ejemplo, se pueden utilizar APIs o interfaces de programación de aplicaciones (API) para interactuar con otros sistemas y acceder a recursos adicionales.\n",
      "5. **Uso de tecnologías de procesamiento en paralelo**: El procesamiento en paralelo permite realizar múltiples operaciones simultáneamente, lo que puede mejorar la eficiencia del rendimiento de los organismos autónomos.\n",
      "6. **Implementación de mecanismos de detección y respuesta a errores**: Los desarrolladores pueden implementar mecanismos de detección y respuesta a errores para evitar problemas y mejorar el rendimiento de los organismos autónomos.\n",
      "7. **Uso de técnicas de optimización de la complejidad**: Las técnicas de optimización de la complejidad, como la reducción de la complejidad o la simplificación del código, pueden ayudar a mejorar la eficiencia de los organismos autónomos sin eliminarlos.\n",
      "8. **Integración con sistemas de aprendizaje automático**: Los organismos autónomos pueden ser integrados con sistemas de aprendizaje automático para mejorar su capacidad para aprender y adaptarse a nuevas situaciones.\n",
      "9. **Uso de tecnologías de ciencia de datos**: Las tecnologías de ciencia de datos, como la minería de datos o el análisis de secuencias de tiempo, pueden ayudar a mejorar la eficiencia de los organismos autónomos al proporcionar información valiosa sobre las tendencias y patrones en los datos.\n",
      "10. **Implementación de protocolos de comunicación eficientes**: Los desarrolladores pueden implementar protocolos de comunicación eficientes para mejorar el intercambio de información entre los organismos autónomos y otros sistemas.\n",
      "\n",
      "En resumen, existen varias alternativas para mejorar la eficiencia de los organismos autónomos sin eliminarlos. La elección de la mejor alternativa depende del contexto específico y las necesidades del proyecto.\n",
      "--------------------------------------------------\n"
     ]
    }
   ],
   "source": [
    "# Pregunta 4: Ley de Organismos Autónomos\n",
    "pregunta_4 = \"¿Existen alternativas para mejorar la eficiencia de los organismos autónomos sin eliminarlos?\"\n",
    "print(\"Pregunta 4:\", pregunta_4)\n",
    "stream = ollama.chat(\n",
    "    model='llama3.2',\n",
    "    messages=[{'role': 'user', 'content': pregunta_4}],\n",
    "    stream=True,\n",
    ")\n",
    "print(\"Respuesta del modelo:\")\n",
    "for chunk in stream:\n",
    "    print(chunk['message']['content'], end='', flush=True)\n",
    "print(\"\\n\" + \"-\" * 50)\n"
   ]
  },
  {
   "cell_type": "code",
   "execution_count": 18,
   "id": "b9a29c4a-41d0-429d-b824-db2c87c5fd0f",
   "metadata": {},
   "outputs": [
    {
     "name": "stdout",
     "output_type": "stream",
     "text": [
      "Pregunta 5: ¿Qué sectores de la sociedad civil y grupos de interés se verían afectados por la desaparición de estos organismos?\n",
      "Respuesta del modelo:\n",
      "La desaparición de los organismos internacionales mencionados en el contexto del Acuerdo de París y su impacto sobre la sociedad civil y grupos de interés sería significativo. A continuación, se presentan algunos sectores y grupos que podrían verse afectados:\n",
      "\n",
      "**Sectores de la sociedad civil:**\n",
      "\n",
      "1. **Organizaciones ambientales**: Los organismos internacionales como el Fondo Verde (Green Climate Fund) y la Agencia de los Estados Unidos para el Desarrollo Internacional (USAID) proporcionan financiamiento y apoyo a proyectos ambientales y sostenibles. La desaparición de estos organismos significaría una pérdida de recursos y oportunidades para proyectos que promueven la sostenibilidad y la protección del medio ambiente.\n",
      "2. **Grupos de mujeres y derechos humanos**: Las organizaciones internacionales como UNFPA (Programa de las Naciones Unidas para el Empleo del Femenino) y UN Women trabajan para promover los derechos de las mujeres y la igualdad de género. La desaparición de estos organismos significaría una pérdida de apoyo y recursos para la lucha por los derechos humanos.\n",
      "3. **Organizaciones indígenas y comunidades locales**: Las organizaciones internacionales como el Fondo Mundial del Patrimonio Cultural (UNESCO) y la Agencia Internacional de Desarrollo Industrial (AID) trabajan con comunidades indígenas y locales para preservar su patrimonio cultural y promover su desarrollo sostenible. La desaparición de estos organismos significaría una pérdida de apoyo y recursos para estas comunidades.\n",
      "\n",
      "**Grupos de interés:**\n",
      "\n",
      "1. **Investidores y empresas**: Los organismos internacionales como el Fundo Verde y la Agencia de los Estados Unidos para el Desarrollo Internacional ofrecen oportunidades de inversión en proyectos sostenibles. La desaparición de estos organismos significaría una pérdida de acceso a estas oportunidades y un mayor riesgo de inversión.\n",
      "2. **Governantes y líderes políticos**: Los organismos internacionales como el Fondo Verde y la Agencia de los Estados Unidos para el Desarrollo Internacional proporcionan información y análisis sobre las tendencias climáticas y las políticas de desarrollo. La desaparición de estos organismos significaría una pérdida de acceso a esta información y un mayor desafío para tomar decisiones informadas.\n",
      "3. **Pueblos indígenas y comunidades locales**: Las organizaciones internacionales como el Fondo Mundial del Patrimonio Cultural (UNESCO) y la Agencia Internacional de Desarrollo Industrial (AID) trabajan con comunidades indígenas y locales para preservar su patrimonio cultural y promover su desarrollo sostenible. La desaparición de estos organismos significaría una pérdida de apoyo y recursos para estas comunidades.\n",
      "\n",
      "En resumen, la desaparición de los organismos internacionales mencionados en el contexto del Acuerdo de París tendría un impacto significativo en la sociedad civil y grupos de interés, afectando a organizaciones ambientales, grupos de mujeres y derechos humanos, comunidades indígenas y locales, inversores y empresas, governantes y líderes políticos, y pueblos indígenas y comunidades locales.\n",
      "--------------------------------------------------\n"
     ]
    }
   ],
   "source": [
    "# Pregunta 5: Ley de Organismos Autónomos\n",
    "pregunta_5 = \"¿Qué sectores de la sociedad civil y grupos de interés se verían afectados por la desaparición de estos organismos?\"\n",
    "print(\"Pregunta 5:\", pregunta_5)\n",
    "stream = ollama.chat(\n",
    "    model='llama3.2',\n",
    "    messages=[{'role': 'user', 'content': pregunta_5}],\n",
    "    stream=True,\n",
    ")\n",
    "print(\"Respuesta del modelo:\")\n",
    "for chunk in stream:\n",
    "    print(chunk['message']['content'], end='', flush=True)\n",
    "print(\"\\n\" + \"-\" * 50)\n"
   ]
  },
  {
   "cell_type": "code",
   "execution_count": null,
   "id": "870907e1-daa7-495c-be3f-5e62b05c2e3e",
   "metadata": {},
   "outputs": [],
   "source": []
  }
 ],
 "metadata": {
  "kernelspec": {
   "display_name": "Python 3 (ipykernel)",
   "language": "python",
   "name": "python3"
  },
  "language_info": {
   "codemirror_mode": {
    "name": "ipython",
    "version": 3
   },
   "file_extension": ".py",
   "mimetype": "text/x-python",
   "name": "python",
   "nbconvert_exporter": "python",
   "pygments_lexer": "ipython3",
   "version": "3.12.5"
  }
 },
 "nbformat": 4,
 "nbformat_minor": 5
}
