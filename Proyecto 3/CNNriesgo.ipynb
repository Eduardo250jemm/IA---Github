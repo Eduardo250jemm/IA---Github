{
 "cells": [
  {
   "cell_type": "markdown",
   "id": "84a6141b",
   "metadata": {},
   "source": []
  },
  {
   "cell_type": "code",
   "execution_count": 92,
   "id": "04b8220d-ae2d-4d44-b724-1be237ab95ce",
   "metadata": {},
   "outputs": [],
   "source": [
    "import numpy as np \n",
    "import cv2 as cv\n",
    "import os\n",
    "\n",
    "# Abrir el video\n",
    "cap = cv.VideoCapture(\"C:\\\\Users\\\\marti\\\\Documents\\\\Decimo Semeste\\\\IA\\\\IA - Github\\\\Proyecto 3\\\\img o videos\\\\1_Tsuro\\\\30.mp4\") \n",
    "\n",
    "# Carpeta de salida para guardar las imágenes\n",
    "output_folder = 'C:\\\\Users\\\\marti\\\\Documents\\\\Decimo Semeste\\\\IA\\\\IA - Github\\\\Proyecto 3\\\\dataset\\\\1_Tsuru\\\\'\n",
    "\n",
    "# Obtener la FPS del video\n",
    "fps = cap.get(cv.CAP_PROP_FPS)\n",
    "\n",
    "# Determinar cuántos fotogramas se deben omitir entre cada imagen (por ejemplo, 1 imagen por segundo)\n",
    "fps_extraction = 3  # 1 imagen por segundo\n",
    "frame_interval = int(fps // fps_extraction)\n",
    "\n",
    "# Iniciar el contador para guardar las imágenes\n",
    "files = os.listdir(output_folder)\n",
    "if files:\n",
    "    i = max([int(f.split('tsuru')[1].split('.jpg')[0]) for f in files if 'tsuru' in f]) + 1\n",
    "else:\n",
    "    i = 0\n",
    "\n",
    "frame_count = 0  # Contador de fotogramas\n",
    "\n",
    "while True:\n",
    "    ret, frame = cap.read()\n",
    "    if not ret:\n",
    "        break  # Si no se puede leer el fotograma, sal del bucle\n",
    "    \n",
    "    # Mostrar el fotograma (opcional)\n",
    "    cv.imshow('img', frame)\n",
    "\n",
    "    # Capturar la imagen solo si es el fotograma correspondiente\n",
    "    if frame_count % frame_interval == 0:\n",
    "        # Redimensionar la imagen capturada\n",
    "        frame_resized = cv.resize(frame, (32, 32), interpolation=cv.INTER_AREA)\n",
    "        \n",
    "        # Guardar la imagen redimensionada\n",
    "        cv.imwrite(output_folder + 'tsuru' + str(i) + '.jpg', frame_resized)\n",
    "        i += 1\n",
    "\n",
    "    frame_count += 1\n",
    "\n",
    "    # Si se presiona 'ESC', salir del bucle\n",
    "    k = cv.waitKey(1)\n",
    "    if k == 27:\n",
    "        break\n",
    "\n",
    "# Liberar el video y cerrar las ventanas\n",
    "cap.release()\n",
    "cv.destroyAllWindows()\n"
   ]
  },
  {
   "cell_type": "code",
   "execution_count": 70,
   "id": "591ada86-b6f4-4fd3-a8f1-90bdd4838335",
   "metadata": {},
   "outputs": [
    {
     "name": "stdout",
     "output_type": "stream",
     "text": [
      "Imagen redimensionada y guardada en: C:\\Users\\marti\\Documents\\Decimo Semeste\\IA\\IA - Github\\Proyecto 3\\dataset\\1_Tsuru\\tsuru853.jpg\n",
      "Imagen redimensionada y guardada en: C:\\Users\\marti\\Documents\\Decimo Semeste\\IA\\IA - Github\\Proyecto 3\\dataset\\1_Tsuru\\tsuru854.jpg\n",
      "Imagen redimensionada y guardada en: C:\\Users\\marti\\Documents\\Decimo Semeste\\IA\\IA - Github\\Proyecto 3\\dataset\\1_Tsuru\\tsuru855.jpg\n",
      "Imagen redimensionada y guardada en: C:\\Users\\marti\\Documents\\Decimo Semeste\\IA\\IA - Github\\Proyecto 3\\dataset\\1_Tsuru\\tsuru856.jpg\n",
      "Imagen redimensionada y guardada en: C:\\Users\\marti\\Documents\\Decimo Semeste\\IA\\IA - Github\\Proyecto 3\\dataset\\1_Tsuru\\tsuru857.jpg\n",
      "Imagen redimensionada y guardada en: C:\\Users\\marti\\Documents\\Decimo Semeste\\IA\\IA - Github\\Proyecto 3\\dataset\\1_Tsuru\\tsuru858.jpg\n",
      "Imagen redimensionada y guardada en: C:\\Users\\marti\\Documents\\Decimo Semeste\\IA\\IA - Github\\Proyecto 3\\dataset\\1_Tsuru\\tsuru859.jpg\n",
      "Imagen redimensionada y guardada en: C:\\Users\\marti\\Documents\\Decimo Semeste\\IA\\IA - Github\\Proyecto 3\\dataset\\1_Tsuru\\tsuru860.jpg\n",
      "Imagen redimensionada y guardada en: C:\\Users\\marti\\Documents\\Decimo Semeste\\IA\\IA - Github\\Proyecto 3\\dataset\\1_Tsuru\\tsuru861.jpg\n",
      "Imagen redimensionada y guardada en: C:\\Users\\marti\\Documents\\Decimo Semeste\\IA\\IA - Github\\Proyecto 3\\dataset\\1_Tsuru\\tsuru862.jpg\n",
      "Imagen redimensionada y guardada en: C:\\Users\\marti\\Documents\\Decimo Semeste\\IA\\IA - Github\\Proyecto 3\\dataset\\1_Tsuru\\tsuru863.jpg\n",
      "Imagen redimensionada y guardada en: C:\\Users\\marti\\Documents\\Decimo Semeste\\IA\\IA - Github\\Proyecto 3\\dataset\\1_Tsuru\\tsuru864.jpg\n",
      "Imagen redimensionada y guardada en: C:\\Users\\marti\\Documents\\Decimo Semeste\\IA\\IA - Github\\Proyecto 3\\dataset\\1_Tsuru\\tsuru865.jpg\n",
      "Imagen redimensionada y guardada en: C:\\Users\\marti\\Documents\\Decimo Semeste\\IA\\IA - Github\\Proyecto 3\\dataset\\1_Tsuru\\tsuru866.jpg\n",
      "Imagen redimensionada y guardada en: C:\\Users\\marti\\Documents\\Decimo Semeste\\IA\\IA - Github\\Proyecto 3\\dataset\\1_Tsuru\\tsuru867.jpg\n",
      "Imagen redimensionada y guardada en: C:\\Users\\marti\\Documents\\Decimo Semeste\\IA\\IA - Github\\Proyecto 3\\dataset\\1_Tsuru\\tsuru868.jpg\n",
      "Imagen redimensionada y guardada en: C:\\Users\\marti\\Documents\\Decimo Semeste\\IA\\IA - Github\\Proyecto 3\\dataset\\1_Tsuru\\tsuru869.jpg\n",
      "Imagen redimensionada y guardada en: C:\\Users\\marti\\Documents\\Decimo Semeste\\IA\\IA - Github\\Proyecto 3\\dataset\\1_Tsuru\\tsuru870.jpg\n",
      "Imagen redimensionada y guardada en: C:\\Users\\marti\\Documents\\Decimo Semeste\\IA\\IA - Github\\Proyecto 3\\dataset\\1_Tsuru\\tsuru871.jpg\n",
      "Imagen redimensionada y guardada en: C:\\Users\\marti\\Documents\\Decimo Semeste\\IA\\IA - Github\\Proyecto 3\\dataset\\1_Tsuru\\tsuru872.jpg\n",
      "Imagen redimensionada y guardada en: C:\\Users\\marti\\Documents\\Decimo Semeste\\IA\\IA - Github\\Proyecto 3\\dataset\\1_Tsuru\\tsuru873.jpg\n",
      "Imagen redimensionada y guardada en: C:\\Users\\marti\\Documents\\Decimo Semeste\\IA\\IA - Github\\Proyecto 3\\dataset\\1_Tsuru\\tsuru874.jpg\n",
      "Imagen redimensionada y guardada en: C:\\Users\\marti\\Documents\\Decimo Semeste\\IA\\IA - Github\\Proyecto 3\\dataset\\1_Tsuru\\tsuru875.jpg\n",
      "Imagen redimensionada y guardada en: C:\\Users\\marti\\Documents\\Decimo Semeste\\IA\\IA - Github\\Proyecto 3\\dataset\\1_Tsuru\\tsuru876.jpg\n",
      "Imagen redimensionada y guardada en: C:\\Users\\marti\\Documents\\Decimo Semeste\\IA\\IA - Github\\Proyecto 3\\dataset\\1_Tsuru\\tsuru877.jpg\n",
      "Imagen redimensionada y guardada en: C:\\Users\\marti\\Documents\\Decimo Semeste\\IA\\IA - Github\\Proyecto 3\\dataset\\1_Tsuru\\tsuru878.jpg\n",
      "Imagen redimensionada y guardada en: C:\\Users\\marti\\Documents\\Decimo Semeste\\IA\\IA - Github\\Proyecto 3\\dataset\\1_Tsuru\\tsuru879.jpg\n",
      "Imagen redimensionada y guardada en: C:\\Users\\marti\\Documents\\Decimo Semeste\\IA\\IA - Github\\Proyecto 3\\dataset\\1_Tsuru\\tsuru880.jpg\n",
      "Imagen redimensionada y guardada en: C:\\Users\\marti\\Documents\\Decimo Semeste\\IA\\IA - Github\\Proyecto 3\\dataset\\1_Tsuru\\tsuru881.jpg\n",
      "Imagen redimensionada y guardada en: C:\\Users\\marti\\Documents\\Decimo Semeste\\IA\\IA - Github\\Proyecto 3\\dataset\\1_Tsuru\\tsuru882.jpg\n",
      "Imagen redimensionada y guardada en: C:\\Users\\marti\\Documents\\Decimo Semeste\\IA\\IA - Github\\Proyecto 3\\dataset\\1_Tsuru\\tsuru883.jpg\n",
      "Imagen redimensionada y guardada en: C:\\Users\\marti\\Documents\\Decimo Semeste\\IA\\IA - Github\\Proyecto 3\\dataset\\1_Tsuru\\tsuru884.jpg\n",
      "Imagen redimensionada y guardada en: C:\\Users\\marti\\Documents\\Decimo Semeste\\IA\\IA - Github\\Proyecto 3\\dataset\\1_Tsuru\\tsuru885.jpg\n",
      "Imagen redimensionada y guardada en: C:\\Users\\marti\\Documents\\Decimo Semeste\\IA\\IA - Github\\Proyecto 3\\dataset\\1_Tsuru\\tsuru886.jpg\n",
      "Imagen redimensionada y guardada en: C:\\Users\\marti\\Documents\\Decimo Semeste\\IA\\IA - Github\\Proyecto 3\\dataset\\1_Tsuru\\tsuru887.jpg\n",
      "Imagen redimensionada y guardada en: C:\\Users\\marti\\Documents\\Decimo Semeste\\IA\\IA - Github\\Proyecto 3\\dataset\\1_Tsuru\\tsuru888.jpg\n",
      "Imagen redimensionada y guardada en: C:\\Users\\marti\\Documents\\Decimo Semeste\\IA\\IA - Github\\Proyecto 3\\dataset\\1_Tsuru\\tsuru889.jpg\n",
      "Imagen redimensionada y guardada en: C:\\Users\\marti\\Documents\\Decimo Semeste\\IA\\IA - Github\\Proyecto 3\\dataset\\1_Tsuru\\tsuru890.jpg\n",
      "Imagen redimensionada y guardada en: C:\\Users\\marti\\Documents\\Decimo Semeste\\IA\\IA - Github\\Proyecto 3\\dataset\\1_Tsuru\\tsuru891.jpg\n",
      "Imagen redimensionada y guardada en: C:\\Users\\marti\\Documents\\Decimo Semeste\\IA\\IA - Github\\Proyecto 3\\dataset\\1_Tsuru\\tsuru892.jpg\n",
      "Imagen redimensionada y guardada en: C:\\Users\\marti\\Documents\\Decimo Semeste\\IA\\IA - Github\\Proyecto 3\\dataset\\1_Tsuru\\tsuru893.jpg\n",
      "Imagen redimensionada y guardada en: C:\\Users\\marti\\Documents\\Decimo Semeste\\IA\\IA - Github\\Proyecto 3\\dataset\\1_Tsuru\\tsuru894.jpg\n",
      "Imagen redimensionada y guardada en: C:\\Users\\marti\\Documents\\Decimo Semeste\\IA\\IA - Github\\Proyecto 3\\dataset\\1_Tsuru\\tsuru895.jpg\n",
      "Imagen redimensionada y guardada en: C:\\Users\\marti\\Documents\\Decimo Semeste\\IA\\IA - Github\\Proyecto 3\\dataset\\1_Tsuru\\tsuru896.jpg\n",
      "Imagen redimensionada y guardada en: C:\\Users\\marti\\Documents\\Decimo Semeste\\IA\\IA - Github\\Proyecto 3\\dataset\\1_Tsuru\\tsuru897.jpg\n",
      "Imagen redimensionada y guardada en: C:\\Users\\marti\\Documents\\Decimo Semeste\\IA\\IA - Github\\Proyecto 3\\dataset\\1_Tsuru\\tsuru898.jpg\n",
      "Imagen redimensionada y guardada en: C:\\Users\\marti\\Documents\\Decimo Semeste\\IA\\IA - Github\\Proyecto 3\\dataset\\1_Tsuru\\tsuru899.jpg\n",
      "Imagen redimensionada y guardada en: C:\\Users\\marti\\Documents\\Decimo Semeste\\IA\\IA - Github\\Proyecto 3\\dataset\\1_Tsuru\\tsuru900.jpg\n",
      "Imagen redimensionada y guardada en: C:\\Users\\marti\\Documents\\Decimo Semeste\\IA\\IA - Github\\Proyecto 3\\dataset\\1_Tsuru\\tsuru901.jpg\n",
      "Imagen redimensionada y guardada en: C:\\Users\\marti\\Documents\\Decimo Semeste\\IA\\IA - Github\\Proyecto 3\\dataset\\1_Tsuru\\tsuru902.jpg\n",
      "Imagen redimensionada y guardada en: C:\\Users\\marti\\Documents\\Decimo Semeste\\IA\\IA - Github\\Proyecto 3\\dataset\\1_Tsuru\\tsuru903.jpg\n",
      "Imagen redimensionada y guardada en: C:\\Users\\marti\\Documents\\Decimo Semeste\\IA\\IA - Github\\Proyecto 3\\dataset\\1_Tsuru\\tsuru904.jpg\n",
      "Imagen redimensionada y guardada en: C:\\Users\\marti\\Documents\\Decimo Semeste\\IA\\IA - Github\\Proyecto 3\\dataset\\1_Tsuru\\tsuru905.jpg\n",
      "Imagen redimensionada y guardada en: C:\\Users\\marti\\Documents\\Decimo Semeste\\IA\\IA - Github\\Proyecto 3\\dataset\\1_Tsuru\\tsuru906.jpg\n",
      "Imagen redimensionada y guardada en: C:\\Users\\marti\\Documents\\Decimo Semeste\\IA\\IA - Github\\Proyecto 3\\dataset\\1_Tsuru\\tsuru907.jpg\n",
      "Imagen redimensionada y guardada en: C:\\Users\\marti\\Documents\\Decimo Semeste\\IA\\IA - Github\\Proyecto 3\\dataset\\1_Tsuru\\tsuru908.jpg\n",
      "Imagen redimensionada y guardada en: C:\\Users\\marti\\Documents\\Decimo Semeste\\IA\\IA - Github\\Proyecto 3\\dataset\\1_Tsuru\\tsuru909.jpg\n",
      "Imagen redimensionada y guardada en: C:\\Users\\marti\\Documents\\Decimo Semeste\\IA\\IA - Github\\Proyecto 3\\dataset\\1_Tsuru\\tsuru910.jpg\n",
      "Imagen redimensionada y guardada en: C:\\Users\\marti\\Documents\\Decimo Semeste\\IA\\IA - Github\\Proyecto 3\\dataset\\1_Tsuru\\tsuru911.jpg\n",
      "Imagen redimensionada y guardada en: C:\\Users\\marti\\Documents\\Decimo Semeste\\IA\\IA - Github\\Proyecto 3\\dataset\\1_Tsuru\\tsuru912.jpg\n",
      "Imagen redimensionada y guardada en: C:\\Users\\marti\\Documents\\Decimo Semeste\\IA\\IA - Github\\Proyecto 3\\dataset\\1_Tsuru\\tsuru913.jpg\n",
      "Imagen redimensionada y guardada en: C:\\Users\\marti\\Documents\\Decimo Semeste\\IA\\IA - Github\\Proyecto 3\\dataset\\1_Tsuru\\tsuru914.jpg\n",
      "Imagen redimensionada y guardada en: C:\\Users\\marti\\Documents\\Decimo Semeste\\IA\\IA - Github\\Proyecto 3\\dataset\\1_Tsuru\\tsuru915.jpg\n",
      "Imagen redimensionada y guardada en: C:\\Users\\marti\\Documents\\Decimo Semeste\\IA\\IA - Github\\Proyecto 3\\dataset\\1_Tsuru\\tsuru916.jpg\n",
      "Imagen redimensionada y guardada en: C:\\Users\\marti\\Documents\\Decimo Semeste\\IA\\IA - Github\\Proyecto 3\\dataset\\1_Tsuru\\tsuru917.jpg\n",
      "Imagen redimensionada y guardada en: C:\\Users\\marti\\Documents\\Decimo Semeste\\IA\\IA - Github\\Proyecto 3\\dataset\\1_Tsuru\\tsuru918.jpg\n",
      "Imagen redimensionada y guardada en: C:\\Users\\marti\\Documents\\Decimo Semeste\\IA\\IA - Github\\Proyecto 3\\dataset\\1_Tsuru\\tsuru919.jpg\n",
      "Imagen redimensionada y guardada en: C:\\Users\\marti\\Documents\\Decimo Semeste\\IA\\IA - Github\\Proyecto 3\\dataset\\1_Tsuru\\tsuru920.jpg\n",
      "Imagen redimensionada y guardada en: C:\\Users\\marti\\Documents\\Decimo Semeste\\IA\\IA - Github\\Proyecto 3\\dataset\\1_Tsuru\\tsuru921.jpg\n",
      "Imagen redimensionada y guardada en: C:\\Users\\marti\\Documents\\Decimo Semeste\\IA\\IA - Github\\Proyecto 3\\dataset\\1_Tsuru\\tsuru922.jpg\n",
      "Imagen redimensionada y guardada en: C:\\Users\\marti\\Documents\\Decimo Semeste\\IA\\IA - Github\\Proyecto 3\\dataset\\1_Tsuru\\tsuru923.jpg\n",
      "Imagen redimensionada y guardada en: C:\\Users\\marti\\Documents\\Decimo Semeste\\IA\\IA - Github\\Proyecto 3\\dataset\\1_Tsuru\\tsuru924.jpg\n",
      "Imagen redimensionada y guardada en: C:\\Users\\marti\\Documents\\Decimo Semeste\\IA\\IA - Github\\Proyecto 3\\dataset\\1_Tsuru\\tsuru925.jpg\n",
      "Imagen redimensionada y guardada en: C:\\Users\\marti\\Documents\\Decimo Semeste\\IA\\IA - Github\\Proyecto 3\\dataset\\1_Tsuru\\tsuru926.jpg\n",
      "Imagen redimensionada y guardada en: C:\\Users\\marti\\Documents\\Decimo Semeste\\IA\\IA - Github\\Proyecto 3\\dataset\\1_Tsuru\\tsuru927.jpg\n",
      "Imagen redimensionada y guardada en: C:\\Users\\marti\\Documents\\Decimo Semeste\\IA\\IA - Github\\Proyecto 3\\dataset\\1_Tsuru\\tsuru928.jpg\n",
      "Imagen redimensionada y guardada en: C:\\Users\\marti\\Documents\\Decimo Semeste\\IA\\IA - Github\\Proyecto 3\\dataset\\1_Tsuru\\tsuru929.jpg\n",
      "Imagen redimensionada y guardada en: C:\\Users\\marti\\Documents\\Decimo Semeste\\IA\\IA - Github\\Proyecto 3\\dataset\\1_Tsuru\\tsuru930.jpg\n",
      "Imagen redimensionada y guardada en: C:\\Users\\marti\\Documents\\Decimo Semeste\\IA\\IA - Github\\Proyecto 3\\dataset\\1_Tsuru\\tsuru931.jpg\n",
      "Imagen redimensionada y guardada en: C:\\Users\\marti\\Documents\\Decimo Semeste\\IA\\IA - Github\\Proyecto 3\\dataset\\1_Tsuru\\tsuru932.jpg\n",
      "Imagen redimensionada y guardada en: C:\\Users\\marti\\Documents\\Decimo Semeste\\IA\\IA - Github\\Proyecto 3\\dataset\\1_Tsuru\\tsuru933.jpg\n",
      "Imagen redimensionada y guardada en: C:\\Users\\marti\\Documents\\Decimo Semeste\\IA\\IA - Github\\Proyecto 3\\dataset\\1_Tsuru\\tsuru934.jpg\n",
      "Imagen redimensionada y guardada en: C:\\Users\\marti\\Documents\\Decimo Semeste\\IA\\IA - Github\\Proyecto 3\\dataset\\1_Tsuru\\tsuru935.jpg\n",
      "Imagen redimensionada y guardada en: C:\\Users\\marti\\Documents\\Decimo Semeste\\IA\\IA - Github\\Proyecto 3\\dataset\\1_Tsuru\\tsuru936.jpg\n",
      "Imagen redimensionada y guardada en: C:\\Users\\marti\\Documents\\Decimo Semeste\\IA\\IA - Github\\Proyecto 3\\dataset\\1_Tsuru\\tsuru937.jpg\n",
      "Imagen redimensionada y guardada en: C:\\Users\\marti\\Documents\\Decimo Semeste\\IA\\IA - Github\\Proyecto 3\\dataset\\1_Tsuru\\tsuru938.jpg\n",
      "Imagen redimensionada y guardada en: C:\\Users\\marti\\Documents\\Decimo Semeste\\IA\\IA - Github\\Proyecto 3\\dataset\\1_Tsuru\\tsuru939.jpg\n",
      "Imagen redimensionada y guardada en: C:\\Users\\marti\\Documents\\Decimo Semeste\\IA\\IA - Github\\Proyecto 3\\dataset\\1_Tsuru\\tsuru940.jpg\n",
      "Imagen redimensionada y guardada en: C:\\Users\\marti\\Documents\\Decimo Semeste\\IA\\IA - Github\\Proyecto 3\\dataset\\1_Tsuru\\tsuru941.jpg\n",
      "Imagen redimensionada y guardada en: C:\\Users\\marti\\Documents\\Decimo Semeste\\IA\\IA - Github\\Proyecto 3\\dataset\\1_Tsuru\\tsuru942.jpg\n",
      "Imagen redimensionada y guardada en: C:\\Users\\marti\\Documents\\Decimo Semeste\\IA\\IA - Github\\Proyecto 3\\dataset\\1_Tsuru\\tsuru943.jpg\n",
      "Imagen redimensionada y guardada en: C:\\Users\\marti\\Documents\\Decimo Semeste\\IA\\IA - Github\\Proyecto 3\\dataset\\1_Tsuru\\tsuru944.jpg\n",
      "Imagen redimensionada y guardada en: C:\\Users\\marti\\Documents\\Decimo Semeste\\IA\\IA - Github\\Proyecto 3\\dataset\\1_Tsuru\\tsuru945.jpg\n",
      "Imagen redimensionada y guardada en: C:\\Users\\marti\\Documents\\Decimo Semeste\\IA\\IA - Github\\Proyecto 3\\dataset\\1_Tsuru\\tsuru946.jpg\n",
      "Imagen redimensionada y guardada en: C:\\Users\\marti\\Documents\\Decimo Semeste\\IA\\IA - Github\\Proyecto 3\\dataset\\1_Tsuru\\tsuru947.jpg\n",
      "Imagen redimensionada y guardada en: C:\\Users\\marti\\Documents\\Decimo Semeste\\IA\\IA - Github\\Proyecto 3\\dataset\\1_Tsuru\\tsuru948.jpg\n",
      "Imagen redimensionada y guardada en: C:\\Users\\marti\\Documents\\Decimo Semeste\\IA\\IA - Github\\Proyecto 3\\dataset\\1_Tsuru\\tsuru949.jpg\n",
      "Imagen redimensionada y guardada en: C:\\Users\\marti\\Documents\\Decimo Semeste\\IA\\IA - Github\\Proyecto 3\\dataset\\1_Tsuru\\tsuru950.jpg\n",
      "Imagen redimensionada y guardada en: C:\\Users\\marti\\Documents\\Decimo Semeste\\IA\\IA - Github\\Proyecto 3\\dataset\\1_Tsuru\\tsuru951.jpg\n",
      "Imagen redimensionada y guardada en: C:\\Users\\marti\\Documents\\Decimo Semeste\\IA\\IA - Github\\Proyecto 3\\dataset\\1_Tsuru\\tsuru952.jpg\n",
      "Imagen redimensionada y guardada en: C:\\Users\\marti\\Documents\\Decimo Semeste\\IA\\IA - Github\\Proyecto 3\\dataset\\1_Tsuru\\tsuru953.jpg\n",
      "Imagen redimensionada y guardada en: C:\\Users\\marti\\Documents\\Decimo Semeste\\IA\\IA - Github\\Proyecto 3\\dataset\\1_Tsuru\\tsuru954.jpg\n",
      "Imagen redimensionada y guardada en: C:\\Users\\marti\\Documents\\Decimo Semeste\\IA\\IA - Github\\Proyecto 3\\dataset\\1_Tsuru\\tsuru955.jpg\n",
      "Imagen redimensionada y guardada en: C:\\Users\\marti\\Documents\\Decimo Semeste\\IA\\IA - Github\\Proyecto 3\\dataset\\1_Tsuru\\tsuru956.jpg\n",
      "Imagen redimensionada y guardada en: C:\\Users\\marti\\Documents\\Decimo Semeste\\IA\\IA - Github\\Proyecto 3\\dataset\\1_Tsuru\\tsuru957.jpg\n",
      "Imagen redimensionada y guardada en: C:\\Users\\marti\\Documents\\Decimo Semeste\\IA\\IA - Github\\Proyecto 3\\dataset\\1_Tsuru\\tsuru958.jpg\n",
      "Imagen redimensionada y guardada en: C:\\Users\\marti\\Documents\\Decimo Semeste\\IA\\IA - Github\\Proyecto 3\\dataset\\1_Tsuru\\tsuru959.jpg\n",
      "Imagen redimensionada y guardada en: C:\\Users\\marti\\Documents\\Decimo Semeste\\IA\\IA - Github\\Proyecto 3\\dataset\\1_Tsuru\\tsuru960.jpg\n",
      "Imagen redimensionada y guardada en: C:\\Users\\marti\\Documents\\Decimo Semeste\\IA\\IA - Github\\Proyecto 3\\dataset\\1_Tsuru\\tsuru961.jpg\n",
      "Imagen redimensionada y guardada en: C:\\Users\\marti\\Documents\\Decimo Semeste\\IA\\IA - Github\\Proyecto 3\\dataset\\1_Tsuru\\tsuru962.jpg\n",
      "Imagen redimensionada y guardada en: C:\\Users\\marti\\Documents\\Decimo Semeste\\IA\\IA - Github\\Proyecto 3\\dataset\\1_Tsuru\\tsuru963.jpg\n",
      "Imagen redimensionada y guardada en: C:\\Users\\marti\\Documents\\Decimo Semeste\\IA\\IA - Github\\Proyecto 3\\dataset\\1_Tsuru\\tsuru964.jpg\n",
      "Imagen redimensionada y guardada en: C:\\Users\\marti\\Documents\\Decimo Semeste\\IA\\IA - Github\\Proyecto 3\\dataset\\1_Tsuru\\tsuru965.jpg\n",
      "Imagen redimensionada y guardada en: C:\\Users\\marti\\Documents\\Decimo Semeste\\IA\\IA - Github\\Proyecto 3\\dataset\\1_Tsuru\\tsuru966.jpg\n",
      "Imagen redimensionada y guardada en: C:\\Users\\marti\\Documents\\Decimo Semeste\\IA\\IA - Github\\Proyecto 3\\dataset\\1_Tsuru\\tsuru967.jpg\n",
      "Imagen redimensionada y guardada en: C:\\Users\\marti\\Documents\\Decimo Semeste\\IA\\IA - Github\\Proyecto 3\\dataset\\1_Tsuru\\tsuru968.jpg\n",
      "Imagen redimensionada y guardada en: C:\\Users\\marti\\Documents\\Decimo Semeste\\IA\\IA - Github\\Proyecto 3\\dataset\\1_Tsuru\\tsuru969.jpg\n",
      "Imagen redimensionada y guardada en: C:\\Users\\marti\\Documents\\Decimo Semeste\\IA\\IA - Github\\Proyecto 3\\dataset\\1_Tsuru\\tsuru970.jpg\n",
      "Imagen redimensionada y guardada en: C:\\Users\\marti\\Documents\\Decimo Semeste\\IA\\IA - Github\\Proyecto 3\\dataset\\1_Tsuru\\tsuru971.jpg\n",
      "Imagen redimensionada y guardada en: C:\\Users\\marti\\Documents\\Decimo Semeste\\IA\\IA - Github\\Proyecto 3\\dataset\\1_Tsuru\\tsuru972.jpg\n",
      "Imagen redimensionada y guardada en: C:\\Users\\marti\\Documents\\Decimo Semeste\\IA\\IA - Github\\Proyecto 3\\dataset\\1_Tsuru\\tsuru973.jpg\n",
      "Imagen redimensionada y guardada en: C:\\Users\\marti\\Documents\\Decimo Semeste\\IA\\IA - Github\\Proyecto 3\\dataset\\1_Tsuru\\tsuru974.jpg\n",
      "Imagen redimensionada y guardada en: C:\\Users\\marti\\Documents\\Decimo Semeste\\IA\\IA - Github\\Proyecto 3\\dataset\\1_Tsuru\\tsuru975.jpg\n",
      "Imagen redimensionada y guardada en: C:\\Users\\marti\\Documents\\Decimo Semeste\\IA\\IA - Github\\Proyecto 3\\dataset\\1_Tsuru\\tsuru976.jpg\n",
      "Imagen redimensionada y guardada en: C:\\Users\\marti\\Documents\\Decimo Semeste\\IA\\IA - Github\\Proyecto 3\\dataset\\1_Tsuru\\tsuru977.jpg\n",
      "Imagen redimensionada y guardada en: C:\\Users\\marti\\Documents\\Decimo Semeste\\IA\\IA - Github\\Proyecto 3\\dataset\\1_Tsuru\\tsuru978.jpg\n",
      "Imagen redimensionada y guardada en: C:\\Users\\marti\\Documents\\Decimo Semeste\\IA\\IA - Github\\Proyecto 3\\dataset\\1_Tsuru\\tsuru979.jpg\n",
      "Imagen redimensionada y guardada en: C:\\Users\\marti\\Documents\\Decimo Semeste\\IA\\IA - Github\\Proyecto 3\\dataset\\1_Tsuru\\tsuru980.jpg\n",
      "Imagen redimensionada y guardada en: C:\\Users\\marti\\Documents\\Decimo Semeste\\IA\\IA - Github\\Proyecto 3\\dataset\\1_Tsuru\\tsuru981.jpg\n",
      "Imagen redimensionada y guardada en: C:\\Users\\marti\\Documents\\Decimo Semeste\\IA\\IA - Github\\Proyecto 3\\dataset\\1_Tsuru\\tsuru982.jpg\n",
      "Imagen redimensionada y guardada en: C:\\Users\\marti\\Documents\\Decimo Semeste\\IA\\IA - Github\\Proyecto 3\\dataset\\1_Tsuru\\tsuru983.jpg\n",
      "Imagen redimensionada y guardada en: C:\\Users\\marti\\Documents\\Decimo Semeste\\IA\\IA - Github\\Proyecto 3\\dataset\\1_Tsuru\\tsuru984.jpg\n",
      "Imagen redimensionada y guardada en: C:\\Users\\marti\\Documents\\Decimo Semeste\\IA\\IA - Github\\Proyecto 3\\dataset\\1_Tsuru\\tsuru985.jpg\n",
      "Imagen redimensionada y guardada en: C:\\Users\\marti\\Documents\\Decimo Semeste\\IA\\IA - Github\\Proyecto 3\\dataset\\1_Tsuru\\tsuru986.jpg\n",
      "Imagen redimensionada y guardada en: C:\\Users\\marti\\Documents\\Decimo Semeste\\IA\\IA - Github\\Proyecto 3\\dataset\\1_Tsuru\\tsuru987.jpg\n",
      "Imagen redimensionada y guardada en: C:\\Users\\marti\\Documents\\Decimo Semeste\\IA\\IA - Github\\Proyecto 3\\dataset\\1_Tsuru\\tsuru988.jpg\n",
      "Imagen redimensionada y guardada en: C:\\Users\\marti\\Documents\\Decimo Semeste\\IA\\IA - Github\\Proyecto 3\\dataset\\1_Tsuru\\tsuru989.jpg\n",
      "Imagen redimensionada y guardada en: C:\\Users\\marti\\Documents\\Decimo Semeste\\IA\\IA - Github\\Proyecto 3\\dataset\\1_Tsuru\\tsuru990.jpg\n",
      "Imagen redimensionada y guardada en: C:\\Users\\marti\\Documents\\Decimo Semeste\\IA\\IA - Github\\Proyecto 3\\dataset\\1_Tsuru\\tsuru991.jpg\n",
      "Imagen redimensionada y guardada en: C:\\Users\\marti\\Documents\\Decimo Semeste\\IA\\IA - Github\\Proyecto 3\\dataset\\1_Tsuru\\tsuru992.jpg\n",
      "Imagen redimensionada y guardada en: C:\\Users\\marti\\Documents\\Decimo Semeste\\IA\\IA - Github\\Proyecto 3\\dataset\\1_Tsuru\\tsuru993.jpg\n",
      "Imagen redimensionada y guardada en: C:\\Users\\marti\\Documents\\Decimo Semeste\\IA\\IA - Github\\Proyecto 3\\dataset\\1_Tsuru\\tsuru994.jpg\n",
      "Imagen redimensionada y guardada en: C:\\Users\\marti\\Documents\\Decimo Semeste\\IA\\IA - Github\\Proyecto 3\\dataset\\1_Tsuru\\tsuru995.jpg\n",
      "Imagen redimensionada y guardada en: C:\\Users\\marti\\Documents\\Decimo Semeste\\IA\\IA - Github\\Proyecto 3\\dataset\\1_Tsuru\\tsuru996.jpg\n",
      "Imagen redimensionada y guardada en: C:\\Users\\marti\\Documents\\Decimo Semeste\\IA\\IA - Github\\Proyecto 3\\dataset\\1_Tsuru\\tsuru997.jpg\n",
      "Imagen redimensionada y guardada en: C:\\Users\\marti\\Documents\\Decimo Semeste\\IA\\IA - Github\\Proyecto 3\\dataset\\1_Tsuru\\tsuru998.jpg\n",
      "Imagen redimensionada y guardada en: C:\\Users\\marti\\Documents\\Decimo Semeste\\IA\\IA - Github\\Proyecto 3\\dataset\\1_Tsuru\\tsuru999.jpg\n",
      "Imagen redimensionada y guardada en: C:\\Users\\marti\\Documents\\Decimo Semeste\\IA\\IA - Github\\Proyecto 3\\dataset\\1_Tsuru\\tsuru1000.jpg\n",
      "Imagen redimensionada y guardada en: C:\\Users\\marti\\Documents\\Decimo Semeste\\IA\\IA - Github\\Proyecto 3\\dataset\\1_Tsuru\\tsuru1001.jpg\n",
      "Imagen redimensionada y guardada en: C:\\Users\\marti\\Documents\\Decimo Semeste\\IA\\IA - Github\\Proyecto 3\\dataset\\1_Tsuru\\tsuru1002.jpg\n"
     ]
    }
   ],
   "source": [
    "import cv2\n",
    "import os\n",
    "\n",
    "# Ruta de la carpeta con imágenes originales\n",
    "carpeta_original = \"C:\\\\Users\\\\marti\\\\Documents\\\\Decimo Semeste\\\\IA\\\\IA - Github\\\\Proyecto 3\\\\img o videos\\\\1_Tsuro\\\\\"\n",
    "\n",
    "# Carpeta donde se guardarán las imágenes redimensionadas\n",
    "carpeta_salida = \"C:\\\\Users\\\\marti\\\\Documents\\\\Decimo Semeste\\\\IA\\\\IA - Github\\\\Proyecto 3\\\\dataset\\\\1_Tsuru\\\\\"\n",
    "\n",
    "# Asegurarse de que la carpeta de salida exista\n",
    "os.makedirs(carpeta_salida, exist_ok=True)\n",
    "\n",
    "# Tamaño deseado (32x32 píxeles en este caso)\n",
    "nuevo_tamano = (32, 32)\n",
    "\n",
    "# Obtener los archivos en la carpeta de salida\n",
    "files = os.listdir(carpeta_salida)\n",
    "\n",
    "# Buscar el número más alto de las imágenes existentes que comienzan con 'tsuro'\n",
    "if files:\n",
    "    i = max([int(f.split('tsuru')[1].split('.jpg')[0]) for f in files if f.startswith('tsuru') and f.endswith('.jpg')], default=0) + 1\n",
    "else:\n",
    "    i = 1  # Si no hay archivos, comenzar desde 1\n",
    "\n",
    "# Iterar sobre todos los archivos de la carpeta original\n",
    "for nombre_archivo in os.listdir(carpeta_original):\n",
    "    # Verificar si el archivo es una imagen (opcional)\n",
    "    if nombre_archivo.lower().endswith(('.png', '.jpg', '.jpeg', '.bmp', '.gif','.webp')):\n",
    "        # Ruta completa de la imagen original\n",
    "        ruta_imagen_original = os.path.join(carpeta_original, nombre_archivo)\n",
    "\n",
    "        # Leer la imagen\n",
    "        imagen = cv2.imread(ruta_imagen_original)\n",
    "\n",
    "        # Verificar que la imagen se haya cargado correctamente\n",
    "        if imagen is not None:\n",
    "            # Redimensionar la imagen\n",
    "            imagen_redimensionada = cv2.resize(imagen, nuevo_tamano, interpolation=cv2.INTER_AREA)\n",
    "\n",
    "            # Ruta completa para guardar la imagen redimensionada\n",
    "            ruta_imagen_redimensionada = os.path.join(carpeta_salida, f\"tsuru{i}.jpg\")\n",
    "\n",
    "            # Guardar la imagen redimensionada\n",
    "            cv2.imwrite(ruta_imagen_redimensionada, imagen_redimensionada)\n",
    "            print(f\"Imagen redimensionada y guardada en: {ruta_imagen_redimensionada}\")\n",
    "            \n",
    "            # Incrementar el contador\n",
    "            i += 1\n",
    "        else:\n",
    "            print(f\"Error al leer la imagen: {ruta_imagen_original}\")\n",
    "\n"
   ]
  },
  {
   "cell_type": "code",
   "execution_count": 140,
   "id": "9717bf0e-ea28-4828-a38f-28268134f3e1",
   "metadata": {},
   "outputs": [
    {
     "ename": "ValueError",
     "evalue": "max() iterable argument is empty",
     "output_type": "error",
     "traceback": [
      "\u001b[1;31m---------------------------------------------------------------------------\u001b[0m",
      "\u001b[1;31mValueError\u001b[0m                                Traceback (most recent call last)",
      "Cell \u001b[1;32mIn[140], line 11\u001b[0m\n\u001b[0;32m      9\u001b[0m files \u001b[38;5;241m=\u001b[39m os\u001b[38;5;241m.\u001b[39mlistdir(output_folder)\n\u001b[0;32m     10\u001b[0m \u001b[38;5;28;01mif\u001b[39;00m files:\n\u001b[1;32m---> 11\u001b[0m     i \u001b[38;5;241m=\u001b[39m \u001b[38;5;28mmax\u001b[39m([\u001b[38;5;28mint\u001b[39m(f\u001b[38;5;241m.\u001b[39msplit(\u001b[38;5;124m'\u001b[39m\u001b[38;5;124mVocho\u001b[39m\u001b[38;5;124m'\u001b[39m)[\u001b[38;5;241m1\u001b[39m]\u001b[38;5;241m.\u001b[39msplit(\u001b[38;5;124m'\u001b[39m\u001b[38;5;124m.jpg\u001b[39m\u001b[38;5;124m'\u001b[39m)[\u001b[38;5;241m0\u001b[39m]) \u001b[38;5;28;01mfor\u001b[39;00m f \u001b[38;5;129;01min\u001b[39;00m files \u001b[38;5;28;01mif\u001b[39;00m \u001b[38;5;124m'\u001b[39m\u001b[38;5;124mVocho\u001b[39m\u001b[38;5;124m'\u001b[39m \u001b[38;5;129;01min\u001b[39;00m f]) \u001b[38;5;241m+\u001b[39m \u001b[38;5;241m1\u001b[39m\n\u001b[0;32m     12\u001b[0m \u001b[38;5;28;01melse\u001b[39;00m:\n\u001b[0;32m     13\u001b[0m     i \u001b[38;5;241m=\u001b[39m \u001b[38;5;241m0\u001b[39m\n",
      "\u001b[1;31mValueError\u001b[0m: max() iterable argument is empty"
     ]
    }
   ],
   "source": [
    "import numpy as np \n",
    "import cv2 as cv\n",
    "import os\n",
    "\n",
    "cap = cv.VideoCapture(\"C:\\\\Users\\\\marti\\\\Documents\\\\Decimo Semeste\\\\IA\\\\IA - Github\\\\Proyecto 3\\\\img o videos\\\\2_Vocho\\\\23.mp4\") \n",
    "\n",
    "output_folder = 'C:\\\\Users\\\\marti\\\\Documents\\\\Decimo Semeste\\\\IA\\\\IA - Github\\\\Proyecto 3\\\\dataset\\\\2_Vocho\\\\'\n",
    "\n",
    "files = os.listdir(output_folder)\n",
    "if files:\n",
    "    i = max([int(f.split('Vocho')[1].split('.jpg')[0]) for f in files if 'Vocho' in f]) + 1\n",
    "else:\n",
    "    i = 0\n",
    "\n",
    "while True:\n",
    "    ret, frame = cap.read()\n",
    "    if not ret:\n",
    "        break  # Si no se puede leer el fotograma, sal del bucle\n",
    "    \n",
    "    cv.imshow('img', frame)\n",
    "    k = cv.waitKey(1)\n",
    "    \n",
    "    # Redimensionar la imagen capturada a 32x32 píxeles\n",
    "    frame_resized = cv.resize(frame, (32, 32), interpolation=cv.INTER_AREA)\n",
    "    \n",
    "    cv.imwrite(output_folder + 'Vocho' + str(i) + '.jpg', frame_resized)\n",
    "    i += 1\n",
    "\n",
    "    if k == 27:\n",
    "        break\n",
    "cap.release()\n",
    "cv.destroyAllWindows()"
   ]
  },
  {
   "cell_type": "code",
   "execution_count": 385,
   "id": "b094c2f2",
   "metadata": {},
   "outputs": [],
   "source": [
    "import numpy as np\n",
    "import os\n",
    "import re\n",
    "import matplotlib.pyplot as plt\n",
    "%matplotlib inline\n",
    "from sklearn.model_selection import train_test_split\n",
    "from sklearn.metrics import classification_report\n",
    "import keras\n",
    "import tensorflow as tf\n",
    "from tensorflow.keras.utils import to_categorical\n",
    "from keras.models import Sequential,Model\n",
    "from tensorflow.keras.layers import Input\n",
    "from keras.layers import Dense, Dropout, Flatten\n",
    "#from keras.layers import Conv2D, MaxPooling2D\n",
    "#from tensorflow.keras.models import Sequential\n",
    "from tensorflow.keras.layers import (\n",
    "    BatchNormalization, SeparableConv2D, MaxPooling2D, Activation, Flatten, Dropout, Dense, Conv2D\n",
    ")\n",
    "from keras.layers import LeakyReLU"
   ]
  },
  {
   "cell_type": "markdown",
   "id": "4fde48b3",
   "metadata": {},
   "source": [
    "# Leer imágenes \n",
    "\n",
    "Este código está diseñado para recorrer un directorio específico y sus subdirectorios, leer todas las imágenes con extensiones .jpg, .jpeg, .png, .bmp, o .tiff, y almacenar información sobre estas imágenes y los directorios donde se encuentran."
   ]
  },
  {
   "cell_type": "code",
   "execution_count": 386,
   "id": "7146a571",
   "metadata": {},
   "outputs": [
    {
     "name": "stdout",
     "output_type": "stream",
     "text": [
      "leyendo imagenes de  C:\\Users\\marti\\Documents\\Decimo Semeste\\IA\\IA - Github\\Proyecto 3\\dataset\\\\\n",
      "Directorios leidos: 5\n",
      "Imagenes en cada directorio [10244, 10190, 10258, 10258, 10360]\n",
      "suma Total de imagenes en subdirs: 51310\n"
     ]
    }
   ],
   "source": [
    "dirname = os.path.join(os.getcwd(),'C:\\\\Users\\\\marti\\\\Documents\\\\Decimo Semeste\\\\IA\\\\IA - Github\\\\Proyecto 3\\\\dataset\\\\')\n",
    "imgpath = dirname + os.sep \n",
    "\n",
    "images = []\n",
    "directories = []\n",
    "dircount = []\n",
    "prevRoot=''\n",
    "cant=0\n",
    "\n",
    "print(\"leyendo imagenes de \",imgpath)\n",
    "\n",
    "for root, dirnames, filenames in os.walk(imgpath):\n",
    "    for filename in filenames:\n",
    "        if re.search(r\"\\.(jpg|jpeg|png|bmp|tiff)$\", filename):\n",
    "            cant=cant+1\n",
    "            filepath = os.path.join(root, filename)\n",
    "            image = plt.imread(filepath)\n",
    "            if(len(image.shape)==3):\n",
    "                \n",
    "                images.append(image)\n",
    "            b = \"Leyendo...\" + str(cant)\n",
    "            #print (b, end=\"\\r\")\n",
    "            if prevRoot !=root:\n",
    "                #print(root, cant)\n",
    "                prevRoot=root\n",
    "                directories.append(root)\n",
    "                dircount.append(cant)\n",
    "                cant=0\n",
    "dircount.append(cant)\n",
    "\n",
    "dircount = dircount[1:]\n",
    "dircount[0]=dircount[0]+1\n",
    "print('Directorios leidos:',len(directories))\n",
    "print(\"Imagenes en cada directorio\", dircount)\n",
    "print('suma Total de imagenes en subdirs:',sum(dircount))"
   ]
  },
  {
   "cell_type": "markdown",
   "id": "273d4221",
   "metadata": {},
   "source": [
    "# Generación de Etiquetas \n",
    "\n",
    "Esta sección del código está asignando una etiqueta numérica a cada imagen basada en el directorio del que proviene. Si un directorio tiene 5 imágenes, todas esas imágenes tendrán la misma etiqueta (por ejemplo, 0), y luego la etiqueta cambiará para el próximo directorio. Esto es útil para clasificar las imágenes según sus directorios de origen."
   ]
  },
  {
   "cell_type": "code",
   "execution_count": 387,
   "id": "b68fc058",
   "metadata": {},
   "outputs": [
    {
     "name": "stdout",
     "output_type": "stream",
     "text": [
      "Cantidad etiquetas creadas:  51310\n"
     ]
    }
   ],
   "source": [
    "labels=[]\n",
    "indice=0\n",
    "for cantidad in dircount:\n",
    "    for i in range(cantidad):\n",
    "        labels.append(indice)\n",
    "    indice=indice+1\n",
    "print(\"Cantidad etiquetas creadas: \",len(labels))"
   ]
  },
  {
   "cell_type": "markdown",
   "id": "9b3715b6",
   "metadata": {},
   "source": [
    "Esta sección del código permite identificar y almacenar los nombres de los subdirectorios de manera organizada, lo cual puede ser útil para el análisis posterior o para referenciar los datos procesados."
   ]
  },
  {
   "cell_type": "code",
   "execution_count": 388,
   "id": "46a8e8b9",
   "metadata": {},
   "outputs": [
    {
     "name": "stdout",
     "output_type": "stream",
     "text": [
      "0 1_Tsuru\n",
      "1 2_Vocho\n",
      "2 3_Mustang\n",
      "3 4_MiniBan\n",
      "4 5_Camioneta_Lobo\n"
     ]
    }
   ],
   "source": [
    "sriesgos=[]\n",
    "indice=0\n",
    "for directorio in directories:\n",
    "    name = directorio.split(os.sep)\n",
    "    print(indice , name[len(name)-1])\n",
    "    sriesgos.append(name[len(name)-1])\n",
    "    indice=indice+1"
   ]
  },
  {
   "cell_type": "markdown",
   "id": "065bea08",
   "metadata": {},
   "source": [
    "Esta sección del código convierte las listas de etiquetas e imágenes en arreglos de NumPy para facilitar su manipulación. Luego, identifica las clases únicas presentes en las etiquetas y calcula el número total de clases, imprimiendo esta información. Esto es útil para entender la distribución de las clases en el conjunto de datos y preparar los datos para análisis o entrenamiento de modelos."
   ]
  },
  {
   "cell_type": "code",
   "execution_count": 389,
   "id": "0433bc93",
   "metadata": {},
   "outputs": [
    {
     "name": "stdout",
     "output_type": "stream",
     "text": [
      "Total number of outputs :  5\n",
      "Output classes :  [0 1 2 3 4]\n"
     ]
    }
   ],
   "source": [
    "y = np.array(labels)\n",
    "X = np.array(images, dtype=np.uint8) #convierto de lista a numpy\n",
    "\n",
    "classes = np.unique(y)\n",
    "nClasses = len(classes)\n",
    "print('Total number of outputs : ', nClasses)\n",
    "print('Output classes : ', classes)"
   ]
  },
  {
   "cell_type": "markdown",
   "id": "61a7d714",
   "metadata": {},
   "source": [
    "Esta sección del código divide el conjunto de datos en dos partes: datos de entrenamiento (80%) y datos de prueba (20%). Luego, imprime las dimensiones de estos conjuntos de datos. Esta división es crucial en el proceso de entrenamiento y evaluación de modelos de aprendizaje automático, ya que permite evaluar el rendimiento del modelo en datos no vistos durante el entrenamiento."
   ]
  },
  {
   "cell_type": "code",
   "execution_count": 390,
   "id": "a2616370",
   "metadata": {},
   "outputs": [
    {
     "name": "stdout",
     "output_type": "stream",
     "text": [
      "Training data shape :  (41048, 32, 32, 3) (41048,)\n",
      "Testing data shape :  (10262, 32, 32, 3) (10262,)\n"
     ]
    }
   ],
   "source": [
    "train_X,test_X,train_Y,test_Y = train_test_split(X,y,test_size=0.2)\n",
    "print('Training data shape : ', train_X.shape, train_Y.shape)\n",
    "print('Testing data shape : ', test_X.shape, test_Y.shape)"
   ]
  },
  {
   "cell_type": "markdown",
   "id": "1fa84503",
   "metadata": {},
   "source": [
    "Esta sección del código utiliza Matplotlib para mostrar las primeras imágenes de los conjuntos de datos de entrenamiento y de prueba, junto con sus etiquetas correspondientes."
   ]
  },
  {
   "cell_type": "code",
   "execution_count": 391,
   "id": "c01b1c78",
   "metadata": {},
   "outputs": [
    {
     "data": {
      "text/plain": [
       "Text(0.5, 1.0, 'Ground Truth : 2')"
      ]
     },
     "execution_count": 391,
     "metadata": {},
     "output_type": "execute_result"
    }
   ],
   "source": [
    "plt.figure(figsize=[5,5])\n",
    "\n",
    "# Display the first image in training data\n",
    "plt.subplot(121)\n",
    "plt.imshow(train_X[0,:,:], cmap='gray')\n",
    "plt.title(\"Ground Truth : {}\".format(train_Y[0]))\n",
    "\n",
    "# Display the first image in testing data\n",
    "plt.subplot(122)\n",
    "plt.imshow(test_X[0,:,:], cmap='gray')\n",
    "plt.title(\"Ground Truth : {}\".format(test_Y[0]))"
   ]
  },
  {
   "cell_type": "markdown",
   "id": "efd95124",
   "metadata": {},
   "source": [
    "Esta sección del código convierte los datos de imágenes a tipo de dato float32 y normaliza los valores de píxel para que estén en el rango [0, 1]. Luego, visualiza una imagen del conjunto de datos de prueba. La normalización es crucial para el entrenamiento efectivo de modelos de aprendizaje automático."
   ]
  },
  {
   "cell_type": "code",
   "execution_count": 392,
   "id": "cb879f38",
   "metadata": {},
   "outputs": [
    {
     "data": {
      "text/plain": [
       "<matplotlib.image.AxesImage at 0x1d0d5bf88c0>"
      ]
     },
     "execution_count": 392,
     "metadata": {},
     "output_type": "execute_result"
    }
   ],
   "source": [
    "rain_X = train_X.astype('float32')\n",
    "test_X = test_X.astype('float32')\n",
    "train_X = train_X/255.\n",
    "test_X = test_X/255.\n",
    "plt.imshow(test_X[0,:,:])"
   ]
  },
  {
   "cell_type": "markdown",
   "id": "a6b36b8e",
   "metadata": {},
   "source": [
    "Esta sección del código convierte las etiquetas de clase en formato entero a un formato de codificación one-hot. Esto es importante porque muchos algoritmos de aprendizaje automático, especialmente las redes neuronales, funcionan mejor con etiquetas en formato one-hot. Luego, se imprime una etiqueta antes y después de la conversión para verificar el proceso."
   ]
  },
  {
   "cell_type": "code",
   "execution_count": 393,
   "id": "05ee7f17",
   "metadata": {},
   "outputs": [
    {
     "name": "stdout",
     "output_type": "stream",
     "text": [
      "Original label: 1\n",
      "After conversion to one-hot: [0. 1. 0. 0. 0.]\n"
     ]
    }
   ],
   "source": [
    "train_Y_one_hot = to_categorical(train_Y)\n",
    "test_Y_one_hot = to_categorical(test_Y)\n",
    "print('Original label:', train_Y[0])\n",
    "print('After conversion to one-hot:', train_Y_one_hot[0])"
   ]
  },
  {
   "cell_type": "markdown",
   "id": "904894e9",
   "metadata": {},
   "source": [
    "Esta sección del código toma el conjunto de datos de entrenamiento y lo divide en dos conjuntos: uno para continuar el entrenamiento y otro para la validación. La validación es una parte crucial del proceso de entrenamiento de modelos de aprendizaje automático porque permite evaluar el rendimiento del modelo en datos no vistos durante el entrenamiento, ayudando a prevenir el sobreajuste."
   ]
  },
  {
   "cell_type": "code",
   "execution_count": 394,
   "id": "a28f6f9b",
   "metadata": {},
   "outputs": [],
   "source": [
    "#Mezclar todo y crear los grupos de entrenamiento y testing\n",
    "train_X,valid_X,train_label,valid_label = train_test_split(train_X, train_Y_one_hot, test_size=0.2, random_state=13)"
   ]
  },
  {
   "cell_type": "markdown",
   "id": "06c61a50",
   "metadata": {},
   "source": [
    "Esta sección del código es útil para verificar que los conjuntos de datos se han dividido correctamente y que las formas de los datos son las esperadas. Esto asegura que los datos estén listos para ser utilizados en el entrenamiento y validación del modelo."
   ]
  },
  {
   "cell_type": "code",
   "execution_count": 395,
   "id": "efd3618b",
   "metadata": {},
   "outputs": [
    {
     "name": "stdout",
     "output_type": "stream",
     "text": [
      "(32838, 32, 32, 3) (8210, 32, 32, 3) (32838, 5) (8210, 5)\n"
     ]
    }
   ],
   "source": [
    "print(train_X.shape,valid_X.shape,train_label.shape,valid_label.shape)"
   ]
  },
  {
   "cell_type": "markdown",
   "id": "2a41f06f",
   "metadata": {},
   "source": [
    "Esta sección del código define y configura varios parámetros importantes para el entrenamiento de una red neuronal. Estos parámetros incluyen la tasa de aprendizaje inicial, el número de épocas y el tamaño del lote."
   ]
  },
  {
   "cell_type": "code",
   "execution_count": 396,
   "id": "bea432f7",
   "metadata": {},
   "outputs": [],
   "source": [
    "#declaramos variables con los parámetros de configuración de la red\n",
    "INIT_LR = 1e-3 # Valor inicial de learning rate. El valor 1e-3 corresponde con 0.001\n",
    "epochs = 64 # Cantidad de iteraciones completas al conjunto de imagenes de entrenamiento\n",
    "batch_size = 64 # cantidad de imágenes que se toman a la vez en memoria"
   ]
  },
  {
   "cell_type": "markdown",
   "id": "7e3011de",
   "metadata": {},
   "source": [
    "Esta sección del código define un modelo de red neuronal convolucional (CNN) utilizando la API de Keras. La red consta de varias capas, incluyendo capas convolucionales, de activación, de pooling, de normalización (Dropout) y densas (fully connected)."
   ]
  },
  {
   "cell_type": "code",
   "execution_count": 397,
   "id": "2e931725",
   "metadata": {},
   "outputs": [],
   "source": [
    "from tensorflow.keras.models import Sequential\n",
    "from tensorflow.keras.layers import Conv2D, LeakyReLU, MaxPooling2D, Dropout, Flatten, Dense, Input\n",
    "\n",
    "riesgo_model = Sequential()\n",
    "riesgo_model.add(Input(shape=(32, 32, 3)))  # Crea una capa de entrada\n",
    "riesgo_model.add(Conv2D(32, kernel_size=(3, 3), activation='linear', padding='same'))\n",
    "riesgo_model.add(LeakyReLU(negative_slope=0.1))  # Usar negative_slope en lugar de alpha\n",
    "riesgo_model.add(MaxPooling2D((2, 2), padding='same'))\n",
    "riesgo_model.add(Dropout(0.5))\n",
    "\n",
    "riesgo_model.add(Flatten())\n",
    "riesgo_model.add(Dense(32, activation='linear'))\n",
    "riesgo_model.add(LeakyReLU(negative_slope=0.1))\n",
    "riesgo_model.add(Dropout(0.5))\n",
    "riesgo_model.add(Dense(nClasses, activation='softmax'))"
   ]
  },
  {
   "cell_type": "code",
   "execution_count": 398,
   "id": "d3ef9310",
   "metadata": {},
   "outputs": [
    {
     "data": {
      "text/html": [
       "<pre style=\"white-space:pre;overflow-x:auto;line-height:normal;font-family:Menlo,'DejaVu Sans Mono',consolas,'Courier New',monospace\"><span style=\"font-weight: bold\">Model: \"sequential_10\"</span>\n",
       "</pre>\n"
      ],
      "text/plain": [
       "\u001b[1mModel: \"sequential_10\"\u001b[0m\n"
      ]
     },
     "metadata": {},
     "output_type": "display_data"
    },
    {
     "data": {
      "text/html": [
       "<pre style=\"white-space:pre;overflow-x:auto;line-height:normal;font-family:Menlo,'DejaVu Sans Mono',consolas,'Courier New',monospace\">┏━━━━━━━━━━━━━━━━━━━━━━━━━━━━━━━━━━━━━━┳━━━━━━━━━━━━━━━━━━━━━━━━━━━━━┳━━━━━━━━━━━━━━━━━┓\n",
       "┃<span style=\"font-weight: bold\"> Layer (type)                         </span>┃<span style=\"font-weight: bold\"> Output Shape                </span>┃<span style=\"font-weight: bold\">         Param # </span>┃\n",
       "┡━━━━━━━━━━━━━━━━━━━━━━━━━━━━━━━━━━━━━━╇━━━━━━━━━━━━━━━━━━━━━━━━━━━━━╇━━━━━━━━━━━━━━━━━┩\n",
       "│ conv2d_11 (<span style=\"color: #0087ff; text-decoration-color: #0087ff\">Conv2D</span>)                   │ (<span style=\"color: #00d7ff; text-decoration-color: #00d7ff\">None</span>, <span style=\"color: #00af00; text-decoration-color: #00af00\">32</span>, <span style=\"color: #00af00; text-decoration-color: #00af00\">32</span>, <span style=\"color: #00af00; text-decoration-color: #00af00\">32</span>)          │             <span style=\"color: #00af00; text-decoration-color: #00af00\">896</span> │\n",
       "├──────────────────────────────────────┼─────────────────────────────┼─────────────────┤\n",
       "│ leaky_re_lu_21 (<span style=\"color: #0087ff; text-decoration-color: #0087ff\">LeakyReLU</span>)           │ (<span style=\"color: #00d7ff; text-decoration-color: #00d7ff\">None</span>, <span style=\"color: #00af00; text-decoration-color: #00af00\">32</span>, <span style=\"color: #00af00; text-decoration-color: #00af00\">32</span>, <span style=\"color: #00af00; text-decoration-color: #00af00\">32</span>)          │               <span style=\"color: #00af00; text-decoration-color: #00af00\">0</span> │\n",
       "├──────────────────────────────────────┼─────────────────────────────┼─────────────────┤\n",
       "│ max_pooling2d_11 (<span style=\"color: #0087ff; text-decoration-color: #0087ff\">MaxPooling2D</span>)      │ (<span style=\"color: #00d7ff; text-decoration-color: #00d7ff\">None</span>, <span style=\"color: #00af00; text-decoration-color: #00af00\">16</span>, <span style=\"color: #00af00; text-decoration-color: #00af00\">16</span>, <span style=\"color: #00af00; text-decoration-color: #00af00\">32</span>)          │               <span style=\"color: #00af00; text-decoration-color: #00af00\">0</span> │\n",
       "├──────────────────────────────────────┼─────────────────────────────┼─────────────────┤\n",
       "│ dropout_21 (<span style=\"color: #0087ff; text-decoration-color: #0087ff\">Dropout</span>)                 │ (<span style=\"color: #00d7ff; text-decoration-color: #00d7ff\">None</span>, <span style=\"color: #00af00; text-decoration-color: #00af00\">16</span>, <span style=\"color: #00af00; text-decoration-color: #00af00\">16</span>, <span style=\"color: #00af00; text-decoration-color: #00af00\">32</span>)          │               <span style=\"color: #00af00; text-decoration-color: #00af00\">0</span> │\n",
       "├──────────────────────────────────────┼─────────────────────────────┼─────────────────┤\n",
       "│ flatten_10 (<span style=\"color: #0087ff; text-decoration-color: #0087ff\">Flatten</span>)                 │ (<span style=\"color: #00d7ff; text-decoration-color: #00d7ff\">None</span>, <span style=\"color: #00af00; text-decoration-color: #00af00\">8192</span>)                │               <span style=\"color: #00af00; text-decoration-color: #00af00\">0</span> │\n",
       "├──────────────────────────────────────┼─────────────────────────────┼─────────────────┤\n",
       "│ dense_20 (<span style=\"color: #0087ff; text-decoration-color: #0087ff\">Dense</span>)                     │ (<span style=\"color: #00d7ff; text-decoration-color: #00d7ff\">None</span>, <span style=\"color: #00af00; text-decoration-color: #00af00\">32</span>)                  │         <span style=\"color: #00af00; text-decoration-color: #00af00\">262,176</span> │\n",
       "├──────────────────────────────────────┼─────────────────────────────┼─────────────────┤\n",
       "│ leaky_re_lu_22 (<span style=\"color: #0087ff; text-decoration-color: #0087ff\">LeakyReLU</span>)           │ (<span style=\"color: #00d7ff; text-decoration-color: #00d7ff\">None</span>, <span style=\"color: #00af00; text-decoration-color: #00af00\">32</span>)                  │               <span style=\"color: #00af00; text-decoration-color: #00af00\">0</span> │\n",
       "├──────────────────────────────────────┼─────────────────────────────┼─────────────────┤\n",
       "│ dropout_22 (<span style=\"color: #0087ff; text-decoration-color: #0087ff\">Dropout</span>)                 │ (<span style=\"color: #00d7ff; text-decoration-color: #00d7ff\">None</span>, <span style=\"color: #00af00; text-decoration-color: #00af00\">32</span>)                  │               <span style=\"color: #00af00; text-decoration-color: #00af00\">0</span> │\n",
       "├──────────────────────────────────────┼─────────────────────────────┼─────────────────┤\n",
       "│ dense_21 (<span style=\"color: #0087ff; text-decoration-color: #0087ff\">Dense</span>)                     │ (<span style=\"color: #00d7ff; text-decoration-color: #00d7ff\">None</span>, <span style=\"color: #00af00; text-decoration-color: #00af00\">5</span>)                   │             <span style=\"color: #00af00; text-decoration-color: #00af00\">165</span> │\n",
       "└──────────────────────────────────────┴─────────────────────────────┴─────────────────┘\n",
       "</pre>\n"
      ],
      "text/plain": [
       "┏━━━━━━━━━━━━━━━━━━━━━━━━━━━━━━━━━━━━━━┳━━━━━━━━━━━━━━━━━━━━━━━━━━━━━┳━━━━━━━━━━━━━━━━━┓\n",
       "┃\u001b[1m \u001b[0m\u001b[1mLayer (type)                        \u001b[0m\u001b[1m \u001b[0m┃\u001b[1m \u001b[0m\u001b[1mOutput Shape               \u001b[0m\u001b[1m \u001b[0m┃\u001b[1m \u001b[0m\u001b[1m        Param #\u001b[0m\u001b[1m \u001b[0m┃\n",
       "┡━━━━━━━━━━━━━━━━━━━━━━━━━━━━━━━━━━━━━━╇━━━━━━━━━━━━━━━━━━━━━━━━━━━━━╇━━━━━━━━━━━━━━━━━┩\n",
       "│ conv2d_11 (\u001b[38;5;33mConv2D\u001b[0m)                   │ (\u001b[38;5;45mNone\u001b[0m, \u001b[38;5;34m32\u001b[0m, \u001b[38;5;34m32\u001b[0m, \u001b[38;5;34m32\u001b[0m)          │             \u001b[38;5;34m896\u001b[0m │\n",
       "├──────────────────────────────────────┼─────────────────────────────┼─────────────────┤\n",
       "│ leaky_re_lu_21 (\u001b[38;5;33mLeakyReLU\u001b[0m)           │ (\u001b[38;5;45mNone\u001b[0m, \u001b[38;5;34m32\u001b[0m, \u001b[38;5;34m32\u001b[0m, \u001b[38;5;34m32\u001b[0m)          │               \u001b[38;5;34m0\u001b[0m │\n",
       "├──────────────────────────────────────┼─────────────────────────────┼─────────────────┤\n",
       "│ max_pooling2d_11 (\u001b[38;5;33mMaxPooling2D\u001b[0m)      │ (\u001b[38;5;45mNone\u001b[0m, \u001b[38;5;34m16\u001b[0m, \u001b[38;5;34m16\u001b[0m, \u001b[38;5;34m32\u001b[0m)          │               \u001b[38;5;34m0\u001b[0m │\n",
       "├──────────────────────────────────────┼─────────────────────────────┼─────────────────┤\n",
       "│ dropout_21 (\u001b[38;5;33mDropout\u001b[0m)                 │ (\u001b[38;5;45mNone\u001b[0m, \u001b[38;5;34m16\u001b[0m, \u001b[38;5;34m16\u001b[0m, \u001b[38;5;34m32\u001b[0m)          │               \u001b[38;5;34m0\u001b[0m │\n",
       "├──────────────────────────────────────┼─────────────────────────────┼─────────────────┤\n",
       "│ flatten_10 (\u001b[38;5;33mFlatten\u001b[0m)                 │ (\u001b[38;5;45mNone\u001b[0m, \u001b[38;5;34m8192\u001b[0m)                │               \u001b[38;5;34m0\u001b[0m │\n",
       "├──────────────────────────────────────┼─────────────────────────────┼─────────────────┤\n",
       "│ dense_20 (\u001b[38;5;33mDense\u001b[0m)                     │ (\u001b[38;5;45mNone\u001b[0m, \u001b[38;5;34m32\u001b[0m)                  │         \u001b[38;5;34m262,176\u001b[0m │\n",
       "├──────────────────────────────────────┼─────────────────────────────┼─────────────────┤\n",
       "│ leaky_re_lu_22 (\u001b[38;5;33mLeakyReLU\u001b[0m)           │ (\u001b[38;5;45mNone\u001b[0m, \u001b[38;5;34m32\u001b[0m)                  │               \u001b[38;5;34m0\u001b[0m │\n",
       "├──────────────────────────────────────┼─────────────────────────────┼─────────────────┤\n",
       "│ dropout_22 (\u001b[38;5;33mDropout\u001b[0m)                 │ (\u001b[38;5;45mNone\u001b[0m, \u001b[38;5;34m32\u001b[0m)                  │               \u001b[38;5;34m0\u001b[0m │\n",
       "├──────────────────────────────────────┼─────────────────────────────┼─────────────────┤\n",
       "│ dense_21 (\u001b[38;5;33mDense\u001b[0m)                     │ (\u001b[38;5;45mNone\u001b[0m, \u001b[38;5;34m5\u001b[0m)                   │             \u001b[38;5;34m165\u001b[0m │\n",
       "└──────────────────────────────────────┴─────────────────────────────┴─────────────────┘\n"
      ]
     },
     "metadata": {},
     "output_type": "display_data"
    },
    {
     "data": {
      "text/html": [
       "<pre style=\"white-space:pre;overflow-x:auto;line-height:normal;font-family:Menlo,'DejaVu Sans Mono',consolas,'Courier New',monospace\"><span style=\"font-weight: bold\"> Total params: </span><span style=\"color: #00af00; text-decoration-color: #00af00\">263,237</span> (1.00 MB)\n",
       "</pre>\n"
      ],
      "text/plain": [
       "\u001b[1m Total params: \u001b[0m\u001b[38;5;34m263,237\u001b[0m (1.00 MB)\n"
      ]
     },
     "metadata": {},
     "output_type": "display_data"
    },
    {
     "data": {
      "text/html": [
       "<pre style=\"white-space:pre;overflow-x:auto;line-height:normal;font-family:Menlo,'DejaVu Sans Mono',consolas,'Courier New',monospace\"><span style=\"font-weight: bold\"> Trainable params: </span><span style=\"color: #00af00; text-decoration-color: #00af00\">263,237</span> (1.00 MB)\n",
       "</pre>\n"
      ],
      "text/plain": [
       "\u001b[1m Trainable params: \u001b[0m\u001b[38;5;34m263,237\u001b[0m (1.00 MB)\n"
      ]
     },
     "metadata": {},
     "output_type": "display_data"
    },
    {
     "data": {
      "text/html": [
       "<pre style=\"white-space:pre;overflow-x:auto;line-height:normal;font-family:Menlo,'DejaVu Sans Mono',consolas,'Courier New',monospace\"><span style=\"font-weight: bold\"> Non-trainable params: </span><span style=\"color: #00af00; text-decoration-color: #00af00\">0</span> (0.00 B)\n",
       "</pre>\n"
      ],
      "text/plain": [
       "\u001b[1m Non-trainable params: \u001b[0m\u001b[38;5;34m0\u001b[0m (0.00 B)\n"
      ]
     },
     "metadata": {},
     "output_type": "display_data"
    }
   ],
   "source": [
    "riesgo_model.summary()"
   ]
  },
  {
   "cell_type": "markdown",
   "id": "40d22b30",
   "metadata": {},
   "source": [
    "Esta sección del código configura la función de pérdida, el optimizador y las métricas que se utilizarán durante el entrenamiento del modelo. La compilación del modelo es un paso crucial que prepara el modelo para ser entrenado con los datos."
   ]
  },
  {
   "cell_type": "code",
   "execution_count": 399,
   "id": "2a8c94ed",
   "metadata": {},
   "outputs": [
    {
     "name": "stderr",
     "output_type": "stream",
     "text": [
      "C:\\Users\\marti\\anaconda3\\envs\\NewBase\\Lib\\site-packages\\keras\\src\\optimizers\\base_optimizer.py:86: UserWarning: Argument `decay` is no longer supported and will be ignored.\n",
      "  warnings.warn(\n"
     ]
    }
   ],
   "source": [
    "riesgo_model.compile(loss=keras.losses.categorical_crossentropy, optimizer=tf.keras.optimizers.SGD(learning_rate=INIT_LR, decay=INIT_LR / 100),metrics=['accuracy'])"
   ]
  },
  {
   "cell_type": "markdown",
   "id": "d98a4477",
   "metadata": {},
   "source": [
    "\n",
    "Esta sección del código entrena el modelo de red neuronal convolucional utilizando los datos de entrenamiento. Durante el entrenamiento, el modelo se ajusta iterativamente a los datos, actualizando sus parámetros para minimizar la función de pérdida. El conjunto de datos de validación se utiliza para monitorear el rendimiento del modelo y prevenir el sobreajuste."
   ]
  },
  {
   "cell_type": "code",
   "execution_count": 400,
   "id": "0da257d9",
   "metadata": {},
   "outputs": [
    {
     "name": "stdout",
     "output_type": "stream",
     "text": [
      "Epoch 1/64\n",
      "\u001b[1m514/514\u001b[0m \u001b[32m━━━━━━━━━━━━━━━━━━━━\u001b[0m\u001b[37m\u001b[0m \u001b[1m8s\u001b[0m 15ms/step - accuracy: 0.2196 - loss: 1.6254 - val_accuracy: 0.2451 - val_loss: 1.5909\n",
      "Epoch 2/64\n",
      "\u001b[1m514/514\u001b[0m \u001b[32m━━━━━━━━━━━━━━━━━━━━\u001b[0m\u001b[37m\u001b[0m \u001b[1m7s\u001b[0m 14ms/step - accuracy: 0.2427 - loss: 1.5922 - val_accuracy: 0.2967 - val_loss: 1.5736\n",
      "Epoch 3/64\n",
      "\u001b[1m514/514\u001b[0m \u001b[32m━━━━━━━━━━━━━━━━━━━━\u001b[0m\u001b[37m\u001b[0m \u001b[1m7s\u001b[0m 15ms/step - accuracy: 0.2648 - loss: 1.5758 - val_accuracy: 0.3418 - val_loss: 1.5438\n",
      "Epoch 4/64\n",
      "\u001b[1m514/514\u001b[0m \u001b[32m━━━━━━━━━━━━━━━━━━━━\u001b[0m\u001b[37m\u001b[0m \u001b[1m8s\u001b[0m 15ms/step - accuracy: 0.2900 - loss: 1.5571 - val_accuracy: 0.3766 - val_loss: 1.5154\n",
      "Epoch 5/64\n",
      "\u001b[1m514/514\u001b[0m \u001b[32m━━━━━━━━━━━━━━━━━━━━\u001b[0m\u001b[37m\u001b[0m \u001b[1m8s\u001b[0m 15ms/step - accuracy: 0.2987 - loss: 1.5449 - val_accuracy: 0.3932 - val_loss: 1.4858\n",
      "Epoch 6/64\n",
      "\u001b[1m514/514\u001b[0m \u001b[32m━━━━━━━━━━━━━━━━━━━━\u001b[0m\u001b[37m\u001b[0m \u001b[1m8s\u001b[0m 15ms/step - accuracy: 0.3229 - loss: 1.5210 - val_accuracy: 0.4206 - val_loss: 1.4675\n",
      "Epoch 7/64\n",
      "\u001b[1m514/514\u001b[0m \u001b[32m━━━━━━━━━━━━━━━━━━━━\u001b[0m\u001b[37m\u001b[0m \u001b[1m8s\u001b[0m 16ms/step - accuracy: 0.3373 - loss: 1.5043 - val_accuracy: 0.4305 - val_loss: 1.4442\n",
      "Epoch 8/64\n",
      "\u001b[1m514/514\u001b[0m \u001b[32m━━━━━━━━━━━━━━━━━━━━\u001b[0m\u001b[37m\u001b[0m \u001b[1m8s\u001b[0m 15ms/step - accuracy: 0.3444 - loss: 1.4884 - val_accuracy: 0.4502 - val_loss: 1.4175\n",
      "Epoch 9/64\n",
      "\u001b[1m514/514\u001b[0m \u001b[32m━━━━━━━━━━━━━━━━━━━━\u001b[0m\u001b[37m\u001b[0m \u001b[1m7s\u001b[0m 14ms/step - accuracy: 0.3723 - loss: 1.4658 - val_accuracy: 0.4680 - val_loss: 1.3956\n",
      "Epoch 10/64\n",
      "\u001b[1m514/514\u001b[0m \u001b[32m━━━━━━━━━━━━━━━━━━━━\u001b[0m\u001b[37m\u001b[0m \u001b[1m8s\u001b[0m 15ms/step - accuracy: 0.3785 - loss: 1.4457 - val_accuracy: 0.4860 - val_loss: 1.3720\n",
      "Epoch 11/64\n",
      "\u001b[1m514/514\u001b[0m \u001b[32m━━━━━━━━━━━━━━━━━━━━\u001b[0m\u001b[37m\u001b[0m \u001b[1m8s\u001b[0m 15ms/step - accuracy: 0.4038 - loss: 1.4242 - val_accuracy: 0.5004 - val_loss: 1.3459\n",
      "Epoch 12/64\n",
      "\u001b[1m514/514\u001b[0m \u001b[32m━━━━━━━━━━━━━━━━━━━━\u001b[0m\u001b[37m\u001b[0m \u001b[1m7s\u001b[0m 15ms/step - accuracy: 0.4061 - loss: 1.4083 - val_accuracy: 0.5162 - val_loss: 1.3189\n",
      "Epoch 13/64\n",
      "\u001b[1m514/514\u001b[0m \u001b[32m━━━━━━━━━━━━━━━━━━━━\u001b[0m\u001b[37m\u001b[0m \u001b[1m9s\u001b[0m 17ms/step - accuracy: 0.4256 - loss: 1.3868 - val_accuracy: 0.5384 - val_loss: 1.2888\n",
      "Epoch 14/64\n",
      "\u001b[1m514/514\u001b[0m \u001b[32m━━━━━━━━━━━━━━━━━━━━\u001b[0m\u001b[37m\u001b[0m \u001b[1m9s\u001b[0m 15ms/step - accuracy: 0.4439 - loss: 1.3608 - val_accuracy: 0.5725 - val_loss: 1.2667\n",
      "Epoch 15/64\n",
      "\u001b[1m514/514\u001b[0m \u001b[32m━━━━━━━━━━━━━━━━━━━━\u001b[0m\u001b[37m\u001b[0m \u001b[1m8s\u001b[0m 15ms/step - accuracy: 0.4550 - loss: 1.3474 - val_accuracy: 0.5720 - val_loss: 1.2376\n",
      "Epoch 16/64\n",
      "\u001b[1m514/514\u001b[0m \u001b[32m━━━━━━━━━━━━━━━━━━━━\u001b[0m\u001b[37m\u001b[0m \u001b[1m8s\u001b[0m 15ms/step - accuracy: 0.4768 - loss: 1.3090 - val_accuracy: 0.5881 - val_loss: 1.2085\n",
      "Epoch 17/64\n",
      "\u001b[1m514/514\u001b[0m \u001b[32m━━━━━━━━━━━━━━━━━━━━\u001b[0m\u001b[37m\u001b[0m \u001b[1m8s\u001b[0m 15ms/step - accuracy: 0.4824 - loss: 1.2992 - val_accuracy: 0.6052 - val_loss: 1.1811\n",
      "Epoch 18/64\n",
      "\u001b[1m514/514\u001b[0m \u001b[32m━━━━━━━━━━━━━━━━━━━━\u001b[0m\u001b[37m\u001b[0m \u001b[1m8s\u001b[0m 15ms/step - accuracy: 0.4912 - loss: 1.2808 - val_accuracy: 0.6133 - val_loss: 1.1536\n",
      "Epoch 19/64\n",
      "\u001b[1m514/514\u001b[0m \u001b[32m━━━━━━━━━━━━━━━━━━━━\u001b[0m\u001b[37m\u001b[0m \u001b[1m8s\u001b[0m 15ms/step - accuracy: 0.5105 - loss: 1.2553 - val_accuracy: 0.6313 - val_loss: 1.1316\n",
      "Epoch 20/64\n",
      "\u001b[1m514/514\u001b[0m \u001b[32m━━━━━━━━━━━━━━━━━━━━\u001b[0m\u001b[37m\u001b[0m \u001b[1m8s\u001b[0m 15ms/step - accuracy: 0.5173 - loss: 1.2305 - val_accuracy: 0.6353 - val_loss: 1.1027\n",
      "Epoch 21/64\n",
      "\u001b[1m514/514\u001b[0m \u001b[32m━━━━━━━━━━━━━━━━━━━━\u001b[0m\u001b[37m\u001b[0m \u001b[1m8s\u001b[0m 16ms/step - accuracy: 0.5302 - loss: 1.2214 - val_accuracy: 0.6538 - val_loss: 1.0804\n",
      "Epoch 22/64\n",
      "\u001b[1m514/514\u001b[0m \u001b[32m━━━━━━━━━━━━━━━━━━━━\u001b[0m\u001b[37m\u001b[0m \u001b[1m9s\u001b[0m 17ms/step - accuracy: 0.5458 - loss: 1.1884 - val_accuracy: 0.6607 - val_loss: 1.0619\n",
      "Epoch 23/64\n",
      "\u001b[1m514/514\u001b[0m \u001b[32m━━━━━━━━━━━━━━━━━━━━\u001b[0m\u001b[37m\u001b[0m \u001b[1m8s\u001b[0m 16ms/step - accuracy: 0.5566 - loss: 1.1729 - val_accuracy: 0.6764 - val_loss: 1.0312\n",
      "Epoch 24/64\n",
      "\u001b[1m514/514\u001b[0m \u001b[32m━━━━━━━━━━━━━━━━━━━━\u001b[0m\u001b[37m\u001b[0m \u001b[1m8s\u001b[0m 15ms/step - accuracy: 0.5689 - loss: 1.1490 - val_accuracy: 0.6862 - val_loss: 1.0184\n",
      "Epoch 25/64\n",
      "\u001b[1m514/514\u001b[0m \u001b[32m━━━━━━━━━━━━━━━━━━━━\u001b[0m\u001b[37m\u001b[0m \u001b[1m8s\u001b[0m 15ms/step - accuracy: 0.5739 - loss: 1.1267 - val_accuracy: 0.6990 - val_loss: 0.9894\n",
      "Epoch 26/64\n",
      "\u001b[1m514/514\u001b[0m \u001b[32m━━━━━━━━━━━━━━━━━━━━\u001b[0m\u001b[37m\u001b[0m \u001b[1m8s\u001b[0m 15ms/step - accuracy: 0.5835 - loss: 1.1143 - val_accuracy: 0.6985 - val_loss: 0.9614\n",
      "Epoch 27/64\n",
      "\u001b[1m514/514\u001b[0m \u001b[32m━━━━━━━━━━━━━━━━━━━━\u001b[0m\u001b[37m\u001b[0m \u001b[1m8s\u001b[0m 16ms/step - accuracy: 0.5913 - loss: 1.0915 - val_accuracy: 0.7024 - val_loss: 0.9458\n",
      "Epoch 28/64\n",
      "\u001b[1m514/514\u001b[0m \u001b[32m━━━━━━━━━━━━━━━━━━━━\u001b[0m\u001b[37m\u001b[0m \u001b[1m8s\u001b[0m 15ms/step - accuracy: 0.6002 - loss: 1.0792 - val_accuracy: 0.7185 - val_loss: 0.9187\n",
      "Epoch 29/64\n",
      "\u001b[1m514/514\u001b[0m \u001b[32m━━━━━━━━━━━━━━━━━━━━\u001b[0m\u001b[37m\u001b[0m \u001b[1m8s\u001b[0m 16ms/step - accuracy: 0.6089 - loss: 1.0615 - val_accuracy: 0.7251 - val_loss: 0.8926\n",
      "Epoch 30/64\n",
      "\u001b[1m514/514\u001b[0m \u001b[32m━━━━━━━━━━━━━━━━━━━━\u001b[0m\u001b[37m\u001b[0m \u001b[1m8s\u001b[0m 15ms/step - accuracy: 0.6189 - loss: 1.0443 - val_accuracy: 0.7390 - val_loss: 0.8768\n",
      "Epoch 31/64\n",
      "\u001b[1m514/514\u001b[0m \u001b[32m━━━━━━━━━━━━━━━━━━━━\u001b[0m\u001b[37m\u001b[0m \u001b[1m8s\u001b[0m 15ms/step - accuracy: 0.6287 - loss: 1.0250 - val_accuracy: 0.7423 - val_loss: 0.8564\n",
      "Epoch 32/64\n",
      "\u001b[1m514/514\u001b[0m \u001b[32m━━━━━━━━━━━━━━━━━━━━\u001b[0m\u001b[37m\u001b[0m \u001b[1m8s\u001b[0m 15ms/step - accuracy: 0.6299 - loss: 1.0140 - val_accuracy: 0.7571 - val_loss: 0.8390\n",
      "Epoch 33/64\n",
      "\u001b[1m514/514\u001b[0m \u001b[32m━━━━━━━━━━━━━━━━━━━━\u001b[0m\u001b[37m\u001b[0m \u001b[1m9s\u001b[0m 17ms/step - accuracy: 0.6377 - loss: 0.9889 - val_accuracy: 0.7585 - val_loss: 0.8162\n",
      "Epoch 34/64\n",
      "\u001b[1m514/514\u001b[0m \u001b[32m━━━━━━━━━━━━━━━━━━━━\u001b[0m\u001b[37m\u001b[0m \u001b[1m8s\u001b[0m 16ms/step - accuracy: 0.6389 - loss: 0.9869 - val_accuracy: 0.7716 - val_loss: 0.7949\n",
      "Epoch 35/64\n",
      "\u001b[1m514/514\u001b[0m \u001b[32m━━━━━━━━━━━━━━━━━━━━\u001b[0m\u001b[37m\u001b[0m \u001b[1m8s\u001b[0m 15ms/step - accuracy: 0.6572 - loss: 0.9536 - val_accuracy: 0.7788 - val_loss: 0.7777\n",
      "Epoch 36/64\n",
      "\u001b[1m514/514\u001b[0m \u001b[32m━━━━━━━━━━━━━━━━━━━━\u001b[0m\u001b[37m\u001b[0m \u001b[1m8s\u001b[0m 15ms/step - accuracy: 0.6638 - loss: 0.9343 - val_accuracy: 0.7767 - val_loss: 0.7621\n",
      "Epoch 37/64\n",
      "\u001b[1m514/514\u001b[0m \u001b[32m━━━━━━━━━━━━━━━━━━━━\u001b[0m\u001b[37m\u001b[0m \u001b[1m9s\u001b[0m 17ms/step - accuracy: 0.6643 - loss: 0.9309 - val_accuracy: 0.7888 - val_loss: 0.7405\n",
      "Epoch 38/64\n",
      "\u001b[1m514/514\u001b[0m \u001b[32m━━━━━━━━━━━━━━━━━━━━\u001b[0m\u001b[37m\u001b[0m \u001b[1m8s\u001b[0m 16ms/step - accuracy: 0.6735 - loss: 0.9148 - val_accuracy: 0.7950 - val_loss: 0.7259\n",
      "Epoch 39/64\n",
      "\u001b[1m514/514\u001b[0m \u001b[32m━━━━━━━━━━━━━━━━━━━━\u001b[0m\u001b[37m\u001b[0m \u001b[1m8s\u001b[0m 15ms/step - accuracy: 0.6778 - loss: 0.8955 - val_accuracy: 0.7994 - val_loss: 0.7110\n",
      "Epoch 40/64\n",
      "\u001b[1m514/514\u001b[0m \u001b[32m━━━━━━━━━━━━━━━━━━━━\u001b[0m\u001b[37m\u001b[0m \u001b[1m8s\u001b[0m 15ms/step - accuracy: 0.6828 - loss: 0.8934 - val_accuracy: 0.8050 - val_loss: 0.6883\n",
      "Epoch 41/64\n",
      "\u001b[1m514/514\u001b[0m \u001b[32m━━━━━━━━━━━━━━━━━━━━\u001b[0m\u001b[37m\u001b[0m \u001b[1m8s\u001b[0m 16ms/step - accuracy: 0.6895 - loss: 0.8672 - val_accuracy: 0.8046 - val_loss: 0.6754\n",
      "Epoch 42/64\n",
      "\u001b[1m514/514\u001b[0m \u001b[32m━━━━━━━━━━━━━━━━━━━━\u001b[0m\u001b[37m\u001b[0m \u001b[1m8s\u001b[0m 15ms/step - accuracy: 0.6946 - loss: 0.8486 - val_accuracy: 0.8121 - val_loss: 0.6614\n",
      "Epoch 43/64\n",
      "\u001b[1m514/514\u001b[0m \u001b[32m━━━━━━━━━━━━━━━━━━━━\u001b[0m\u001b[37m\u001b[0m \u001b[1m8s\u001b[0m 16ms/step - accuracy: 0.7092 - loss: 0.8275 - val_accuracy: 0.8183 - val_loss: 0.6470\n",
      "Epoch 44/64\n",
      "\u001b[1m514/514\u001b[0m \u001b[32m━━━━━━━━━━━━━━━━━━━━\u001b[0m\u001b[37m\u001b[0m \u001b[1m8s\u001b[0m 16ms/step - accuracy: 0.7081 - loss: 0.8307 - val_accuracy: 0.8229 - val_loss: 0.6310\n",
      "Epoch 45/64\n",
      "\u001b[1m514/514\u001b[0m \u001b[32m━━━━━━━━━━━━━━━━━━━━\u001b[0m\u001b[37m\u001b[0m \u001b[1m8s\u001b[0m 16ms/step - accuracy: 0.7177 - loss: 0.8069 - val_accuracy: 0.8235 - val_loss: 0.6178\n",
      "Epoch 46/64\n",
      "\u001b[1m514/514\u001b[0m \u001b[32m━━━━━━━━━━━━━━━━━━━━\u001b[0m\u001b[37m\u001b[0m \u001b[1m8s\u001b[0m 16ms/step - accuracy: 0.7157 - loss: 0.7998 - val_accuracy: 0.8323 - val_loss: 0.6046\n",
      "Epoch 47/64\n",
      "\u001b[1m514/514\u001b[0m \u001b[32m━━━━━━━━━━━━━━━━━━━━\u001b[0m\u001b[37m\u001b[0m \u001b[1m8s\u001b[0m 15ms/step - accuracy: 0.7165 - loss: 0.7970 - val_accuracy: 0.8318 - val_loss: 0.5968\n",
      "Epoch 48/64\n",
      "\u001b[1m514/514\u001b[0m \u001b[32m━━━━━━━━━━━━━━━━━━━━\u001b[0m\u001b[37m\u001b[0m \u001b[1m8s\u001b[0m 15ms/step - accuracy: 0.7230 - loss: 0.7814 - val_accuracy: 0.8423 - val_loss: 0.5802\n",
      "Epoch 49/64\n",
      "\u001b[1m514/514\u001b[0m \u001b[32m━━━━━━━━━━━━━━━━━━━━\u001b[0m\u001b[37m\u001b[0m \u001b[1m8s\u001b[0m 15ms/step - accuracy: 0.7310 - loss: 0.7620 - val_accuracy: 0.8437 - val_loss: 0.5700\n",
      "Epoch 50/64\n",
      "\u001b[1m514/514\u001b[0m \u001b[32m━━━━━━━━━━━━━━━━━━━━\u001b[0m\u001b[37m\u001b[0m \u001b[1m10s\u001b[0m 16ms/step - accuracy: 0.7318 - loss: 0.7691 - val_accuracy: 0.8530 - val_loss: 0.5542\n",
      "Epoch 51/64\n",
      "\u001b[1m514/514\u001b[0m \u001b[32m━━━━━━━━━━━━━━━━━━━━\u001b[0m\u001b[37m\u001b[0m \u001b[1m8s\u001b[0m 16ms/step - accuracy: 0.7419 - loss: 0.7398 - val_accuracy: 0.8564 - val_loss: 0.5475\n",
      "Epoch 52/64\n",
      "\u001b[1m514/514\u001b[0m \u001b[32m━━━━━━━━━━━━━━━━━━━━\u001b[0m\u001b[37m\u001b[0m \u001b[1m8s\u001b[0m 16ms/step - accuracy: 0.7439 - loss: 0.7374 - val_accuracy: 0.8508 - val_loss: 0.5414\n",
      "Epoch 53/64\n",
      "\u001b[1m514/514\u001b[0m \u001b[32m━━━━━━━━━━━━━━━━━━━━\u001b[0m\u001b[37m\u001b[0m \u001b[1m9s\u001b[0m 17ms/step - accuracy: 0.7511 - loss: 0.7176 - val_accuracy: 0.8683 - val_loss: 0.5228\n",
      "Epoch 54/64\n",
      "\u001b[1m514/514\u001b[0m \u001b[32m━━━━━━━━━━━━━━━━━━━━\u001b[0m\u001b[37m\u001b[0m \u001b[1m8s\u001b[0m 16ms/step - accuracy: 0.7529 - loss: 0.7104 - val_accuracy: 0.8704 - val_loss: 0.5101\n",
      "Epoch 55/64\n",
      "\u001b[1m514/514\u001b[0m \u001b[32m━━━━━━━━━━━━━━━━━━━━\u001b[0m\u001b[37m\u001b[0m \u001b[1m10s\u001b[0m 15ms/step - accuracy: 0.7501 - loss: 0.7065 - val_accuracy: 0.8727 - val_loss: 0.5026\n",
      "Epoch 56/64\n",
      "\u001b[1m514/514\u001b[0m \u001b[32m━━━━━━━━━━━━━━━━━━━━\u001b[0m\u001b[37m\u001b[0m \u001b[1m8s\u001b[0m 15ms/step - accuracy: 0.7596 - loss: 0.6990 - val_accuracy: 0.8732 - val_loss: 0.4976\n",
      "Epoch 57/64\n",
      "\u001b[1m514/514\u001b[0m \u001b[32m━━━━━━━━━━━━━━━━━━━━\u001b[0m\u001b[37m\u001b[0m \u001b[1m8s\u001b[0m 15ms/step - accuracy: 0.7655 - loss: 0.6853 - val_accuracy: 0.8776 - val_loss: 0.4797\n",
      "Epoch 58/64\n",
      "\u001b[1m514/514\u001b[0m \u001b[32m━━━━━━━━━━━━━━━━━━━━\u001b[0m\u001b[37m\u001b[0m \u001b[1m8s\u001b[0m 16ms/step - accuracy: 0.7641 - loss: 0.6824 - val_accuracy: 0.8744 - val_loss: 0.4759\n",
      "Epoch 59/64\n",
      "\u001b[1m514/514\u001b[0m \u001b[32m━━━━━━━━━━━━━━━━━━━━\u001b[0m\u001b[37m\u001b[0m \u001b[1m8s\u001b[0m 16ms/step - accuracy: 0.7672 - loss: 0.6715 - val_accuracy: 0.8837 - val_loss: 0.4643\n",
      "Epoch 60/64\n",
      "\u001b[1m514/514\u001b[0m \u001b[32m━━━━━━━━━━━━━━━━━━━━\u001b[0m\u001b[37m\u001b[0m \u001b[1m8s\u001b[0m 16ms/step - accuracy: 0.7678 - loss: 0.6656 - val_accuracy: 0.8864 - val_loss: 0.4559\n",
      "Epoch 61/64\n",
      "\u001b[1m514/514\u001b[0m \u001b[32m━━━━━━━━━━━━━━━━━━━━\u001b[0m\u001b[37m\u001b[0m \u001b[1m10s\u001b[0m 16ms/step - accuracy: 0.7758 - loss: 0.6515 - val_accuracy: 0.8937 - val_loss: 0.4429\n",
      "Epoch 62/64\n",
      "\u001b[1m514/514\u001b[0m \u001b[32m━━━━━━━━━━━━━━━━━━━━\u001b[0m\u001b[37m\u001b[0m \u001b[1m10s\u001b[0m 15ms/step - accuracy: 0.7768 - loss: 0.6419 - val_accuracy: 0.8927 - val_loss: 0.4361\n",
      "Epoch 63/64\n",
      "\u001b[1m514/514\u001b[0m \u001b[32m━━━━━━━━━━━━━━━━━━━━\u001b[0m\u001b[37m\u001b[0m \u001b[1m8s\u001b[0m 15ms/step - accuracy: 0.7824 - loss: 0.6263 - val_accuracy: 0.8903 - val_loss: 0.4419\n",
      "Epoch 64/64\n",
      "\u001b[1m514/514\u001b[0m \u001b[32m━━━━━━━━━━━━━━━━━━━━\u001b[0m\u001b[37m\u001b[0m \u001b[1m8s\u001b[0m 16ms/step - accuracy: 0.7876 - loss: 0.6290 - val_accuracy: 0.8903 - val_loss: 0.4282\n"
     ]
    }
   ],
   "source": [
    "riesgo_train = riesgo_model.fit(train_X, train_label, batch_size=batch_size,epochs=epochs,verbose=1,validation_data=(valid_X, valid_label))"
   ]
  },
  {
   "cell_type": "code",
   "execution_count": 401,
   "id": "6d990b08",
   "metadata": {},
   "outputs": [
    {
     "name": "stderr",
     "output_type": "stream",
     "text": [
      "WARNING:absl:You are saving your model as an HDF5 file via `model.save()` or `keras.saving.save_model(model)`. This file format is considered legacy. We recommend using instead the native Keras format, e.g. `model.save('my_model.keras')` or `keras.saving.save_model(model, 'my_model.keras')`. \n"
     ]
    }
   ],
   "source": [
    "riesgo_model.save(\"C:\\\\Users\\\\marti\\\\Documents\\\\Decimo Semeste\\\\IA\\\\IA - Github\\\\Proyecto 3\\\\dataset\\\\riesgo.h5\") "
   ]
  },
  {
   "cell_type": "code",
   "execution_count": 402,
   "id": "8e5126d0",
   "metadata": {},
   "outputs": [
    {
     "name": "stdout",
     "output_type": "stream",
     "text": [
      "\u001b[1m321/321\u001b[0m \u001b[32m━━━━━━━━━━━━━━━━━━━━\u001b[0m\u001b[37m\u001b[0m \u001b[1m1s\u001b[0m 3ms/step - accuracy: 0.8881 - loss: 0.4302\n"
     ]
    }
   ],
   "source": [
    "test_eval = riesgo_model.evaluate(test_X, test_Y_one_hot, verbose=1)"
   ]
  },
  {
   "cell_type": "code",
   "execution_count": 403,
   "id": "e6347b64",
   "metadata": {},
   "outputs": [
    {
     "name": "stdout",
     "output_type": "stream",
     "text": [
      "Test loss: 0.42800793051719666\n",
      "Test accuracy: 0.8891054391860962\n"
     ]
    }
   ],
   "source": [
    "print('Test loss:', test_eval[0])\n",
    "print('Test accuracy:', test_eval[1])"
   ]
  },
  {
   "cell_type": "code",
   "execution_count": 404,
   "id": "525f2cd3",
   "metadata": {},
   "outputs": [
    {
     "data": {
      "image/png": "[encoded data removed]",
      "text/plain": [
       "<Figure size 640x480 with 9 Axes>"
      ]
     },
     "metadata": {},
     "output_type": "display_data"
    },
    {
     "data": {
      "image/png": "[encoded data removed]",
      "text/plain": [
       "<Figure size 500x500 with 2 Axes>"
      ]
     },
     "metadata": {},
     "output_type": "display_data"
    },
    {
     "data": {
      "image/png": "[encoded data removed]",
      "text/plain": [
       "<Figure size 640x480 with 1 Axes>"
      ]
     },
     "metadata": {},
     "output_type": "display_data"
    }
   ],
   "source": [
    "accuracy = riesgo_train.history['accuracy']\n",
    "val_accuracy = riesgo_train.history['val_accuracy']\n",
    "loss = riesgo_train.history['loss']\n",
    "val_loss = riesgo_train.history['val_loss']\n",
    "epochs = range(len(accuracy))\n",
    "plt.plot(epochs, accuracy, 'bo', label='Training accuracy')\n",
    "plt.plot(epochs, val_accuracy, 'b', label='Validation accuracy')\n",
    "plt.title('Training and validation accuracy')\n",
    "plt.legend()\n",
    "plt.figure()\n",
    "plt.plot(epochs, loss, 'bo', label='Training loss')\n",
    "plt.plot(epochs, val_loss, 'b', label='Validation loss')\n",
    "plt.title('Training and validation loss')\n",
    "plt.legend()\n",
    "plt.show()"
   ]
  },
  {
   "cell_type": "code",
   "execution_count": 406,
   "id": "e46e6d53",
   "metadata": {},
   "outputs": [
    {
     "name": "stdout",
     "output_type": "stream",
     "text": [
      "\u001b[1m321/321\u001b[0m \u001b[32m━━━━━━━━━━━━━━━━━━━━\u001b[0m\u001b[37m\u001b[0m \u001b[1m1s\u001b[0m 4ms/step\n"
     ]
    }
   ],
   "source": [
    "predicted_classes2 = riesgo_model.predict(test_X)"
   ]
  },
  {
   "cell_type": "code",
   "execution_count": 407,
   "id": "21b9cd1f",
   "metadata": {},
   "outputs": [],
   "source": [
    "predicted_classes=[]\n",
    "for predicted_riesgo in predicted_classes2:\n",
    "    predicted_classes.append(predicted_riesgo.tolist().index(max(predicted_riesgo)))\n",
    "predicted_classes=np.array(predicted_classes)"
   ]
  },
  {
   "cell_type": "code",
   "execution_count": 408,
   "id": "270be2d7",
   "metadata": {},
   "outputs": [
    {
     "data": {
      "text/plain": [
       "((10262,), (10262,))"
      ]
     },
     "execution_count": 408,
     "metadata": {},
     "output_type": "execute_result"
    }
   ],
   "source": [
    "predicted_classes.shape, test_Y.shape"
   ]
  },
  {
   "cell_type": "code",
   "execution_count": 409,
   "id": "61e3582c",
   "metadata": {},
   "outputs": [
    {
     "name": "stdout",
     "output_type": "stream",
     "text": [
      "Found 9124 correct labels\n"
     ]
    }
   ],
   "source": [
    "correct = np.where(predicted_classes==test_Y)[0]\n",
    "print(\"Found %d correct labels\" % len(correct))\n",
    "for i, correct in enumerate(correct[0:9]):\n",
    "    plt.subplot(3,3,i+1)\n",
    "    plt.imshow(test_X[correct].reshape(32,32,3), cmap='gray', interpolation='none')\n",
    "    plt.title(\"{}, {}\".format(sriesgos[predicted_classes[correct]],\n",
    "                                                    sriesgos[test_Y[correct]]))\n",
    "\n",
    "    plt.tight_layout()"
   ]
  },
  {
   "cell_type": "code",
   "execution_count": 410,
   "id": "fa18a7ea",
   "metadata": {},
   "outputs": [
    {
     "name": "stdout",
     "output_type": "stream",
     "text": [
      "Found 1138 incorrect labels\n"
     ]
    }
   ],
   "source": [
    "incorrect = np.where(predicted_classes!=test_Y)[0]\n",
    "print(\"Found %d incorrect labels\" % len(incorrect))\n",
    "for i, incorrect in enumerate(incorrect[0:9]):\n",
    "    plt.subplot(3,3,i+1)\n",
    "    plt.imshow(test_X[incorrect].reshape(32,32,3), cmap='gray', interpolation='none')\n",
    "    plt.title(\"{}, {}\".format(sriesgos[predicted_classes[incorrect]],\n",
    "                                                    sriesgos[test_Y[incorrect]]))\n",
    "    plt.tight_layout()"
   ]
  },
  {
   "cell_type": "code",
   "execution_count": 411,
   "id": "7836cb99",
   "metadata": {},
   "outputs": [
    {
     "name": "stdout",
     "output_type": "stream",
     "text": [
      "              precision    recall  f1-score   support\n",
      "\n",
      "     Class 0       0.90      0.95      0.92      2064\n",
      "     Class 1       0.88      0.89      0.88      1992\n",
      "     Class 2       0.89      0.89      0.89      2077\n",
      "     Class 3       0.89      0.83      0.86      2046\n",
      "     Class 4       0.88      0.89      0.88      2083\n",
      "\n",
      "    accuracy                           0.89     10262\n",
      "   macro avg       0.89      0.89      0.89     10262\n",
      "weighted avg       0.89      0.89      0.89     10262\n",
      "\n"
     ]
    }
   ],
   "source": [
    "target_names = [\"Class {}\".format(i) for i in range(nClasses)]\n",
    "print(classification_report(test_Y, predicted_classes, target_names=target_names))"
   ]
  },
  {
   "cell_type": "code",
   "execution_count": 484,
   "id": "d654fde2",
   "metadata": {},
   "outputs": [
    {
     "name": "stdout",
     "output_type": "stream",
     "text": [
      "\u001b[1m1/1\u001b[0m \u001b[32m━━━━━━━━━━━━━━━━━━━━\u001b[0m\u001b[37m\u001b[0m \u001b[1m0s\u001b[0m 33ms/step\n",
      "C:\\Users\\marti\\Documents\\Decimo Semeste\\IA\\IA - Github\\Proyecto 3\\Imagenes de prueba\\M6.jpg 1_Tsuro\n"
     ]
    }
   ],
   "source": [
    "from skimage.transform import resize\n",
    "\n",
    "images=[]\n",
    "# AQUI ESPECIFICAMOS UNAS IMAGENES\n",
    "filenames = ['C:\\\\Users\\\\marti\\\\Documents\\\\Decimo Semeste\\\\IA\\\\IA - Github\\\\Proyecto 3\\\\Imagenes de prueba\\\\M6.jpg']\n",
    "\n",
    "for filepath in filenames:\n",
    "    image = plt.imread(filepath,0)\n",
    "    image_resized = resize(image, (32, 32),anti_aliasing=True,clip=False,preserve_range=True)\n",
    "    images.append(image_resized)\n",
    "\n",
    "X = np.array(images, dtype=np.uint8) #convierto de lista a numpy\n",
    "test_X = X.astype('float32')\n",
    "test_X = test_X / 255.\n",
    "\n",
    "predicted_classes = riesgo_model.predict(test_X)\n",
    "\n",
    "for i, img_tagged in enumerate(predicted_classes):\n",
    "    print(filenames[i], sriesgos[img_tagged.tolist().index(max(img_tagged))])"
   ]
  },
  {
   "cell_type": "code",
   "execution_count": 547,
   "id": "af7ea5d3",
   "metadata": {},
   "outputs": [
    {
     "name": "stderr",
     "output_type": "stream",
     "text": [
      "WARNING:absl:Compiled the loaded model, but the compiled metrics have yet to be built. `model.compile_metrics` will be empty until you train or evaluate the model.\n"
     ]
    },
    {
     "name": "stdout",
     "output_type": "stream",
     "text": [
      "\u001b[1m1/1\u001b[0m \u001b[32m━━━━━━━━━━━━━━━━━━━━\u001b[0m\u001b[37m\u001b[0m \u001b[1m0s\u001b[0m 112ms/step\n",
      "C:\\Users\\marti\\Documents\\Decimo Semeste\\IA\\IA - Github\\Proyecto 3\\Imagenes de prueba\\T2.jpg 1_Tsuro\n"
     ]
    }
   ],
   "source": [
    "import numpy as np\n",
    "import matplotlib.pyplot as plt\n",
    "from skimage.transform import resize\n",
    "from keras.models import load_model\n",
    "\n",
    "# Cargar el modelo h5\n",
    "modelo_h5 = 'C:\\\\Users\\\\marti\\\\Documents\\\\Decimo Semeste\\\\IA\\\\IA - Github\\\\Proyecto 3\\\\dataset\\\\riesgo.h5'\n",
    "\n",
    "riesgo_model = load_model(modelo_h5)\n",
    "\n",
    "images = []\n",
    "# AQUI ESPECIFICAMOS UNAS IMAGENES\n",
    "filenames = ['C:\\\\Users\\\\marti\\\\Documents\\\\Decimo Semeste\\\\IA\\\\IA - Github\\\\Proyecto 3\\\\Imagenes de prueba\\\\T2.jpg']\n",
    "\n",
    "for filepath in filenames:\n",
    "    image = plt.imread(filepath)\n",
    "    image_resized = resize(image, (32, 32), anti_aliasing=True, clip=False, preserve_range=True)\n",
    "    images.append(image_resized)\n",
    "\n",
    "X = np.array(images, dtype=np.uint8)  # Convierto de lista a numpy\n",
    "test_X = X.astype('float32')\n",
    "test_X = test_X / 255.\n",
    "\n",
    "predicted_classes = riesgo_model.predict(test_X)\n",
    "\n",
    "# Asegúrate de tener una lista de etiquetas o categorías en 'sriesgos'\n",
    "sriesgos = ['1_Tsuro', '2_Vocho', '3_Mustang', '4_MiniBan', '5_Camioneta_Lobo']  # Reemplaza con tus etiquetas reales\n",
    "\n",
    "for i, img_tagged in enumerate(predicted_classes):\n",
    "    print(filenames[i], sriesgos[np.argmax(img_tagged)])"
   ]
  },
  {
   "cell_type": "code",
   "execution_count": null,
   "id": "42ac5d02",
   "metadata": {},
   "outputs": [],
   "source": []
  },
  {
   "cell_type": "code",
   "execution_count": null,
   "id": "387d25a4-dda8-4a28-ab3e-01f620e15744",
   "metadata": {},
   "outputs": [],
   "source": []
  }
 ],
 "metadata": {
  "kernelspec": {
   "display_name": "Python 3 (ipykernel)",
   "language": "python",
   "name": "python3"
  },
  "language_info": {
   "codemirror_mode": {
    "name": "ipython",
    "version": 3
   },
   "file_extension": ".py",
   "mimetype": "text/x-python",
   "name": "python",
   "nbconvert_exporter": "python",
   "pygments_lexer": "ipython3",
   "version": "3.12.5"
  }
 },
 "nbformat": 4,
 "nbformat_minor": 5
}
